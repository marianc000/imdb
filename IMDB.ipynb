{
  "cells": [
    {
      "cell_type": "code",
      "execution_count": 1,
      "id": "1536c3ca-b578-4bf3-b781-5fd764009d4f",
      "metadata": {
        "id": "1536c3ca-b578-4bf3-b781-5fd764009d4f",
        "tags": []
      },
      "outputs": [],
      "source": [
        "import os\n",
        "import re\n",
        "import shutil\n",
        "import string\n",
        "import time\n",
        "import tensorflow as tf\n",
        "from tensorflow.keras import layers\n",
        "from tensorflow.keras import losses\n",
        "from tensorflow.keras import Sequential\n",
        "from tensorflow import keras\n",
        "import matplotlib.pyplot as plt"
      ]
    },
    {
      "cell_type": "code",
      "source": [
        "import tensorflow_hub as hub"
      ],
      "metadata": {
        "id": "qAnftbjPlEkC"
      },
      "id": "qAnftbjPlEkC",
      "execution_count": 2,
      "outputs": []
    },
    {
      "cell_type": "code",
      "execution_count": 3,
      "id": "486EBj01Cyxl",
      "metadata": {
        "id": "486EBj01Cyxl",
        "colab": {
          "base_uri": "https://localhost:8080/"
        },
        "outputId": "4a7cf5cc-f349-414d-a149-25614f476a3f"
      },
      "outputs": [
        {
          "output_type": "stream",
          "name": "stdout",
          "text": [
            "\u001b[2K     \u001b[90m━━━━━━━━━━━━━━━━━━━━━━━━━━━━━━━━━━━━━━\u001b[0m \u001b[32m527.7/527.7 kB\u001b[0m \u001b[31m20.1 MB/s\u001b[0m eta \u001b[36m0:00:00\u001b[0m\n",
            "\u001b[2K     \u001b[90m━━━━━━━━━━━━━━━━━━━━━━━━━━━━━━━━━━━━━━━━\u001b[0m \u001b[32m6.0/6.0 MB\u001b[0m \u001b[31m96.9 MB/s\u001b[0m eta \u001b[36m0:00:00\u001b[0m\n",
            "\u001b[?25h"
          ]
        }
      ],
      "source": [
        "!pip install -q --upgrade keras-nlp"
      ]
    },
    {
      "cell_type": "code",
      "execution_count": 4,
      "id": "3a8eeb06-9a44-4107-9035-72ca3f88c668",
      "metadata": {
        "id": "3a8eeb06-9a44-4107-9035-72ca3f88c668",
        "tags": []
      },
      "outputs": [],
      "source": [
        "import keras_nlp"
      ]
    },
    {
      "cell_type": "code",
      "execution_count": 5,
      "id": "59561955-61c4-4a12-9820-c6445e1022f8",
      "metadata": {
        "id": "59561955-61c4-4a12-9820-c6445e1022f8",
        "tags": [],
        "colab": {
          "base_uri": "https://localhost:8080/"
        },
        "outputId": "f9aa66ec-6b98-4e34-d3a7-6b4f3fb355a4"
      },
      "outputs": [
        {
          "output_type": "stream",
          "name": "stdout",
          "text": [
            "Downloading data from https://ai.stanford.edu/~amaas/data/sentiment/aclImdb_v1.tar.gz\n",
            "84125825/84125825 [==============================] - 8s 0us/step\n"
          ]
        }
      ],
      "source": [
        "url = \"https://ai.stanford.edu/~amaas/data/sentiment/aclImdb_v1.tar.gz\"\n",
        "\n",
        "dataset = tf.keras.utils.get_file(\"aclImdb_v1\", url,\n",
        "                                    untar=True, cache_dir='.',\n",
        "                                    cache_subdir='')\n",
        "\n",
        "dataset_dir = os.path.join(os.path.dirname(dataset), 'aclImdb')\n",
        "#dataset_dir =\"C:\\\\TEMP\\\\IMDB\\\\aclImdb\""
      ]
    },
    {
      "cell_type": "code",
      "execution_count": 6,
      "id": "fd0c86c1-c6ad-4fce-b4c1-48e5e305e538",
      "metadata": {
        "colab": {
          "base_uri": "https://localhost:8080/"
        },
        "id": "fd0c86c1-c6ad-4fce-b4c1-48e5e305e538",
        "outputId": "335eb32c-c0ab-4f84-b00d-e3f9db111edc",
        "tags": []
      },
      "outputs": [
        {
          "output_type": "stream",
          "name": "stdout",
          "text": [
            "./aclImdb/train\n"
          ]
        }
      ],
      "source": [
        "train_dir = os.path.join(dataset_dir, 'train')\n",
        "os.listdir(train_dir)\n",
        "print(train_dir)"
      ]
    },
    {
      "cell_type": "code",
      "execution_count": 7,
      "id": "e7a467e3-7a42-4e4c-9cbd-efd6725b138e",
      "metadata": {
        "id": "e7a467e3-7a42-4e4c-9cbd-efd6725b138e",
        "tags": []
      },
      "outputs": [],
      "source": [
        "remove_dir = os.path.join(train_dir, 'unsup')\n",
        "shutil.rmtree(remove_dir)"
      ]
    },
    {
      "cell_type": "code",
      "execution_count": 8,
      "id": "eadd0676-ec70-49d2-9de0-22339ee3a026",
      "metadata": {
        "colab": {
          "base_uri": "https://localhost:8080/"
        },
        "id": "eadd0676-ec70-49d2-9de0-22339ee3a026",
        "outputId": "970f1a32-bdf1-4b3e-8c9b-038859c30a7e",
        "tags": []
      },
      "outputs": [
        {
          "output_type": "stream",
          "name": "stdout",
          "text": [
            "Found 25000 files belonging to 2 classes.\n",
            "Using 20000 files for training.\n"
          ]
        }
      ],
      "source": [
        "batch_size = 32\n",
        "seed = 42\n",
        "\n",
        "raw_train_ds0 = tf.keras.utils.text_dataset_from_directory(\n",
        "    'aclImdb/train',\n",
        "    batch_size=None,\n",
        "    validation_split=0.2,\n",
        "    subset='training',\n",
        "    seed=seed). batch(batch_size,drop_remainder=True)"
      ]
    },
    {
      "cell_type": "code",
      "source": [
        "raw_val_ds0 = tf.keras.utils.text_dataset_from_directory(\n",
        "    'aclImdb/train',\n",
        "    batch_size=None,\n",
        "    validation_split=0.2,\n",
        "    subset='validation',\n",
        "    seed=seed). batch(batch_size,drop_remainder=True)"
      ],
      "metadata": {
        "colab": {
          "base_uri": "https://localhost:8080/"
        },
        "id": "eaj-hKwXrcrO",
        "outputId": "f195aa83-12a0-45ff-fceb-a45717f9cf74"
      },
      "id": "eaj-hKwXrcrO",
      "execution_count": 9,
      "outputs": [
        {
          "output_type": "stream",
          "name": "stdout",
          "text": [
            "Found 25000 files belonging to 2 classes.\n",
            "Using 5000 files for validation.\n"
          ]
        }
      ]
    },
    {
      "cell_type": "code",
      "execution_count": null,
      "id": "609083ad-116d-4192-97ad-9b51ce4f5ec4",
      "metadata": {
        "id": "609083ad-116d-4192-97ad-9b51ce4f5ec4",
        "outputId": "89b6bcc2-f85d-4d8e-8318-e2271a419bcc",
        "tags": [],
        "colab": {
          "base_uri": "https://localhost:8080/"
        }
      },
      "outputs": [
        {
          "output_type": "stream",
          "name": "stdout",
          "text": [
            "Number of batches in raw_train_ds: 625\n",
            "Number of batches in raw_val_ds: 156\n"
          ]
        }
      ],
      "source": [
        "print(f\"Number of batches in raw_train_ds: {raw_train_ds0.cardinality()}\")\n",
        "print(f\"Number of batches in raw_val_ds: {raw_val_ds0.cardinality()}\")"
      ]
    },
    {
      "cell_type": "code",
      "execution_count": null,
      "id": "f434fcbb-9ac6-4ba5-87e6-70960bb2531e",
      "metadata": {
        "collapsed": true,
        "id": "f434fcbb-9ac6-4ba5-87e6-70960bb2531e",
        "jupyter": {
          "outputs_hidden": true
        },
        "outputId": "0cb5f536-f715-46df-f4b3-86432cc75139",
        "tags": [],
        "colab": {
          "base_uri": "https://localhost:8080/"
        }
      },
      "outputs": [
        {
          "output_type": "stream",
          "name": "stdout",
          "text": [
            "32\n",
            "b\"Having seen most of Ringo Lam's films, I can say that this is his best film to date, and the most unusual. It's a ancient china period piece cranked full of kick-ass martial arts, where the location of an underground lair full of traps and dungeons plays as big a part as any of the characters. The action is fantastic, the story is tense and entertaining, and the set design is truely memorable. Sadly, Burning Paradise has not been made available on DVD and vhs is next-to-impossible to get your mitts on, even if you near the second biggest china-town in North America (like I do). If you can find it, don't pass it up.\"\n",
            "1\n",
            "b'Caution: May contain spoilers...<br /><br />I\\'ve seen this movie 3 times & I\\'ve liked it every time. Upon seeing it again, I\\'m always reminded of how good it is. An HBO TV movie- very well done like most of their movies are- this would\\'ve gotten Oscars for it\\'s performances had it been released for general distribution instead of made for TV.<br /><br />As I\\'m sure anyone knows from reading other reviews here, this is the story of serial murderer, Andrei Chikatilo. He murdered 56 people over 8 years in the former Soviet Union. (3 victims were buried & couldn\\'t be found so he was only convicted of 52 out of 53 of his murders.) The story actually focuses more on the forensic analyst, Victor Burakov played to perfection by Stephen Rea. A man that becomes tortured and obsessed with finding this killer despite the additional obstacles placed by party hacks, his part is essential to be sure. There is a very touching scene towards the end of the movie that mentions how in America, investigators are routinely taken off serial killer cases after 18 months whether they want to or not due to the mental strain & frustration. According to this acct, Burakov worked for over 5 years before getting his first break from it. He followed the case to its conclusion, 3 years later. In this scene, his superior, General Fetisov, played by Donald Sutherland, actually tells him he admires his dedication and apologizes for not knowing he should\\'ve given him a break sooner.<br /><br />Rea\\'s performance is so well done, he doesn\\'t overact, chew up the scenery or do anything that distracts from his portrayal of a man who is hell bent on finding his killer. He is a man with passion, but doesn\\'t show it in the same manner as is so usually portrayed in detective movies. He only occasionally gives outbursts after quietly putting up with more than most could stand under such circumstances. Rea does so much with his face, his eyes, he doesn\\'t need to overact. He just *is* - His character, so frustrated after so long, at one point, driven to frustration, he actually says he\\'d rather find 3 at one time than none in a year. Of course what he means is not that he wants more people to die, he just wants some clues to catch this man. Rea makes us feel for this man. He makes us understand but a glimpse of what it is to live with such horror and futility.<br /><br />A mutant to be sure, Chikatilo\\'s childhood was one which produces such \"monsters.\" The character of Chikatilo is very well done by Jeffrey DeMunn. He somehow (impossible though it may seem) elicits some modicum of sympathy for himself. Perhaps he is the worst of us gone terribly wrong? Either way, his performance is very well done.<br /><br />Donald Sutherland as Colonel Fetisov (later promoted to General) also does a great job. He starts out seeming to be a cynical worldly official that doesn\\'t seem much more interested in helping the investigation than anyone else blocking Burakov. But he eventually becomes more than just an assistant, he actually actively participates in helping Burakov. There is also a very nice turn by Max Von Sydow as the psychiatrist brought in to help profile and figure out what kind of deviant they are looking for.<br /><br />Although this movie deals with a morbid, grotesque and violent story, it really is more about what it takes to catch a killer than the killer himself. All around a very well done movie with fine performances and a great screenplay. The screenplay manages to do what the best of this type of movie does: give factual events & place them meaningfully inside a dramatic framework that makes you feel like you know the people *behind* the facts.<br /><br />9 out of 10 stars'\n",
            "1\n",
            "b\"from the view of a NASCAR Maniac like I am, the movie is interesting. You can see many race cars from 1983. Even tough, the racing scenes are not that much realistic. But I have to admit, that I haven't seen any race before 1995, because before that time, they didn't show any NASCAR races in Germany)<br /><br />from the view of a Burt Reynolds fan like I am, the movie basically is what we are used to see from Reynolds in the 80's: Burt behind the wheel of a fast car, like in his Bandit Movies.<br /><br />If you love NASCAR and Burt Reynolds, this movie is a must-see. If you only love one of this 2 things, I also recommend to watch it. If you like neither NASCAR nor Burt Reynolds, you still should give it a chance, but remember, this movie was far away from winning an Oscar Academy Award.<br /><br />It is the typical humor of the 80's. If you like movies like the Cannonball Movies, and Police Academy, you will also like that one.\"\n",
            "1\n",
            "b'When it first came out, this work by the Meysels brothers was much criticized and even judged to be exploitation. Luckily, it is now hailed as a masterpiece of documentary cinema, especially now that society has been exposed to real exploitation in what is reality television, and the bad evolution of most direct cinema.<br /><br />Really, at first, we must say that this isn\\'t really direct cinema, it is more cinema verit\\xc3\\xa9. The difference between the two is very slight, but it mainly is the fact that in this documentary, we are made to feel the presence of the Meysels brothers, and they do interact with the characters filmed. This as well makes it clear that it is not exploitation. The Meysels have been allowed in the house, and they are included in what is a very eccentric situation of a very eccentric household. And both Edith and Edie just love the idea of being filmed.<br /><br />It would have been very disappointing had very been shown only a voice of God narration and shallow interviews. Here, we are given a full portrait of the madness of the house, a madness that does seem to go down well with both Edie and her mother Edith. Their house is a mess, litter and animals everywhere, faded colors and furniture all over the house, and the constant fights that are constant interactions of reality. These two people have lived with each other their whole life, and are not fighting in front of the camera because they want the attention, but rather because they can\\'t help talking to each other this way. They know each other too well to hide their inner feelings, there is no need. In the end, though, even as they blame each other for their lives, they really love each other deeply. Edie says she doesn\\'t want her mother to die, because she loves her very much, and Edith says that she doesn\\'t want Edie to leave her because she doesn\\'t want to be alone.<br /><br />But the most interesting aspect of the film is that regardless of their old age, the two women can\\'t help be girls. They cannot help being one the singer, the other the dancer. Exhibit all their artistic skills in front of their camera. When Edie asks David Meysels rhetorically \"Where have you been all my life?\" she is really very happy that she finally gets to show the whole world herself and her wonderful showgirls skills. A beautiful portrait of stylistic importance and a charm that is highly unlikely to be ever seen again, the way only the Meysels and few others could do.'\n",
            "1\n",
            "b\"I thought that this was an absolutely charming movie centering around the lives of Mary-Kate's and Ashley's characters Sam and Emma Stanton! They are both trying to make both themselves and their parents happy but; unfortunately, it's just not that easy for them to actually do! I thought that this was an utterly charming and sweet movie and if you are a real fan of these marvelous young ladies then I'm sure that you'll agree with me here! If you haven't seen this movie yet then I say you really missed-out; big time, and that you should definitely take the time out to see it now! This movie is a real winner! Sincerely, Rick Morris\"\n",
            "1\n"
          ]
        }
      ],
      "source": [
        "for text_batch, label_batch in raw_train_ds0.take(1):\n",
        "    print(len(text_batch))\n",
        "    for i in range(5):\n",
        "        print(text_batch.numpy()[i])\n",
        "        print(label_batch.numpy()[i])"
      ]
    },
    {
      "cell_type": "code",
      "execution_count": 10,
      "id": "d870d013-55ea-473e-9dca-d2af224384e7",
      "metadata": {
        "id": "d870d013-55ea-473e-9dca-d2af224384e7",
        "tags": []
      },
      "outputs": [],
      "source": [
        "def custom_standardization(input_data):\n",
        "  lowercase = tf.strings.lower(input_data)\n",
        "  stripped_html = tf.strings.regex_replace(lowercase, '<br />', ' ')\n",
        "  return tf.strings.regex_replace(stripped_html,\n",
        "                                  '[%s]' % re.escape(string.punctuation),'')"
      ]
    },
    {
      "cell_type": "code",
      "execution_count": 11,
      "id": "ad7e9810-c73f-4c39-a49e-e8310f424c96",
      "metadata": {
        "id": "ad7e9810-c73f-4c39-a49e-e8310f424c96",
        "tags": []
      },
      "outputs": [],
      "source": [
        "raw_train_ds = raw_train_ds0.map(lambda x, y: (custom_standardization(x), y))\n",
        "raw_val_ds = raw_val_ds0.map(lambda x, y: (custom_standardization(x), y))"
      ]
    },
    {
      "cell_type": "code",
      "execution_count": null,
      "id": "bbba22e7-d020-4298-82dc-d5ff06b90517",
      "metadata": {
        "colab": {
          "base_uri": "https://localhost:8080/"
        },
        "id": "bbba22e7-d020-4298-82dc-d5ff06b90517",
        "outputId": "9b24db8e-d1d7-47fa-b7f3-a4f6a8be1856",
        "tags": []
      },
      "outputs": [
        {
          "output_type": "stream",
          "name": "stdout",
          "text": [
            "Number of batches in raw_train_ds: 625\n",
            "Number of batches in raw_val_ds: 157\n"
          ]
        }
      ],
      "source": [
        "print(f\"Number of batches in raw_train_ds: {raw_train_ds.cardinality()}\")\n",
        "print(f\"Number of batches in raw_val_ds: {raw_val_ds.cardinality()}\")"
      ]
    },
    {
      "cell_type": "code",
      "execution_count": 12,
      "id": "da4bf9fd-1fd6-4a11-adad-05353ca17927",
      "metadata": {
        "id": "da4bf9fd-1fd6-4a11-adad-05353ca17927",
        "tags": []
      },
      "outputs": [],
      "source": [
        "max_features = 10000\n",
        "sequence_length = 250\n",
        "\n",
        "vectorize_layer = layers.TextVectorization(\n",
        "    standardize=None,\n",
        "    max_tokens=max_features,\n",
        "    output_mode='int',\n",
        "    output_sequence_length=sequence_length)"
      ]
    },
    {
      "cell_type": "code",
      "execution_count": 13,
      "id": "2362f13b-a050-47ee-8661-aec86fb60f83",
      "metadata": {
        "id": "2362f13b-a050-47ee-8661-aec86fb60f83",
        "tags": []
      },
      "outputs": [],
      "source": [
        "train_text = raw_train_ds.map(lambda x, y: x)\n",
        "vectorize_layer.adapt(train_text)"
      ]
    },
    {
      "cell_type": "code",
      "execution_count": 14,
      "id": "44b96326-c47a-4222-8189-93aa5c55fc57",
      "metadata": {
        "id": "44b96326-c47a-4222-8189-93aa5c55fc57",
        "tags": []
      },
      "outputs": [],
      "source": [
        "def vectorize_text(text, label):\n",
        "  text = tf.expand_dims(text, -1)\n",
        "  return vectorize_layer(text), label"
      ]
    },
    {
      "cell_type": "code",
      "execution_count": 15,
      "id": "3d8677c5-df5b-4ab7-9958-06ca019877a2",
      "metadata": {
        "id": "3d8677c5-df5b-4ab7-9958-06ca019877a2",
        "tags": []
      },
      "outputs": [],
      "source": [
        "train_ds = raw_train_ds.map(vectorize_text)\n",
        "val_ds = raw_val_ds.map(vectorize_text)"
      ]
    },
    {
      "cell_type": "code",
      "execution_count": 16,
      "id": "64134d0e-4e89-48b8-9d39-c96427993c4a",
      "metadata": {
        "id": "64134d0e-4e89-48b8-9d39-c96427993c4a",
        "tags": []
      },
      "outputs": [],
      "source": [
        "embeddingDimensions = 16\n",
        "vocablaryLength=len(vectorize_layer.get_vocabulary())"
      ]
    },
    {
      "cell_type": "code",
      "execution_count": 17,
      "id": "Ml6OBDKPa7ox",
      "metadata": {
        "id": "Ml6OBDKPa7ox",
        "tags": []
      },
      "outputs": [],
      "source": [
        "def compileAndFit(train_ds,val_ds, getModel,learning_rate):\n",
        "\n",
        "    results=[]\n",
        "    for attempt in range(3):\n",
        "        model=getModel()\n",
        "\n",
        "        s = time.time()\n",
        "\n",
        "        model.compile(loss=losses.BinaryCrossentropy(from_logits=True),\n",
        "              optimizer=tf.keras.optimizers.Adam(learning_rate),\n",
        "              metrics=tf.metrics.BinaryAccuracy(threshold=0.0))\n",
        "\n",
        "        #model.summary()\n",
        "\n",
        "        history = model.fit(    train_ds,    validation_data=val_ds,    epochs=1000, verbose=1,\n",
        "              callbacks=[tf.keras.callbacks.EarlyStopping(monitor='val_binary_accuracy', patience=5,mode='max',restore_best_weights=True)] )\n",
        "\n",
        "        secs=time.time()-s\n",
        "        lastEpoch=len(history.history['val_binary_accuracy'])\n",
        "\n",
        "        history_dict = history.history\n",
        "\n",
        "        loss, accuracy = model.evaluate(val_ds)\n",
        "        tloss, taccuracy = model.evaluate(train_ds)\n",
        "        results.append((secs,taccuracy,accuracy,lastEpoch))\n",
        "\n",
        "    print(\"\\t\".join(['Time,s','Training accuracy','Validation accuracy','Epochs']))\n",
        "    for row in results:\n",
        "        print(\"\\t\".join([str(round(row[0])),str(round(row[1], 3)),str(round(row[2], 3)),str( row[3] )  ]))\n"
      ]
    },
    {
      "cell_type": "markdown",
      "id": "64cad533-a232-4fea-8366-ab19d9927c7a",
      "metadata": {
        "id": "64cad533-a232-4fea-8366-ab19d9927c7a"
      },
      "source": [
        "# [Basic text classification](https://www.tensorflow.org/tutorials/keras/text_classification)"
      ]
    },
    {
      "cell_type": "code",
      "execution_count": null,
      "id": "b1a4ae06-33e0-4d40-aa07-1d63b4931d3b",
      "metadata": {
        "colab": {
          "base_uri": "https://localhost:8080/"
        },
        "id": "b1a4ae06-33e0-4d40-aa07-1d63b4931d3b",
        "jupyter": {
          "outputs_hidden": true
        },
        "outputId": "4addcc20-c960-4f4a-df29-e7aa75e4d9b5",
        "scrolled": true,
        "tags": []
      },
      "outputs": [
        {
          "output_type": "stream",
          "name": "stdout",
          "text": [
            "Epoch 1/1000\n",
            "625/625 [==============================] - 61s 95ms/step - loss: 0.6661 - binary_accuracy: 0.6922 - val_loss: 0.6175 - val_binary_accuracy: 0.7722\n",
            "Epoch 2/1000\n",
            "625/625 [==============================] - 19s 30ms/step - loss: 0.5499 - binary_accuracy: 0.8005 - val_loss: 0.5002 - val_binary_accuracy: 0.8207\n",
            "Epoch 3/1000\n",
            "625/625 [==============================] - 11s 18ms/step - loss: 0.4447 - binary_accuracy: 0.8457 - val_loss: 0.4212 - val_binary_accuracy: 0.8470\n",
            "Epoch 4/1000\n",
            "625/625 [==============================] - 8s 13ms/step - loss: 0.3785 - binary_accuracy: 0.8649 - val_loss: 0.3743 - val_binary_accuracy: 0.8580\n",
            "Epoch 5/1000\n",
            "625/625 [==============================] - 8s 13ms/step - loss: 0.3361 - binary_accuracy: 0.8792 - val_loss: 0.3464 - val_binary_accuracy: 0.8646\n",
            "Epoch 6/1000\n",
            "625/625 [==============================] - 8s 13ms/step - loss: 0.3051 - binary_accuracy: 0.8888 - val_loss: 0.3263 - val_binary_accuracy: 0.8712\n",
            "Epoch 7/1000\n",
            "625/625 [==============================] - 7s 11ms/step - loss: 0.2821 - binary_accuracy: 0.8963 - val_loss: 0.3136 - val_binary_accuracy: 0.8720\n",
            "Epoch 8/1000\n",
            "625/625 [==============================] - 7s 11ms/step - loss: 0.2619 - binary_accuracy: 0.9046 - val_loss: 0.3098 - val_binary_accuracy: 0.8730\n",
            "Epoch 9/1000\n",
            "625/625 [==============================] - 5s 8ms/step - loss: 0.2468 - binary_accuracy: 0.9099 - val_loss: 0.2986 - val_binary_accuracy: 0.8754\n",
            "Epoch 10/1000\n",
            "625/625 [==============================] - 6s 10ms/step - loss: 0.2330 - binary_accuracy: 0.9158 - val_loss: 0.2913 - val_binary_accuracy: 0.8792\n",
            "Epoch 11/1000\n",
            "625/625 [==============================] - 5s 8ms/step - loss: 0.2180 - binary_accuracy: 0.9210 - val_loss: 0.2901 - val_binary_accuracy: 0.8792\n",
            "Epoch 12/1000\n",
            "625/625 [==============================] - 7s 11ms/step - loss: 0.2075 - binary_accuracy: 0.9252 - val_loss: 0.2866 - val_binary_accuracy: 0.8802\n",
            "Epoch 13/1000\n",
            "625/625 [==============================] - 6s 10ms/step - loss: 0.1985 - binary_accuracy: 0.9301 - val_loss: 0.2872 - val_binary_accuracy: 0.8814\n",
            "Epoch 14/1000\n",
            "625/625 [==============================] - 7s 11ms/step - loss: 0.1878 - binary_accuracy: 0.9327 - val_loss: 0.2871 - val_binary_accuracy: 0.8818\n",
            "Epoch 15/1000\n",
            "625/625 [==============================] - 5s 8ms/step - loss: 0.1793 - binary_accuracy: 0.9376 - val_loss: 0.2868 - val_binary_accuracy: 0.8830\n",
            "Epoch 16/1000\n",
            "625/625 [==============================] - 6s 10ms/step - loss: 0.1708 - binary_accuracy: 0.9424 - val_loss: 0.2884 - val_binary_accuracy: 0.8828\n",
            "Epoch 17/1000\n",
            "625/625 [==============================] - 5s 9ms/step - loss: 0.1636 - binary_accuracy: 0.9434 - val_loss: 0.2938 - val_binary_accuracy: 0.8798\n",
            "Epoch 18/1000\n",
            "625/625 [==============================] - 5s 9ms/step - loss: 0.1548 - binary_accuracy: 0.9471 - val_loss: 0.2938 - val_binary_accuracy: 0.8806\n",
            "Epoch 19/1000\n",
            "625/625 [==============================] - 4s 7ms/step - loss: 0.1486 - binary_accuracy: 0.9499 - val_loss: 0.2972 - val_binary_accuracy: 0.8812\n",
            "Epoch 20/1000\n",
            "625/625 [==============================] - 6s 9ms/step - loss: 0.1422 - binary_accuracy: 0.9528 - val_loss: 0.2999 - val_binary_accuracy: 0.8806\n",
            "156/156 [==============================] - 1s 4ms/step - loss: 0.2871 - binary_accuracy: 0.8828\n",
            "625/625 [==============================] - 3s 4ms/step - loss: 0.1661 - binary_accuracy: 0.9437\n",
            "Epoch 1/1000\n",
            "625/625 [==============================] - 50s 77ms/step - loss: 0.6675 - binary_accuracy: 0.6908 - val_loss: 0.6204 - val_binary_accuracy: 0.7682\n",
            "Epoch 2/1000\n",
            "625/625 [==============================] - 16s 25ms/step - loss: 0.5545 - binary_accuracy: 0.7987 - val_loss: 0.5033 - val_binary_accuracy: 0.8211\n",
            "Epoch 3/1000\n",
            "625/625 [==============================] - 11s 17ms/step - loss: 0.4496 - binary_accuracy: 0.8411 - val_loss: 0.4239 - val_binary_accuracy: 0.8450\n",
            "Epoch 4/1000\n",
            "625/625 [==============================] - 9s 14ms/step - loss: 0.3818 - binary_accuracy: 0.8650 - val_loss: 0.3758 - val_binary_accuracy: 0.8604\n",
            "Epoch 5/1000\n",
            "625/625 [==============================] - 6s 10ms/step - loss: 0.3383 - binary_accuracy: 0.8784 - val_loss: 0.3485 - val_binary_accuracy: 0.8624\n",
            "Epoch 6/1000\n",
            "625/625 [==============================] - 7s 10ms/step - loss: 0.3075 - binary_accuracy: 0.8881 - val_loss: 0.3279 - val_binary_accuracy: 0.8716\n",
            "Epoch 7/1000\n",
            "625/625 [==============================] - 6s 9ms/step - loss: 0.2836 - binary_accuracy: 0.8961 - val_loss: 0.3153 - val_binary_accuracy: 0.8724\n",
            "Epoch 8/1000\n",
            "625/625 [==============================] - 6s 9ms/step - loss: 0.2650 - binary_accuracy: 0.9024 - val_loss: 0.3042 - val_binary_accuracy: 0.8746\n",
            "Epoch 9/1000\n",
            "625/625 [==============================] - 6s 9ms/step - loss: 0.2484 - binary_accuracy: 0.9089 - val_loss: 0.2977 - val_binary_accuracy: 0.8748\n",
            "Epoch 10/1000\n",
            "625/625 [==============================] - 6s 10ms/step - loss: 0.2335 - binary_accuracy: 0.9162 - val_loss: 0.2931 - val_binary_accuracy: 0.8778\n",
            "Epoch 11/1000\n",
            "625/625 [==============================] - 5s 8ms/step - loss: 0.2211 - binary_accuracy: 0.9203 - val_loss: 0.2895 - val_binary_accuracy: 0.8802\n",
            "Epoch 12/1000\n",
            "625/625 [==============================] - 6s 10ms/step - loss: 0.2106 - binary_accuracy: 0.9243 - val_loss: 0.2935 - val_binary_accuracy: 0.8758\n",
            "Epoch 13/1000\n",
            "625/625 [==============================] - 5s 8ms/step - loss: 0.1997 - binary_accuracy: 0.9297 - val_loss: 0.2863 - val_binary_accuracy: 0.8818\n",
            "Epoch 14/1000\n",
            "625/625 [==============================] - 4s 7ms/step - loss: 0.1902 - binary_accuracy: 0.9323 - val_loss: 0.2873 - val_binary_accuracy: 0.8818\n",
            "Epoch 15/1000\n",
            "625/625 [==============================] - 7s 11ms/step - loss: 0.1799 - binary_accuracy: 0.9384 - val_loss: 0.2865 - val_binary_accuracy: 0.8840\n",
            "Epoch 16/1000\n",
            "625/625 [==============================] - 5s 7ms/step - loss: 0.1718 - binary_accuracy: 0.9412 - val_loss: 0.2898 - val_binary_accuracy: 0.8824\n",
            "Epoch 17/1000\n",
            "625/625 [==============================] - 5s 8ms/step - loss: 0.1645 - binary_accuracy: 0.9438 - val_loss: 0.2914 - val_binary_accuracy: 0.8828\n",
            "Epoch 18/1000\n",
            "625/625 [==============================] - 5s 8ms/step - loss: 0.1576 - binary_accuracy: 0.9457 - val_loss: 0.2947 - val_binary_accuracy: 0.8818\n",
            "Epoch 19/1000\n",
            "625/625 [==============================] - 6s 10ms/step - loss: 0.1504 - binary_accuracy: 0.9492 - val_loss: 0.2956 - val_binary_accuracy: 0.8826\n",
            "Epoch 20/1000\n",
            "625/625 [==============================] - 5s 8ms/step - loss: 0.1437 - binary_accuracy: 0.9521 - val_loss: 0.3025 - val_binary_accuracy: 0.8798\n",
            "156/156 [==============================] - 1s 4ms/step - loss: 0.2877 - binary_accuracy: 0.8838\n",
            "625/625 [==============================] - 3s 4ms/step - loss: 0.1672 - binary_accuracy: 0.9438\n",
            "Epoch 1/1000\n",
            "625/625 [==============================] - 48s 75ms/step - loss: 0.6680 - binary_accuracy: 0.6994 - val_loss: 0.6199 - val_binary_accuracy: 0.7680\n",
            "Epoch 2/1000\n",
            "625/625 [==============================] - 15s 24ms/step - loss: 0.5534 - binary_accuracy: 0.7976 - val_loss: 0.5018 - val_binary_accuracy: 0.8179\n",
            "Epoch 3/1000\n",
            "625/625 [==============================] - 8s 12ms/step - loss: 0.4474 - binary_accuracy: 0.8427 - val_loss: 0.4222 - val_binary_accuracy: 0.8442\n",
            "Epoch 4/1000\n",
            "625/625 [==============================] - 13s 20ms/step - loss: 0.3806 - binary_accuracy: 0.8651 - val_loss: 0.3753 - val_binary_accuracy: 0.8588\n",
            "Epoch 5/1000\n",
            "625/625 [==============================] - 7s 11ms/step - loss: 0.3366 - binary_accuracy: 0.8780 - val_loss: 0.3465 - val_binary_accuracy: 0.8648\n",
            "Epoch 6/1000\n",
            "625/625 [==============================] - 7s 11ms/step - loss: 0.3066 - binary_accuracy: 0.8870 - val_loss: 0.3262 - val_binary_accuracy: 0.8716\n",
            "Epoch 7/1000\n",
            "625/625 [==============================] - 5s 9ms/step - loss: 0.2838 - binary_accuracy: 0.8956 - val_loss: 0.3130 - val_binary_accuracy: 0.8740\n",
            "Epoch 8/1000\n",
            "625/625 [==============================] - 6s 9ms/step - loss: 0.2635 - binary_accuracy: 0.9048 - val_loss: 0.3045 - val_binary_accuracy: 0.8756\n",
            "Epoch 9/1000\n",
            "625/625 [==============================] - 6s 10ms/step - loss: 0.2483 - binary_accuracy: 0.9097 - val_loss: 0.2974 - val_binary_accuracy: 0.8764\n",
            "Epoch 10/1000\n",
            "625/625 [==============================] - 6s 9ms/step - loss: 0.2343 - binary_accuracy: 0.9135 - val_loss: 0.2933 - val_binary_accuracy: 0.8778\n",
            "Epoch 11/1000\n",
            "625/625 [==============================] - 6s 9ms/step - loss: 0.2213 - binary_accuracy: 0.9197 - val_loss: 0.2899 - val_binary_accuracy: 0.8786\n",
            "Epoch 12/1000\n",
            "625/625 [==============================] - 5s 7ms/step - loss: 0.2089 - binary_accuracy: 0.9237 - val_loss: 0.2896 - val_binary_accuracy: 0.8790\n",
            "Epoch 13/1000\n",
            "625/625 [==============================] - 6s 10ms/step - loss: 0.1999 - binary_accuracy: 0.9281 - val_loss: 0.2867 - val_binary_accuracy: 0.8812\n",
            "Epoch 14/1000\n",
            "625/625 [==============================] - 7s 11ms/step - loss: 0.1897 - binary_accuracy: 0.9324 - val_loss: 0.2869 - val_binary_accuracy: 0.8818\n",
            "Epoch 15/1000\n",
            "625/625 [==============================] - 5s 8ms/step - loss: 0.1814 - binary_accuracy: 0.9366 - val_loss: 0.2873 - val_binary_accuracy: 0.8816\n",
            "Epoch 16/1000\n",
            "625/625 [==============================] - 5s 7ms/step - loss: 0.1732 - binary_accuracy: 0.9413 - val_loss: 0.2895 - val_binary_accuracy: 0.8820\n",
            "Epoch 17/1000\n",
            "625/625 [==============================] - 6s 10ms/step - loss: 0.1656 - binary_accuracy: 0.9434 - val_loss: 0.2917 - val_binary_accuracy: 0.8836\n",
            "Epoch 18/1000\n",
            "625/625 [==============================] - 4s 7ms/step - loss: 0.1570 - binary_accuracy: 0.9470 - val_loss: 0.2938 - val_binary_accuracy: 0.8826\n",
            "Epoch 19/1000\n",
            "625/625 [==============================] - 6s 9ms/step - loss: 0.1511 - binary_accuracy: 0.9481 - val_loss: 0.2970 - val_binary_accuracy: 0.8822\n",
            "Epoch 20/1000\n",
            "625/625 [==============================] - 5s 8ms/step - loss: 0.1451 - binary_accuracy: 0.9527 - val_loss: 0.2998 - val_binary_accuracy: 0.8816\n",
            "Epoch 21/1000\n",
            "625/625 [==============================] - 5s 8ms/step - loss: 0.1376 - binary_accuracy: 0.9536 - val_loss: 0.3041 - val_binary_accuracy: 0.8792\n",
            "Epoch 22/1000\n",
            "625/625 [==============================] - 5s 8ms/step - loss: 0.1328 - binary_accuracy: 0.9567 - val_loss: 0.3073 - val_binary_accuracy: 0.8810\n",
            "156/156 [==============================] - 1s 4ms/step - loss: 0.2914 - binary_accuracy: 0.8838\n",
            "625/625 [==============================] - 3s 4ms/step - loss: 0.1522 - binary_accuracy: 0.9493\n",
            "Time,s\tTraining accuracy\tValidation accuracy\tEpochs\n",
            "235\t0.944\t0.883\t20\n",
            "192\t0.944\t0.884\t20\n",
            "213\t0.949\t0.884\t22\n"
          ]
        }
      ],
      "source": [
        "compileAndFit(train_ds,val_ds,lambda:Sequential([\n",
        "      layers.Embedding(vocablaryLength, 16),\n",
        "      layers.Dropout(0.2),\n",
        "      layers.GlobalAveragePooling1D(),\n",
        "      layers.Dropout(0.2),\n",
        "      layers.Dense(1)]),0.001)"
      ]
    },
    {
      "cell_type": "markdown",
      "id": "7c702e39-6025-4455-813f-b5623f3952c2",
      "metadata": {
        "id": "7c702e39-6025-4455-813f-b5623f3952c2"
      },
      "source": [
        "# [Visualizing Data using the Embedding Projector in TensorBoard](https://www.tensorflow.org/tensorboard/tensorboard_projector_plugin)\n",
        "# [Word embeddings](https://www.tensorflow.org/text/guide/word_embeddings)\n",
        "# [Graph regularization for sentiment classification using synthesized graphs](https://www.tensorflow.org/neural_structured_learning/tutorials/graph_keras_lstm_imdb)"
      ]
    },
    {
      "cell_type": "code",
      "execution_count": null,
      "id": "4251484a-2145-402c-8e31-9ae663241ca3",
      "metadata": {
        "jupyter": {
          "outputs_hidden": true
        },
        "id": "4251484a-2145-402c-8e31-9ae663241ca3",
        "outputId": "c1c15efa-4a7a-409e-ab93-899c42acfc68",
        "colab": {
          "base_uri": "https://localhost:8080/"
        }
      },
      "outputs": [
        {
          "output_type": "stream",
          "name": "stdout",
          "text": [
            "Epoch 1/1000\n",
            "625/625 [==============================] - 48s 76ms/step - loss: 0.5808 - binary_accuracy: 0.7377 - val_loss: 0.4078 - val_binary_accuracy: 0.8440\n",
            "Epoch 2/1000\n",
            "625/625 [==============================] - 17s 26ms/step - loss: 0.3221 - binary_accuracy: 0.8788 - val_loss: 0.3087 - val_binary_accuracy: 0.8736\n",
            "Epoch 3/1000\n",
            "625/625 [==============================] - 11s 17ms/step - loss: 0.2473 - binary_accuracy: 0.9053 - val_loss: 0.2945 - val_binary_accuracy: 0.8774\n",
            "Epoch 4/1000\n",
            "625/625 [==============================] - 9s 14ms/step - loss: 0.2071 - binary_accuracy: 0.9233 - val_loss: 0.2957 - val_binary_accuracy: 0.8774\n",
            "Epoch 5/1000\n",
            "625/625 [==============================] - 6s 9ms/step - loss: 0.1770 - binary_accuracy: 0.9366 - val_loss: 0.2940 - val_binary_accuracy: 0.8794\n",
            "Epoch 6/1000\n",
            "625/625 [==============================] - 8s 12ms/step - loss: 0.1531 - binary_accuracy: 0.9467 - val_loss: 0.3040 - val_binary_accuracy: 0.8776\n",
            "Epoch 7/1000\n",
            "625/625 [==============================] - 6s 9ms/step - loss: 0.1331 - binary_accuracy: 0.9560 - val_loss: 0.3195 - val_binary_accuracy: 0.8772\n",
            "Epoch 8/1000\n",
            "625/625 [==============================] - 7s 11ms/step - loss: 0.1155 - binary_accuracy: 0.9632 - val_loss: 0.3383 - val_binary_accuracy: 0.8786\n",
            "Epoch 9/1000\n",
            "625/625 [==============================] - 4s 7ms/step - loss: 0.1000 - binary_accuracy: 0.9697 - val_loss: 0.3600 - val_binary_accuracy: 0.8762\n",
            "Epoch 10/1000\n",
            "625/625 [==============================] - 6s 9ms/step - loss: 0.0864 - binary_accuracy: 0.9747 - val_loss: 0.3877 - val_binary_accuracy: 0.8742\n",
            "156/156 [==============================] - 1s 7ms/step - loss: 0.2943 - binary_accuracy: 0.8792\n",
            "625/625 [==============================] - 3s 4ms/step - loss: 0.1482 - binary_accuracy: 0.9516\n",
            "Epoch 1/1000\n",
            "625/625 [==============================] - 50s 78ms/step - loss: 0.5564 - binary_accuracy: 0.7438 - val_loss: 0.3704 - val_binary_accuracy: 0.8544\n",
            "Epoch 2/1000\n",
            "625/625 [==============================] - 18s 28ms/step - loss: 0.3014 - binary_accuracy: 0.8817 - val_loss: 0.3013 - val_binary_accuracy: 0.8744\n",
            "Epoch 3/1000\n",
            "625/625 [==============================] - 9s 15ms/step - loss: 0.2323 - binary_accuracy: 0.9118 - val_loss: 0.2914 - val_binary_accuracy: 0.8760\n",
            "Epoch 4/1000\n",
            "625/625 [==============================] - 7s 12ms/step - loss: 0.1927 - binary_accuracy: 0.9291 - val_loss: 0.2926 - val_binary_accuracy: 0.8804\n",
            "Epoch 5/1000\n",
            "625/625 [==============================] - 8s 12ms/step - loss: 0.1641 - binary_accuracy: 0.9420 - val_loss: 0.3018 - val_binary_accuracy: 0.8792\n",
            "Epoch 6/1000\n",
            "625/625 [==============================] - 5s 8ms/step - loss: 0.1398 - binary_accuracy: 0.9511 - val_loss: 0.3186 - val_binary_accuracy: 0.8776\n",
            "Epoch 7/1000\n",
            "625/625 [==============================] - 7s 12ms/step - loss: 0.1190 - binary_accuracy: 0.9620 - val_loss: 0.3514 - val_binary_accuracy: 0.8792\n",
            "Epoch 8/1000\n",
            "625/625 [==============================] - 5s 8ms/step - loss: 0.1019 - binary_accuracy: 0.9685 - val_loss: 0.3688 - val_binary_accuracy: 0.8774\n",
            "Epoch 9/1000\n",
            "625/625 [==============================] - 6s 10ms/step - loss: 0.0873 - binary_accuracy: 0.9746 - val_loss: 0.3978 - val_binary_accuracy: 0.8752\n",
            "156/156 [==============================] - 1s 4ms/step - loss: 0.2919 - binary_accuracy: 0.8806\n",
            "625/625 [==============================] - 3s 4ms/step - loss: 0.1593 - binary_accuracy: 0.9463\n",
            "Epoch 1/1000\n",
            "625/625 [==============================] - 51s 79ms/step - loss: 0.5701 - binary_accuracy: 0.7293 - val_loss: 0.3862 - val_binary_accuracy: 0.8558\n",
            "Epoch 2/1000\n",
            "625/625 [==============================] - 15s 25ms/step - loss: 0.3060 - binary_accuracy: 0.8838 - val_loss: 0.3003 - val_binary_accuracy: 0.8760\n",
            "Epoch 3/1000\n",
            "625/625 [==============================] - 10s 16ms/step - loss: 0.2323 - binary_accuracy: 0.9130 - val_loss: 0.2887 - val_binary_accuracy: 0.8804\n",
            "Epoch 4/1000\n",
            "625/625 [==============================] - 9s 14ms/step - loss: 0.1932 - binary_accuracy: 0.9308 - val_loss: 0.2921 - val_binary_accuracy: 0.8832\n",
            "Epoch 5/1000\n",
            "625/625 [==============================] - 7s 11ms/step - loss: 0.1636 - binary_accuracy: 0.9434 - val_loss: 0.3032 - val_binary_accuracy: 0.8786\n",
            "Epoch 6/1000\n",
            "625/625 [==============================] - 8s 13ms/step - loss: 0.1401 - binary_accuracy: 0.9534 - val_loss: 0.3191 - val_binary_accuracy: 0.8768\n",
            "Epoch 7/1000\n",
            "625/625 [==============================] - 5s 8ms/step - loss: 0.1200 - binary_accuracy: 0.9621 - val_loss: 0.3400 - val_binary_accuracy: 0.8748\n",
            "Epoch 8/1000\n",
            "625/625 [==============================] - 7s 11ms/step - loss: 0.1042 - binary_accuracy: 0.9688 - val_loss: 0.3660 - val_binary_accuracy: 0.8740\n",
            "Epoch 9/1000\n",
            "625/625 [==============================] - 6s 10ms/step - loss: 0.0880 - binary_accuracy: 0.9756 - val_loss: 0.3871 - val_binary_accuracy: 0.8728\n",
            "156/156 [==============================] - 1s 4ms/step - loss: 0.2921 - binary_accuracy: 0.8832\n",
            "625/625 [==============================] - 3s 4ms/step - loss: 0.1580 - binary_accuracy: 0.9492\n",
            "Time,s\tTraining accuracy\tValidation accuracy\tEpochs\n",
            "132\t0.952\t0.879\t10\n",
            "153\t0.946\t0.881\t9\n",
            "159\t0.949\t0.883\t9\n"
          ]
        }
      ],
      "source": [
        "compileAndFit(train_ds,val_ds,lambda:Sequential(    [\n",
        "        layers.Embedding(vocablaryLength, 16),\n",
        "        layers.GlobalAveragePooling1D(),\n",
        "        layers.Dense(16, activation=\"relu\"),\n",
        "        layers.Dense(1),\n",
        "    ]),0.001)"
      ]
    },
    {
      "cell_type": "markdown",
      "id": "41aa2dbf-03fc-43bd-b8e6-28b03ff95bdc",
      "metadata": {
        "id": "41aa2dbf-03fc-43bd-b8e6-28b03ff95bdc"
      },
      "source": [
        "# [Graph regularization for sentiment classification using synthesized graphs](https://www.tensorflow.org/neural_structured_learning/tutorials/graph_keras_lstm_imdb/)"
      ]
    },
    {
      "cell_type": "code",
      "execution_count": null,
      "id": "c61c5f0a-c50c-452d-803d-73004a30b2e2",
      "metadata": {
        "id": "c61c5f0a-c50c-452d-803d-73004a30b2e2",
        "colab": {
          "base_uri": "https://localhost:8080/"
        },
        "outputId": "650d16a7-851f-424c-97e9-b2adb3d73954"
      },
      "outputs": [
        {
          "output_type": "stream",
          "name": "stdout",
          "text": [
            "Epoch 1/1000\n",
            "625/625 [==============================] - 66s 95ms/step - loss: 0.4752 - binary_accuracy: 0.7696 - val_loss: 0.3897 - val_binary_accuracy: 0.8339\n",
            "Epoch 2/1000\n",
            "625/625 [==============================] - 27s 43ms/step - loss: 0.2958 - binary_accuracy: 0.8870 - val_loss: 0.3836 - val_binary_accuracy: 0.8433\n",
            "Epoch 3/1000\n",
            "625/625 [==============================] - 22s 36ms/step - loss: 0.2259 - binary_accuracy: 0.9176 - val_loss: 0.3316 - val_binary_accuracy: 0.8678\n",
            "Epoch 4/1000\n",
            "625/625 [==============================] - 20s 31ms/step - loss: 0.1652 - binary_accuracy: 0.9433 - val_loss: 0.3825 - val_binary_accuracy: 0.8510\n",
            "Epoch 5/1000\n",
            "625/625 [==============================] - 19s 31ms/step - loss: 0.1388 - binary_accuracy: 0.9530 - val_loss: 0.3877 - val_binary_accuracy: 0.8584\n",
            "Epoch 6/1000\n",
            "625/625 [==============================] - 21s 33ms/step - loss: 0.1227 - binary_accuracy: 0.9589 - val_loss: 0.4585 - val_binary_accuracy: 0.8480\n",
            "Epoch 7/1000\n",
            "625/625 [==============================] - 17s 27ms/step - loss: 0.0927 - binary_accuracy: 0.9707 - val_loss: 0.5041 - val_binary_accuracy: 0.8512\n",
            "Epoch 8/1000\n",
            "625/625 [==============================] - 19s 30ms/step - loss: 0.0742 - binary_accuracy: 0.9763 - val_loss: 0.6165 - val_binary_accuracy: 0.8407\n",
            "156/156 [==============================] - 2s 10ms/step - loss: 0.3311 - binary_accuracy: 0.8680\n",
            "625/625 [==============================] - 8s 12ms/step - loss: 0.1555 - binary_accuracy: 0.9580\n",
            "Epoch 1/1000\n",
            "625/625 [==============================] - 67s 100ms/step - loss: 0.4853 - binary_accuracy: 0.7588 - val_loss: 0.3559 - val_binary_accuracy: 0.8500\n",
            "Epoch 2/1000\n",
            "625/625 [==============================] - 29s 47ms/step - loss: 0.2752 - binary_accuracy: 0.8938 - val_loss: 0.4252 - val_binary_accuracy: 0.8139\n",
            "Epoch 3/1000\n",
            "625/625 [==============================] - 22s 36ms/step - loss: 0.2109 - binary_accuracy: 0.9233 - val_loss: 0.4049 - val_binary_accuracy: 0.8235\n",
            "Epoch 4/1000\n",
            "625/625 [==============================] - 20s 32ms/step - loss: 0.1774 - binary_accuracy: 0.9402 - val_loss: 0.3780 - val_binary_accuracy: 0.8413\n",
            "Epoch 5/1000\n",
            "625/625 [==============================] - 18s 29ms/step - loss: 0.1573 - binary_accuracy: 0.9447 - val_loss: 0.4141 - val_binary_accuracy: 0.8566\n",
            "Epoch 6/1000\n",
            "625/625 [==============================] - 19s 31ms/step - loss: 0.1200 - binary_accuracy: 0.9603 - val_loss: 0.4428 - val_binary_accuracy: 0.8518\n",
            "Epoch 7/1000\n",
            "625/625 [==============================] - 17s 28ms/step - loss: 0.1139 - binary_accuracy: 0.9617 - val_loss: 0.4961 - val_binary_accuracy: 0.8357\n",
            "Epoch 8/1000\n",
            "625/625 [==============================] - 19s 30ms/step - loss: 0.1010 - binary_accuracy: 0.9649 - val_loss: 0.5449 - val_binary_accuracy: 0.8466\n",
            "Epoch 9/1000\n",
            "625/625 [==============================] - 17s 28ms/step - loss: 0.0706 - binary_accuracy: 0.9771 - val_loss: 0.5977 - val_binary_accuracy: 0.8361\n",
            "Epoch 10/1000\n",
            "625/625 [==============================] - 17s 27ms/step - loss: 0.0702 - binary_accuracy: 0.9753 - val_loss: 0.5637 - val_binary_accuracy: 0.8409\n",
            "156/156 [==============================] - 2s 14ms/step - loss: 0.4128 - binary_accuracy: 0.8570\n",
            "625/625 [==============================] - 7s 11ms/step - loss: 0.0858 - binary_accuracy: 0.9755\n",
            "Epoch 1/1000\n",
            "625/625 [==============================] - 362s 571ms/step - loss: 0.4905 - binary_accuracy: 0.7510 - val_loss: 0.4597 - val_binary_accuracy: 0.8037\n",
            "Epoch 2/1000\n",
            "625/625 [==============================] - 33s 53ms/step - loss: 0.2968 - binary_accuracy: 0.8852 - val_loss: 0.3644 - val_binary_accuracy: 0.8618\n",
            "Epoch 3/1000\n",
            "625/625 [==============================] - 27s 42ms/step - loss: 0.2277 - binary_accuracy: 0.9153 - val_loss: 0.3536 - val_binary_accuracy: 0.8474\n",
            "Epoch 4/1000\n",
            "625/625 [==============================] - 25s 39ms/step - loss: 0.1713 - binary_accuracy: 0.9401 - val_loss: 0.3831 - val_binary_accuracy: 0.8600\n",
            "Epoch 5/1000\n",
            "625/625 [==============================] - 25s 39ms/step - loss: 0.1341 - binary_accuracy: 0.9533 - val_loss: 0.5153 - val_binary_accuracy: 0.8135\n",
            "Epoch 6/1000\n",
            "625/625 [==============================] - 47s 74ms/step - loss: 0.1147 - binary_accuracy: 0.9604 - val_loss: 0.4903 - val_binary_accuracy: 0.8474\n",
            "Epoch 7/1000\n",
            "625/625 [==============================] - 50s 80ms/step - loss: 0.1051 - binary_accuracy: 0.9651 - val_loss: 0.6240 - val_binary_accuracy: 0.8135\n",
            "156/156 [==============================] - 4s 23ms/step - loss: 0.3643 - binary_accuracy: 0.8618\n",
            "625/625 [==============================] - 17s 26ms/step - loss: 0.2179 - binary_accuracy: 0.9190\n",
            "Time,s\tTraining accuracy\tValidation accuracy\tEpochs\n",
            "217\t0.958\t0.868\t8\n",
            "271\t0.975\t0.857\t10\n",
            "624\t0.919\t0.862\t7\n"
          ]
        }
      ],
      "source": [
        "compileAndFit(train_ds,val_ds,lambda:Sequential([\n",
        "   layers.Embedding(vocablaryLength,16),\n",
        "   layers.Bidirectional( layers.LSTM(64)),\n",
        "   layers.Dense(64, activation='relu'),\n",
        "   layers.Dense(1)\n",
        "]),0.001)"
      ]
    },
    {
      "cell_type": "markdown",
      "source": [
        "# My own RNN1"
      ],
      "metadata": {
        "id": "QVJBS5OQRv-x"
      },
      "id": "QVJBS5OQRv-x"
    },
    {
      "cell_type": "code",
      "source": [
        "compileAndFit(train_ds,val_ds,lambda:Sequential([\n",
        "     layers.Embedding(vocablaryLength, 64, mask_zero=True),\n",
        "     layers.Bidirectional( layers.LSTM(64)),\n",
        "     layers.Dense(1)\n",
        "]),0.0001)"
      ],
      "metadata": {
        "colab": {
          "base_uri": "https://localhost:8080/",
          "height": 832
        },
        "id": "56OvUv66RnSD",
        "outputId": "877e74f7-68f1-44e6-d460-b15bb2e2a66a"
      },
      "id": "56OvUv66RnSD",
      "execution_count": 15,
      "outputs": [
        {
          "output_type": "stream",
          "name": "stdout",
          "text": [
            "Epoch 1/1000\n",
            "625/625 [==============================] - 98s 132ms/step - loss: 0.5857 - binary_accuracy: 0.6690 - val_loss: 0.4183 - val_binary_accuracy: 0.8299\n",
            "Epoch 2/1000\n",
            "625/625 [==============================] - 35s 56ms/step - loss: 0.3407 - binary_accuracy: 0.8643 - val_loss: 0.3509 - val_binary_accuracy: 0.8656\n",
            "Epoch 3/1000\n",
            "625/625 [==============================] - 26s 42ms/step - loss: 0.2573 - binary_accuracy: 0.9040 - val_loss: 0.3301 - val_binary_accuracy: 0.8688\n",
            "Epoch 4/1000\n",
            "625/625 [==============================] - 25s 40ms/step - loss: 0.2121 - binary_accuracy: 0.9220 - val_loss: 0.3500 - val_binary_accuracy: 0.8574\n",
            "Epoch 5/1000\n",
            "625/625 [==============================] - 23s 36ms/step - loss: 0.1798 - binary_accuracy: 0.9340 - val_loss: 0.3673 - val_binary_accuracy: 0.8620\n",
            "Epoch 6/1000\n",
            "625/625 [==============================] - 22s 35ms/step - loss: 0.1516 - binary_accuracy: 0.9459 - val_loss: 0.3239 - val_binary_accuracy: 0.8692\n",
            "Epoch 7/1000\n",
            "625/625 [==============================] - 22s 35ms/step - loss: 0.1341 - binary_accuracy: 0.9524 - val_loss: 0.3735 - val_binary_accuracy: 0.8676\n",
            "Epoch 8/1000\n",
            "625/625 [==============================] - 22s 36ms/step - loss: 0.1139 - binary_accuracy: 0.9618 - val_loss: 0.4175 - val_binary_accuracy: 0.8678\n",
            "Epoch 9/1000\n",
            "625/625 [==============================] - 23s 37ms/step - loss: 0.0986 - binary_accuracy: 0.9661 - val_loss: 0.4469 - val_binary_accuracy: 0.8640\n",
            "Epoch 10/1000\n",
            "625/625 [==============================] - 24s 38ms/step - loss: 0.0874 - binary_accuracy: 0.9700 - val_loss: 0.4384 - val_binary_accuracy: 0.8652\n",
            "Epoch 11/1000\n",
            "625/625 [==============================] - 22s 36ms/step - loss: 0.0860 - binary_accuracy: 0.9710 - val_loss: 0.5014 - val_binary_accuracy: 0.8588\n",
            "156/156 [==============================] - 2s 11ms/step - loss: 0.3235 - binary_accuracy: 0.8694\n",
            "625/625 [==============================] - 8s 13ms/step - loss: 0.1408 - binary_accuracy: 0.9595\n",
            "Epoch 1/1000\n",
            " 18/625 [..............................] - ETA: 1:37 - loss: 0.6930 - binary_accuracy: 0.5208"
          ]
        },
        {
          "output_type": "error",
          "ename": "KeyboardInterrupt",
          "evalue": "ignored",
          "traceback": [
            "\u001b[0;31m---------------------------------------------------------------------------\u001b[0m",
            "\u001b[0;31mKeyboardInterrupt\u001b[0m                         Traceback (most recent call last)",
            "\u001b[0;32m<ipython-input-15-63419e6d5f9c>\u001b[0m in \u001b[0;36m<cell line: 1>\u001b[0;34m()\u001b[0m\n\u001b[0;32m----> 1\u001b[0;31m compileAndFit(train_ds,val_ds,lambda:Sequential([\n\u001b[0m\u001b[1;32m      2\u001b[0m      \u001b[0mlayers\u001b[0m\u001b[0;34m.\u001b[0m\u001b[0mEmbedding\u001b[0m\u001b[0;34m(\u001b[0m\u001b[0mvocablaryLength\u001b[0m\u001b[0;34m,\u001b[0m \u001b[0;36m64\u001b[0m\u001b[0;34m,\u001b[0m \u001b[0mmask_zero\u001b[0m\u001b[0;34m=\u001b[0m\u001b[0;32mTrue\u001b[0m\u001b[0;34m)\u001b[0m\u001b[0;34m,\u001b[0m\u001b[0;34m\u001b[0m\u001b[0;34m\u001b[0m\u001b[0m\n\u001b[1;32m      3\u001b[0m      \u001b[0mlayers\u001b[0m\u001b[0;34m.\u001b[0m\u001b[0mBidirectional\u001b[0m\u001b[0;34m(\u001b[0m \u001b[0mlayers\u001b[0m\u001b[0;34m.\u001b[0m\u001b[0mLSTM\u001b[0m\u001b[0;34m(\u001b[0m\u001b[0;36m64\u001b[0m\u001b[0;34m)\u001b[0m\u001b[0;34m)\u001b[0m\u001b[0;34m,\u001b[0m\u001b[0;34m\u001b[0m\u001b[0;34m\u001b[0m\u001b[0m\n\u001b[1;32m      4\u001b[0m      \u001b[0mlayers\u001b[0m\u001b[0;34m.\u001b[0m\u001b[0mDense\u001b[0m\u001b[0;34m(\u001b[0m\u001b[0;36m1\u001b[0m\u001b[0;34m)\u001b[0m\u001b[0;34m\u001b[0m\u001b[0;34m\u001b[0m\u001b[0m\n\u001b[1;32m      5\u001b[0m ]),0.0001)\n",
            "\u001b[0;32m<ipython-input-14-1c6fc141b9f3>\u001b[0m in \u001b[0;36mcompileAndFit\u001b[0;34m(train_ds, val_ds, getModel, learning_rate)\u001b[0m\n\u001b[1;32m     13\u001b[0m         \u001b[0;31m#model.summary()\u001b[0m\u001b[0;34m\u001b[0m\u001b[0;34m\u001b[0m\u001b[0m\n\u001b[1;32m     14\u001b[0m \u001b[0;34m\u001b[0m\u001b[0m\n\u001b[0;32m---> 15\u001b[0;31m         history = model.fit(    train_ds,    validation_data=val_ds,    epochs=1000, verbose=1,\n\u001b[0m\u001b[1;32m     16\u001b[0m               callbacks=[tf.keras.callbacks.EarlyStopping(monitor='val_binary_accuracy', patience=5,mode='max',restore_best_weights=True)] )\n\u001b[1;32m     17\u001b[0m \u001b[0;34m\u001b[0m\u001b[0m\n",
            "\u001b[0;32m/usr/local/lib/python3.10/dist-packages/keras/utils/traceback_utils.py\u001b[0m in \u001b[0;36merror_handler\u001b[0;34m(*args, **kwargs)\u001b[0m\n\u001b[1;32m     63\u001b[0m         \u001b[0mfiltered_tb\u001b[0m \u001b[0;34m=\u001b[0m \u001b[0;32mNone\u001b[0m\u001b[0;34m\u001b[0m\u001b[0;34m\u001b[0m\u001b[0m\n\u001b[1;32m     64\u001b[0m         \u001b[0;32mtry\u001b[0m\u001b[0;34m:\u001b[0m\u001b[0;34m\u001b[0m\u001b[0;34m\u001b[0m\u001b[0m\n\u001b[0;32m---> 65\u001b[0;31m             \u001b[0;32mreturn\u001b[0m \u001b[0mfn\u001b[0m\u001b[0;34m(\u001b[0m\u001b[0;34m*\u001b[0m\u001b[0margs\u001b[0m\u001b[0;34m,\u001b[0m \u001b[0;34m**\u001b[0m\u001b[0mkwargs\u001b[0m\u001b[0;34m)\u001b[0m\u001b[0;34m\u001b[0m\u001b[0;34m\u001b[0m\u001b[0m\n\u001b[0m\u001b[1;32m     66\u001b[0m         \u001b[0;32mexcept\u001b[0m \u001b[0mException\u001b[0m \u001b[0;32mas\u001b[0m \u001b[0me\u001b[0m\u001b[0;34m:\u001b[0m\u001b[0;34m\u001b[0m\u001b[0;34m\u001b[0m\u001b[0m\n\u001b[1;32m     67\u001b[0m             \u001b[0mfiltered_tb\u001b[0m \u001b[0;34m=\u001b[0m \u001b[0m_process_traceback_frames\u001b[0m\u001b[0;34m(\u001b[0m\u001b[0me\u001b[0m\u001b[0;34m.\u001b[0m\u001b[0m__traceback__\u001b[0m\u001b[0;34m)\u001b[0m\u001b[0;34m\u001b[0m\u001b[0;34m\u001b[0m\u001b[0m\n",
            "\u001b[0;32m/usr/local/lib/python3.10/dist-packages/keras/engine/training.py\u001b[0m in \u001b[0;36mfit\u001b[0;34m(self, x, y, batch_size, epochs, verbose, callbacks, validation_split, validation_data, shuffle, class_weight, sample_weight, initial_epoch, steps_per_epoch, validation_steps, validation_batch_size, validation_freq, max_queue_size, workers, use_multiprocessing)\u001b[0m\n\u001b[1;32m   1683\u001b[0m                         ):\n\u001b[1;32m   1684\u001b[0m                             \u001b[0mcallbacks\u001b[0m\u001b[0;34m.\u001b[0m\u001b[0mon_train_batch_begin\u001b[0m\u001b[0;34m(\u001b[0m\u001b[0mstep\u001b[0m\u001b[0;34m)\u001b[0m\u001b[0;34m\u001b[0m\u001b[0;34m\u001b[0m\u001b[0m\n\u001b[0;32m-> 1685\u001b[0;31m                             \u001b[0mtmp_logs\u001b[0m \u001b[0;34m=\u001b[0m \u001b[0mself\u001b[0m\u001b[0;34m.\u001b[0m\u001b[0mtrain_function\u001b[0m\u001b[0;34m(\u001b[0m\u001b[0miterator\u001b[0m\u001b[0;34m)\u001b[0m\u001b[0;34m\u001b[0m\u001b[0;34m\u001b[0m\u001b[0m\n\u001b[0m\u001b[1;32m   1686\u001b[0m                             \u001b[0;32mif\u001b[0m \u001b[0mdata_handler\u001b[0m\u001b[0;34m.\u001b[0m\u001b[0mshould_sync\u001b[0m\u001b[0;34m:\u001b[0m\u001b[0;34m\u001b[0m\u001b[0;34m\u001b[0m\u001b[0m\n\u001b[1;32m   1687\u001b[0m                                 \u001b[0mcontext\u001b[0m\u001b[0;34m.\u001b[0m\u001b[0masync_wait\u001b[0m\u001b[0;34m(\u001b[0m\u001b[0;34m)\u001b[0m\u001b[0;34m\u001b[0m\u001b[0;34m\u001b[0m\u001b[0m\n",
            "\u001b[0;32m/usr/local/lib/python3.10/dist-packages/tensorflow/python/util/traceback_utils.py\u001b[0m in \u001b[0;36merror_handler\u001b[0;34m(*args, **kwargs)\u001b[0m\n\u001b[1;32m    148\u001b[0m     \u001b[0mfiltered_tb\u001b[0m \u001b[0;34m=\u001b[0m \u001b[0;32mNone\u001b[0m\u001b[0;34m\u001b[0m\u001b[0;34m\u001b[0m\u001b[0m\n\u001b[1;32m    149\u001b[0m     \u001b[0;32mtry\u001b[0m\u001b[0;34m:\u001b[0m\u001b[0;34m\u001b[0m\u001b[0;34m\u001b[0m\u001b[0m\n\u001b[0;32m--> 150\u001b[0;31m       \u001b[0;32mreturn\u001b[0m \u001b[0mfn\u001b[0m\u001b[0;34m(\u001b[0m\u001b[0;34m*\u001b[0m\u001b[0margs\u001b[0m\u001b[0;34m,\u001b[0m \u001b[0;34m**\u001b[0m\u001b[0mkwargs\u001b[0m\u001b[0;34m)\u001b[0m\u001b[0;34m\u001b[0m\u001b[0;34m\u001b[0m\u001b[0m\n\u001b[0m\u001b[1;32m    151\u001b[0m     \u001b[0;32mexcept\u001b[0m \u001b[0mException\u001b[0m \u001b[0;32mas\u001b[0m \u001b[0me\u001b[0m\u001b[0;34m:\u001b[0m\u001b[0;34m\u001b[0m\u001b[0;34m\u001b[0m\u001b[0m\n\u001b[1;32m    152\u001b[0m       \u001b[0mfiltered_tb\u001b[0m \u001b[0;34m=\u001b[0m \u001b[0m_process_traceback_frames\u001b[0m\u001b[0;34m(\u001b[0m\u001b[0me\u001b[0m\u001b[0;34m.\u001b[0m\u001b[0m__traceback__\u001b[0m\u001b[0;34m)\u001b[0m\u001b[0;34m\u001b[0m\u001b[0;34m\u001b[0m\u001b[0m\n",
            "\u001b[0;32m/usr/local/lib/python3.10/dist-packages/tensorflow/python/eager/polymorphic_function/polymorphic_function.py\u001b[0m in \u001b[0;36m__call__\u001b[0;34m(self, *args, **kwds)\u001b[0m\n\u001b[1;32m    892\u001b[0m \u001b[0;34m\u001b[0m\u001b[0m\n\u001b[1;32m    893\u001b[0m       \u001b[0;32mwith\u001b[0m \u001b[0mOptionalXlaContext\u001b[0m\u001b[0;34m(\u001b[0m\u001b[0mself\u001b[0m\u001b[0;34m.\u001b[0m\u001b[0m_jit_compile\u001b[0m\u001b[0;34m)\u001b[0m\u001b[0;34m:\u001b[0m\u001b[0;34m\u001b[0m\u001b[0;34m\u001b[0m\u001b[0m\n\u001b[0;32m--> 894\u001b[0;31m         \u001b[0mresult\u001b[0m \u001b[0;34m=\u001b[0m \u001b[0mself\u001b[0m\u001b[0;34m.\u001b[0m\u001b[0m_call\u001b[0m\u001b[0;34m(\u001b[0m\u001b[0;34m*\u001b[0m\u001b[0margs\u001b[0m\u001b[0;34m,\u001b[0m \u001b[0;34m**\u001b[0m\u001b[0mkwds\u001b[0m\u001b[0;34m)\u001b[0m\u001b[0;34m\u001b[0m\u001b[0;34m\u001b[0m\u001b[0m\n\u001b[0m\u001b[1;32m    895\u001b[0m \u001b[0;34m\u001b[0m\u001b[0m\n\u001b[1;32m    896\u001b[0m       \u001b[0mnew_tracing_count\u001b[0m \u001b[0;34m=\u001b[0m \u001b[0mself\u001b[0m\u001b[0;34m.\u001b[0m\u001b[0mexperimental_get_tracing_count\u001b[0m\u001b[0;34m(\u001b[0m\u001b[0;34m)\u001b[0m\u001b[0;34m\u001b[0m\u001b[0;34m\u001b[0m\u001b[0m\n",
            "\u001b[0;32m/usr/local/lib/python3.10/dist-packages/tensorflow/python/eager/polymorphic_function/polymorphic_function.py\u001b[0m in \u001b[0;36m_call\u001b[0;34m(self, *args, **kwds)\u001b[0m\n\u001b[1;32m    924\u001b[0m       \u001b[0;31m# In this case we have created variables on the first call, so we run the\u001b[0m\u001b[0;34m\u001b[0m\u001b[0;34m\u001b[0m\u001b[0m\n\u001b[1;32m    925\u001b[0m       \u001b[0;31m# defunned version which is guaranteed to never create variables.\u001b[0m\u001b[0;34m\u001b[0m\u001b[0;34m\u001b[0m\u001b[0m\n\u001b[0;32m--> 926\u001b[0;31m       \u001b[0;32mreturn\u001b[0m \u001b[0mself\u001b[0m\u001b[0;34m.\u001b[0m\u001b[0m_no_variable_creation_fn\u001b[0m\u001b[0;34m(\u001b[0m\u001b[0;34m*\u001b[0m\u001b[0margs\u001b[0m\u001b[0;34m,\u001b[0m \u001b[0;34m**\u001b[0m\u001b[0mkwds\u001b[0m\u001b[0;34m)\u001b[0m  \u001b[0;31m# pylint: disable=not-callable\u001b[0m\u001b[0;34m\u001b[0m\u001b[0;34m\u001b[0m\u001b[0m\n\u001b[0m\u001b[1;32m    927\u001b[0m     \u001b[0;32melif\u001b[0m \u001b[0mself\u001b[0m\u001b[0;34m.\u001b[0m\u001b[0m_variable_creation_fn\u001b[0m \u001b[0;32mis\u001b[0m \u001b[0;32mnot\u001b[0m \u001b[0;32mNone\u001b[0m\u001b[0;34m:\u001b[0m\u001b[0;34m\u001b[0m\u001b[0;34m\u001b[0m\u001b[0m\n\u001b[1;32m    928\u001b[0m       \u001b[0;31m# Release the lock early so that multiple threads can perform the call\u001b[0m\u001b[0;34m\u001b[0m\u001b[0;34m\u001b[0m\u001b[0m\n",
            "\u001b[0;32m/usr/local/lib/python3.10/dist-packages/tensorflow/python/eager/polymorphic_function/tracing_compiler.py\u001b[0m in \u001b[0;36m__call__\u001b[0;34m(self, *args, **kwargs)\u001b[0m\n\u001b[1;32m    141\u001b[0m       (concrete_function,\n\u001b[1;32m    142\u001b[0m        filtered_flat_args) = self._maybe_define_function(args, kwargs)\n\u001b[0;32m--> 143\u001b[0;31m     return concrete_function._call_flat(\n\u001b[0m\u001b[1;32m    144\u001b[0m         filtered_flat_args, captured_inputs=concrete_function.captured_inputs)  # pylint: disable=protected-access\n\u001b[1;32m    145\u001b[0m \u001b[0;34m\u001b[0m\u001b[0m\n",
            "\u001b[0;32m/usr/local/lib/python3.10/dist-packages/tensorflow/python/eager/polymorphic_function/monomorphic_function.py\u001b[0m in \u001b[0;36m_call_flat\u001b[0;34m(self, args, captured_inputs, cancellation_manager)\u001b[0m\n\u001b[1;32m   1755\u001b[0m         and executing_eagerly):\n\u001b[1;32m   1756\u001b[0m       \u001b[0;31m# No tape is watching; skip to running the function.\u001b[0m\u001b[0;34m\u001b[0m\u001b[0;34m\u001b[0m\u001b[0m\n\u001b[0;32m-> 1757\u001b[0;31m       return self._build_call_outputs(self._inference_function.call(\n\u001b[0m\u001b[1;32m   1758\u001b[0m           ctx, args, cancellation_manager=cancellation_manager))\n\u001b[1;32m   1759\u001b[0m     forward_backward = self._select_forward_and_backward_functions(\n",
            "\u001b[0;32m/usr/local/lib/python3.10/dist-packages/tensorflow/python/eager/polymorphic_function/monomorphic_function.py\u001b[0m in \u001b[0;36mcall\u001b[0;34m(self, ctx, args, cancellation_manager)\u001b[0m\n\u001b[1;32m    379\u001b[0m       \u001b[0;32mwith\u001b[0m \u001b[0m_InterpolateFunctionError\u001b[0m\u001b[0;34m(\u001b[0m\u001b[0mself\u001b[0m\u001b[0;34m)\u001b[0m\u001b[0;34m:\u001b[0m\u001b[0;34m\u001b[0m\u001b[0;34m\u001b[0m\u001b[0m\n\u001b[1;32m    380\u001b[0m         \u001b[0;32mif\u001b[0m \u001b[0mcancellation_manager\u001b[0m \u001b[0;32mis\u001b[0m \u001b[0;32mNone\u001b[0m\u001b[0;34m:\u001b[0m\u001b[0;34m\u001b[0m\u001b[0;34m\u001b[0m\u001b[0m\n\u001b[0;32m--> 381\u001b[0;31m           outputs = execute.execute(\n\u001b[0m\u001b[1;32m    382\u001b[0m               \u001b[0mstr\u001b[0m\u001b[0;34m(\u001b[0m\u001b[0mself\u001b[0m\u001b[0;34m.\u001b[0m\u001b[0msignature\u001b[0m\u001b[0;34m.\u001b[0m\u001b[0mname\u001b[0m\u001b[0;34m)\u001b[0m\u001b[0;34m,\u001b[0m\u001b[0;34m\u001b[0m\u001b[0;34m\u001b[0m\u001b[0m\n\u001b[1;32m    383\u001b[0m               \u001b[0mnum_outputs\u001b[0m\u001b[0;34m=\u001b[0m\u001b[0mself\u001b[0m\u001b[0;34m.\u001b[0m\u001b[0m_num_outputs\u001b[0m\u001b[0;34m,\u001b[0m\u001b[0;34m\u001b[0m\u001b[0;34m\u001b[0m\u001b[0m\n",
            "\u001b[0;32m/usr/local/lib/python3.10/dist-packages/tensorflow/python/eager/execute.py\u001b[0m in \u001b[0;36mquick_execute\u001b[0;34m(op_name, num_outputs, inputs, attrs, ctx, name)\u001b[0m\n\u001b[1;32m     50\u001b[0m   \u001b[0;32mtry\u001b[0m\u001b[0;34m:\u001b[0m\u001b[0;34m\u001b[0m\u001b[0;34m\u001b[0m\u001b[0m\n\u001b[1;32m     51\u001b[0m     \u001b[0mctx\u001b[0m\u001b[0;34m.\u001b[0m\u001b[0mensure_initialized\u001b[0m\u001b[0;34m(\u001b[0m\u001b[0;34m)\u001b[0m\u001b[0;34m\u001b[0m\u001b[0;34m\u001b[0m\u001b[0m\n\u001b[0;32m---> 52\u001b[0;31m     tensors = pywrap_tfe.TFE_Py_Execute(ctx._handle, device_name, op_name,\n\u001b[0m\u001b[1;32m     53\u001b[0m                                         inputs, attrs, num_outputs)\n\u001b[1;32m     54\u001b[0m   \u001b[0;32mexcept\u001b[0m \u001b[0mcore\u001b[0m\u001b[0;34m.\u001b[0m\u001b[0m_NotOkStatusException\u001b[0m \u001b[0;32mas\u001b[0m \u001b[0me\u001b[0m\u001b[0;34m:\u001b[0m\u001b[0;34m\u001b[0m\u001b[0;34m\u001b[0m\u001b[0m\n",
            "\u001b[0;31mKeyboardInterrupt\u001b[0m: "
          ]
        }
      ]
    },
    {
      "cell_type": "markdown",
      "source": [
        "# My own RNN2"
      ],
      "metadata": {
        "id": "d2EyICcBSJH3"
      },
      "id": "d2EyICcBSJH3"
    },
    {
      "cell_type": "code",
      "source": [
        "compileAndFit(train_ds,val_ds,lambda:Sequential([\n",
        "     layers.Embedding(vocablaryLength, 64, mask_zero=True),\n",
        "     layers.LSTM(64),\n",
        "     layers.Dense(1)\n",
        "]),0.0001)"
      ],
      "metadata": {
        "colab": {
          "base_uri": "https://localhost:8080/",
          "height": 762
        },
        "id": "ljGMEoXERsA_",
        "outputId": "184e7009-1295-4dee-a798-845a73fdded7"
      },
      "id": "ljGMEoXERsA_",
      "execution_count": 17,
      "outputs": [
        {
          "output_type": "stream",
          "name": "stdout",
          "text": [
            "Epoch 1/1000\n",
            "625/625 [==============================] - 64s 93ms/step - loss: 0.5909 - binary_accuracy: 0.6811 - val_loss: 0.4261 - val_binary_accuracy: 0.8289\n",
            "Epoch 2/1000\n",
            "625/625 [==============================] - 22s 36ms/step - loss: 0.3467 - binary_accuracy: 0.8702 - val_loss: 0.3496 - val_binary_accuracy: 0.8638\n",
            "Epoch 3/1000\n",
            "625/625 [==============================] - 17s 27ms/step - loss: 0.2553 - binary_accuracy: 0.9067 - val_loss: 0.3090 - val_binary_accuracy: 0.8748\n",
            "Epoch 4/1000\n",
            "625/625 [==============================] - 16s 26ms/step - loss: 0.2074 - binary_accuracy: 0.9283 - val_loss: 0.3143 - val_binary_accuracy: 0.8750\n",
            "Epoch 5/1000\n",
            "625/625 [==============================] - 15s 24ms/step - loss: 0.1737 - binary_accuracy: 0.9424 - val_loss: 0.3499 - val_binary_accuracy: 0.8696\n",
            "Epoch 6/1000\n",
            "625/625 [==============================] - 17s 27ms/step - loss: 0.1452 - binary_accuracy: 0.9542 - val_loss: 0.3313 - val_binary_accuracy: 0.8716\n",
            "Epoch 7/1000\n",
            "625/625 [==============================] - 15s 23ms/step - loss: 0.1253 - binary_accuracy: 0.9628 - val_loss: 0.3454 - val_binary_accuracy: 0.8628\n",
            "Epoch 8/1000\n",
            "625/625 [==============================] - 14s 22ms/step - loss: 0.1083 - binary_accuracy: 0.9691 - val_loss: 0.4362 - val_binary_accuracy: 0.8608\n",
            "Epoch 9/1000\n",
            "625/625 [==============================] - 15s 24ms/step - loss: 0.0945 - binary_accuracy: 0.9732 - val_loss: 0.4892 - val_binary_accuracy: 0.8540\n",
            "156/156 [==============================] - 1s 7ms/step - loss: 0.3142 - binary_accuracy: 0.8750\n",
            "625/625 [==============================] - 5s 7ms/step - loss: 0.1583 - binary_accuracy: 0.9528\n",
            "Epoch 1/1000\n",
            "203/625 [========>.....................] - ETA: 54s - loss: 0.6922 - binary_accuracy: 0.5389"
          ]
        },
        {
          "output_type": "error",
          "ename": "KeyboardInterrupt",
          "evalue": "ignored",
          "traceback": [
            "\u001b[0;31m---------------------------------------------------------------------------\u001b[0m",
            "\u001b[0;31mKeyboardInterrupt\u001b[0m                         Traceback (most recent call last)",
            "\u001b[0;32m<ipython-input-17-db741bf68a98>\u001b[0m in \u001b[0;36m<cell line: 1>\u001b[0;34m()\u001b[0m\n\u001b[0;32m----> 1\u001b[0;31m compileAndFit(train_ds,val_ds,lambda:Sequential([\n\u001b[0m\u001b[1;32m      2\u001b[0m      \u001b[0mlayers\u001b[0m\u001b[0;34m.\u001b[0m\u001b[0mEmbedding\u001b[0m\u001b[0;34m(\u001b[0m\u001b[0mvocablaryLength\u001b[0m\u001b[0;34m,\u001b[0m \u001b[0;36m64\u001b[0m\u001b[0;34m,\u001b[0m \u001b[0mmask_zero\u001b[0m\u001b[0;34m=\u001b[0m\u001b[0;32mTrue\u001b[0m\u001b[0;34m)\u001b[0m\u001b[0;34m,\u001b[0m\u001b[0;34m\u001b[0m\u001b[0;34m\u001b[0m\u001b[0m\n\u001b[1;32m      3\u001b[0m      \u001b[0mlayers\u001b[0m\u001b[0;34m.\u001b[0m\u001b[0mLSTM\u001b[0m\u001b[0;34m(\u001b[0m\u001b[0;36m64\u001b[0m\u001b[0;34m)\u001b[0m\u001b[0;34m,\u001b[0m\u001b[0;34m\u001b[0m\u001b[0;34m\u001b[0m\u001b[0m\n\u001b[1;32m      4\u001b[0m      \u001b[0mlayers\u001b[0m\u001b[0;34m.\u001b[0m\u001b[0mDense\u001b[0m\u001b[0;34m(\u001b[0m\u001b[0;36m1\u001b[0m\u001b[0;34m)\u001b[0m\u001b[0;34m\u001b[0m\u001b[0;34m\u001b[0m\u001b[0m\n\u001b[1;32m      5\u001b[0m ]),0.0001)\n",
            "\u001b[0;32m<ipython-input-14-1c6fc141b9f3>\u001b[0m in \u001b[0;36mcompileAndFit\u001b[0;34m(train_ds, val_ds, getModel, learning_rate)\u001b[0m\n\u001b[1;32m     13\u001b[0m         \u001b[0;31m#model.summary()\u001b[0m\u001b[0;34m\u001b[0m\u001b[0;34m\u001b[0m\u001b[0m\n\u001b[1;32m     14\u001b[0m \u001b[0;34m\u001b[0m\u001b[0m\n\u001b[0;32m---> 15\u001b[0;31m         history = model.fit(    train_ds,    validation_data=val_ds,    epochs=1000, verbose=1,\n\u001b[0m\u001b[1;32m     16\u001b[0m               callbacks=[tf.keras.callbacks.EarlyStopping(monitor='val_binary_accuracy', patience=5,mode='max',restore_best_weights=True)] )\n\u001b[1;32m     17\u001b[0m \u001b[0;34m\u001b[0m\u001b[0m\n",
            "\u001b[0;32m/usr/local/lib/python3.10/dist-packages/keras/utils/traceback_utils.py\u001b[0m in \u001b[0;36merror_handler\u001b[0;34m(*args, **kwargs)\u001b[0m\n\u001b[1;32m     63\u001b[0m         \u001b[0mfiltered_tb\u001b[0m \u001b[0;34m=\u001b[0m \u001b[0;32mNone\u001b[0m\u001b[0;34m\u001b[0m\u001b[0;34m\u001b[0m\u001b[0m\n\u001b[1;32m     64\u001b[0m         \u001b[0;32mtry\u001b[0m\u001b[0;34m:\u001b[0m\u001b[0;34m\u001b[0m\u001b[0;34m\u001b[0m\u001b[0m\n\u001b[0;32m---> 65\u001b[0;31m             \u001b[0;32mreturn\u001b[0m \u001b[0mfn\u001b[0m\u001b[0;34m(\u001b[0m\u001b[0;34m*\u001b[0m\u001b[0margs\u001b[0m\u001b[0;34m,\u001b[0m \u001b[0;34m**\u001b[0m\u001b[0mkwargs\u001b[0m\u001b[0;34m)\u001b[0m\u001b[0;34m\u001b[0m\u001b[0;34m\u001b[0m\u001b[0m\n\u001b[0m\u001b[1;32m     66\u001b[0m         \u001b[0;32mexcept\u001b[0m \u001b[0mException\u001b[0m \u001b[0;32mas\u001b[0m \u001b[0me\u001b[0m\u001b[0;34m:\u001b[0m\u001b[0;34m\u001b[0m\u001b[0;34m\u001b[0m\u001b[0m\n\u001b[1;32m     67\u001b[0m             \u001b[0mfiltered_tb\u001b[0m \u001b[0;34m=\u001b[0m \u001b[0m_process_traceback_frames\u001b[0m\u001b[0;34m(\u001b[0m\u001b[0me\u001b[0m\u001b[0;34m.\u001b[0m\u001b[0m__traceback__\u001b[0m\u001b[0;34m)\u001b[0m\u001b[0;34m\u001b[0m\u001b[0;34m\u001b[0m\u001b[0m\n",
            "\u001b[0;32m/usr/local/lib/python3.10/dist-packages/keras/engine/training.py\u001b[0m in \u001b[0;36mfit\u001b[0;34m(self, x, y, batch_size, epochs, verbose, callbacks, validation_split, validation_data, shuffle, class_weight, sample_weight, initial_epoch, steps_per_epoch, validation_steps, validation_batch_size, validation_freq, max_queue_size, workers, use_multiprocessing)\u001b[0m\n\u001b[1;32m   1683\u001b[0m                         ):\n\u001b[1;32m   1684\u001b[0m                             \u001b[0mcallbacks\u001b[0m\u001b[0;34m.\u001b[0m\u001b[0mon_train_batch_begin\u001b[0m\u001b[0;34m(\u001b[0m\u001b[0mstep\u001b[0m\u001b[0;34m)\u001b[0m\u001b[0;34m\u001b[0m\u001b[0;34m\u001b[0m\u001b[0m\n\u001b[0;32m-> 1685\u001b[0;31m                             \u001b[0mtmp_logs\u001b[0m \u001b[0;34m=\u001b[0m \u001b[0mself\u001b[0m\u001b[0;34m.\u001b[0m\u001b[0mtrain_function\u001b[0m\u001b[0;34m(\u001b[0m\u001b[0miterator\u001b[0m\u001b[0;34m)\u001b[0m\u001b[0;34m\u001b[0m\u001b[0;34m\u001b[0m\u001b[0m\n\u001b[0m\u001b[1;32m   1686\u001b[0m                             \u001b[0;32mif\u001b[0m \u001b[0mdata_handler\u001b[0m\u001b[0;34m.\u001b[0m\u001b[0mshould_sync\u001b[0m\u001b[0;34m:\u001b[0m\u001b[0;34m\u001b[0m\u001b[0;34m\u001b[0m\u001b[0m\n\u001b[1;32m   1687\u001b[0m                                 \u001b[0mcontext\u001b[0m\u001b[0;34m.\u001b[0m\u001b[0masync_wait\u001b[0m\u001b[0;34m(\u001b[0m\u001b[0;34m)\u001b[0m\u001b[0;34m\u001b[0m\u001b[0;34m\u001b[0m\u001b[0m\n",
            "\u001b[0;32m/usr/local/lib/python3.10/dist-packages/tensorflow/python/util/traceback_utils.py\u001b[0m in \u001b[0;36merror_handler\u001b[0;34m(*args, **kwargs)\u001b[0m\n\u001b[1;32m    148\u001b[0m     \u001b[0mfiltered_tb\u001b[0m \u001b[0;34m=\u001b[0m \u001b[0;32mNone\u001b[0m\u001b[0;34m\u001b[0m\u001b[0;34m\u001b[0m\u001b[0m\n\u001b[1;32m    149\u001b[0m     \u001b[0;32mtry\u001b[0m\u001b[0;34m:\u001b[0m\u001b[0;34m\u001b[0m\u001b[0;34m\u001b[0m\u001b[0m\n\u001b[0;32m--> 150\u001b[0;31m       \u001b[0;32mreturn\u001b[0m \u001b[0mfn\u001b[0m\u001b[0;34m(\u001b[0m\u001b[0;34m*\u001b[0m\u001b[0margs\u001b[0m\u001b[0;34m,\u001b[0m \u001b[0;34m**\u001b[0m\u001b[0mkwargs\u001b[0m\u001b[0;34m)\u001b[0m\u001b[0;34m\u001b[0m\u001b[0;34m\u001b[0m\u001b[0m\n\u001b[0m\u001b[1;32m    151\u001b[0m     \u001b[0;32mexcept\u001b[0m \u001b[0mException\u001b[0m \u001b[0;32mas\u001b[0m \u001b[0me\u001b[0m\u001b[0;34m:\u001b[0m\u001b[0;34m\u001b[0m\u001b[0;34m\u001b[0m\u001b[0m\n\u001b[1;32m    152\u001b[0m       \u001b[0mfiltered_tb\u001b[0m \u001b[0;34m=\u001b[0m \u001b[0m_process_traceback_frames\u001b[0m\u001b[0;34m(\u001b[0m\u001b[0me\u001b[0m\u001b[0;34m.\u001b[0m\u001b[0m__traceback__\u001b[0m\u001b[0;34m)\u001b[0m\u001b[0;34m\u001b[0m\u001b[0;34m\u001b[0m\u001b[0m\n",
            "\u001b[0;32m/usr/local/lib/python3.10/dist-packages/tensorflow/python/eager/polymorphic_function/polymorphic_function.py\u001b[0m in \u001b[0;36m__call__\u001b[0;34m(self, *args, **kwds)\u001b[0m\n\u001b[1;32m    892\u001b[0m \u001b[0;34m\u001b[0m\u001b[0m\n\u001b[1;32m    893\u001b[0m       \u001b[0;32mwith\u001b[0m \u001b[0mOptionalXlaContext\u001b[0m\u001b[0;34m(\u001b[0m\u001b[0mself\u001b[0m\u001b[0;34m.\u001b[0m\u001b[0m_jit_compile\u001b[0m\u001b[0;34m)\u001b[0m\u001b[0;34m:\u001b[0m\u001b[0;34m\u001b[0m\u001b[0;34m\u001b[0m\u001b[0m\n\u001b[0;32m--> 894\u001b[0;31m         \u001b[0mresult\u001b[0m \u001b[0;34m=\u001b[0m \u001b[0mself\u001b[0m\u001b[0;34m.\u001b[0m\u001b[0m_call\u001b[0m\u001b[0;34m(\u001b[0m\u001b[0;34m*\u001b[0m\u001b[0margs\u001b[0m\u001b[0;34m,\u001b[0m \u001b[0;34m**\u001b[0m\u001b[0mkwds\u001b[0m\u001b[0;34m)\u001b[0m\u001b[0;34m\u001b[0m\u001b[0;34m\u001b[0m\u001b[0m\n\u001b[0m\u001b[1;32m    895\u001b[0m \u001b[0;34m\u001b[0m\u001b[0m\n\u001b[1;32m    896\u001b[0m       \u001b[0mnew_tracing_count\u001b[0m \u001b[0;34m=\u001b[0m \u001b[0mself\u001b[0m\u001b[0;34m.\u001b[0m\u001b[0mexperimental_get_tracing_count\u001b[0m\u001b[0;34m(\u001b[0m\u001b[0;34m)\u001b[0m\u001b[0;34m\u001b[0m\u001b[0;34m\u001b[0m\u001b[0m\n",
            "\u001b[0;32m/usr/local/lib/python3.10/dist-packages/tensorflow/python/eager/polymorphic_function/polymorphic_function.py\u001b[0m in \u001b[0;36m_call\u001b[0;34m(self, *args, **kwds)\u001b[0m\n\u001b[1;32m    924\u001b[0m       \u001b[0;31m# In this case we have created variables on the first call, so we run the\u001b[0m\u001b[0;34m\u001b[0m\u001b[0;34m\u001b[0m\u001b[0m\n\u001b[1;32m    925\u001b[0m       \u001b[0;31m# defunned version which is guaranteed to never create variables.\u001b[0m\u001b[0;34m\u001b[0m\u001b[0;34m\u001b[0m\u001b[0m\n\u001b[0;32m--> 926\u001b[0;31m       \u001b[0;32mreturn\u001b[0m \u001b[0mself\u001b[0m\u001b[0;34m.\u001b[0m\u001b[0m_no_variable_creation_fn\u001b[0m\u001b[0;34m(\u001b[0m\u001b[0;34m*\u001b[0m\u001b[0margs\u001b[0m\u001b[0;34m,\u001b[0m \u001b[0;34m**\u001b[0m\u001b[0mkwds\u001b[0m\u001b[0;34m)\u001b[0m  \u001b[0;31m# pylint: disable=not-callable\u001b[0m\u001b[0;34m\u001b[0m\u001b[0;34m\u001b[0m\u001b[0m\n\u001b[0m\u001b[1;32m    927\u001b[0m     \u001b[0;32melif\u001b[0m \u001b[0mself\u001b[0m\u001b[0;34m.\u001b[0m\u001b[0m_variable_creation_fn\u001b[0m \u001b[0;32mis\u001b[0m \u001b[0;32mnot\u001b[0m \u001b[0;32mNone\u001b[0m\u001b[0;34m:\u001b[0m\u001b[0;34m\u001b[0m\u001b[0;34m\u001b[0m\u001b[0m\n\u001b[1;32m    928\u001b[0m       \u001b[0;31m# Release the lock early so that multiple threads can perform the call\u001b[0m\u001b[0;34m\u001b[0m\u001b[0;34m\u001b[0m\u001b[0m\n",
            "\u001b[0;32m/usr/local/lib/python3.10/dist-packages/tensorflow/python/eager/polymorphic_function/tracing_compiler.py\u001b[0m in \u001b[0;36m__call__\u001b[0;34m(self, *args, **kwargs)\u001b[0m\n\u001b[1;32m    141\u001b[0m       (concrete_function,\n\u001b[1;32m    142\u001b[0m        filtered_flat_args) = self._maybe_define_function(args, kwargs)\n\u001b[0;32m--> 143\u001b[0;31m     return concrete_function._call_flat(\n\u001b[0m\u001b[1;32m    144\u001b[0m         filtered_flat_args, captured_inputs=concrete_function.captured_inputs)  # pylint: disable=protected-access\n\u001b[1;32m    145\u001b[0m \u001b[0;34m\u001b[0m\u001b[0m\n",
            "\u001b[0;32m/usr/local/lib/python3.10/dist-packages/tensorflow/python/eager/polymorphic_function/monomorphic_function.py\u001b[0m in \u001b[0;36m_call_flat\u001b[0;34m(self, args, captured_inputs, cancellation_manager)\u001b[0m\n\u001b[1;32m   1755\u001b[0m         and executing_eagerly):\n\u001b[1;32m   1756\u001b[0m       \u001b[0;31m# No tape is watching; skip to running the function.\u001b[0m\u001b[0;34m\u001b[0m\u001b[0;34m\u001b[0m\u001b[0m\n\u001b[0;32m-> 1757\u001b[0;31m       return self._build_call_outputs(self._inference_function.call(\n\u001b[0m\u001b[1;32m   1758\u001b[0m           ctx, args, cancellation_manager=cancellation_manager))\n\u001b[1;32m   1759\u001b[0m     forward_backward = self._select_forward_and_backward_functions(\n",
            "\u001b[0;32m/usr/local/lib/python3.10/dist-packages/tensorflow/python/eager/polymorphic_function/monomorphic_function.py\u001b[0m in \u001b[0;36mcall\u001b[0;34m(self, ctx, args, cancellation_manager)\u001b[0m\n\u001b[1;32m    379\u001b[0m       \u001b[0;32mwith\u001b[0m \u001b[0m_InterpolateFunctionError\u001b[0m\u001b[0;34m(\u001b[0m\u001b[0mself\u001b[0m\u001b[0;34m)\u001b[0m\u001b[0;34m:\u001b[0m\u001b[0;34m\u001b[0m\u001b[0;34m\u001b[0m\u001b[0m\n\u001b[1;32m    380\u001b[0m         \u001b[0;32mif\u001b[0m \u001b[0mcancellation_manager\u001b[0m \u001b[0;32mis\u001b[0m \u001b[0;32mNone\u001b[0m\u001b[0;34m:\u001b[0m\u001b[0;34m\u001b[0m\u001b[0;34m\u001b[0m\u001b[0m\n\u001b[0;32m--> 381\u001b[0;31m           outputs = execute.execute(\n\u001b[0m\u001b[1;32m    382\u001b[0m               \u001b[0mstr\u001b[0m\u001b[0;34m(\u001b[0m\u001b[0mself\u001b[0m\u001b[0;34m.\u001b[0m\u001b[0msignature\u001b[0m\u001b[0;34m.\u001b[0m\u001b[0mname\u001b[0m\u001b[0;34m)\u001b[0m\u001b[0;34m,\u001b[0m\u001b[0;34m\u001b[0m\u001b[0;34m\u001b[0m\u001b[0m\n\u001b[1;32m    383\u001b[0m               \u001b[0mnum_outputs\u001b[0m\u001b[0;34m=\u001b[0m\u001b[0mself\u001b[0m\u001b[0;34m.\u001b[0m\u001b[0m_num_outputs\u001b[0m\u001b[0;34m,\u001b[0m\u001b[0;34m\u001b[0m\u001b[0;34m\u001b[0m\u001b[0m\n",
            "\u001b[0;32m/usr/local/lib/python3.10/dist-packages/tensorflow/python/eager/execute.py\u001b[0m in \u001b[0;36mquick_execute\u001b[0;34m(op_name, num_outputs, inputs, attrs, ctx, name)\u001b[0m\n\u001b[1;32m     50\u001b[0m   \u001b[0;32mtry\u001b[0m\u001b[0;34m:\u001b[0m\u001b[0;34m\u001b[0m\u001b[0;34m\u001b[0m\u001b[0m\n\u001b[1;32m     51\u001b[0m     \u001b[0mctx\u001b[0m\u001b[0;34m.\u001b[0m\u001b[0mensure_initialized\u001b[0m\u001b[0;34m(\u001b[0m\u001b[0;34m)\u001b[0m\u001b[0;34m\u001b[0m\u001b[0;34m\u001b[0m\u001b[0m\n\u001b[0;32m---> 52\u001b[0;31m     tensors = pywrap_tfe.TFE_Py_Execute(ctx._handle, device_name, op_name,\n\u001b[0m\u001b[1;32m     53\u001b[0m                                         inputs, attrs, num_outputs)\n\u001b[1;32m     54\u001b[0m   \u001b[0;32mexcept\u001b[0m \u001b[0mcore\u001b[0m\u001b[0;34m.\u001b[0m\u001b[0m_NotOkStatusException\u001b[0m \u001b[0;32mas\u001b[0m \u001b[0me\u001b[0m\u001b[0;34m:\u001b[0m\u001b[0;34m\u001b[0m\u001b[0;34m\u001b[0m\u001b[0m\n",
            "\u001b[0;31mKeyboardInterrupt\u001b[0m: "
          ]
        }
      ]
    },
    {
      "cell_type": "markdown",
      "source": [
        "# My own RNN3"
      ],
      "metadata": {
        "id": "Vh-HcnLtSfgk"
      },
      "id": "Vh-HcnLtSfgk"
    },
    {
      "cell_type": "code",
      "source": [
        "compileAndFit(train_ds,val_ds,lambda:Sequential([\n",
        "     layers.Embedding(vocablaryLength,8 ),\n",
        "     layers.LSTM(8),\n",
        "     layers.Dense(1)\n",
        "]),0.0001)"
      ],
      "metadata": {
        "colab": {
          "base_uri": "https://localhost:8080/",
          "height": 1000
        },
        "id": "HcdbtWdtRsXn",
        "outputId": "127f1b43-ad09-441c-863f-3a39e851e409"
      },
      "id": "HcdbtWdtRsXn",
      "execution_count": 18,
      "outputs": [
        {
          "output_type": "stream",
          "name": "stdout",
          "text": [
            "Epoch 1/1000\n",
            "625/625 [==============================] - 72s 112ms/step - loss: 0.6932 - binary_accuracy: 0.4907 - val_loss: 0.6932 - val_binary_accuracy: 0.5018\n",
            "Epoch 2/1000\n",
            "625/625 [==============================] - 20s 32ms/step - loss: 0.6930 - binary_accuracy: 0.5083 - val_loss: 0.6931 - val_binary_accuracy: 0.5024\n",
            "Epoch 3/1000\n",
            "625/625 [==============================] - 17s 27ms/step - loss: 0.6926 - binary_accuracy: 0.5418 - val_loss: 0.6930 - val_binary_accuracy: 0.5200\n",
            "Epoch 4/1000\n",
            "625/625 [==============================] - 13s 21ms/step - loss: 0.6911 - binary_accuracy: 0.5504 - val_loss: 0.6877 - val_binary_accuracy: 0.5298\n",
            "Epoch 5/1000\n",
            "625/625 [==============================] - 12s 20ms/step - loss: 0.6359 - binary_accuracy: 0.6591 - val_loss: 0.6521 - val_binary_accuracy: 0.6162\n",
            "Epoch 6/1000\n",
            "625/625 [==============================] - 12s 19ms/step - loss: 0.6591 - binary_accuracy: 0.5928 - val_loss: 0.6767 - val_binary_accuracy: 0.5489\n",
            "Epoch 7/1000\n",
            "625/625 [==============================] - 12s 19ms/step - loss: 0.6454 - binary_accuracy: 0.6075 - val_loss: 0.6390 - val_binary_accuracy: 0.6210\n",
            "Epoch 8/1000\n",
            "625/625 [==============================] - 13s 20ms/step - loss: 0.6130 - binary_accuracy: 0.6763 - val_loss: 0.6093 - val_binary_accuracy: 0.6961\n",
            "Epoch 9/1000\n",
            "625/625 [==============================] - 10s 16ms/step - loss: 0.5863 - binary_accuracy: 0.7501 - val_loss: 0.5993 - val_binary_accuracy: 0.7123\n",
            "Epoch 10/1000\n",
            "625/625 [==============================] - 10s 16ms/step - loss: 0.5730 - binary_accuracy: 0.7548 - val_loss: 0.5832 - val_binary_accuracy: 0.7346\n",
            "Epoch 11/1000\n",
            "625/625 [==============================] - 10s 16ms/step - loss: 0.5482 - binary_accuracy: 0.7789 - val_loss: 0.5581 - val_binary_accuracy: 0.7614\n",
            "Epoch 12/1000\n",
            "625/625 [==============================] - 10s 16ms/step - loss: 0.5129 - binary_accuracy: 0.8019 - val_loss: 0.5230 - val_binary_accuracy: 0.7806\n",
            "Epoch 13/1000\n",
            "625/625 [==============================] - 10s 17ms/step - loss: 0.4634 - binary_accuracy: 0.8288 - val_loss: 0.4765 - val_binary_accuracy: 0.8049\n",
            "Epoch 14/1000\n",
            "625/625 [==============================] - 11s 18ms/step - loss: 0.4141 - binary_accuracy: 0.8536 - val_loss: 0.4370 - val_binary_accuracy: 0.8259\n",
            "Epoch 15/1000\n",
            "625/625 [==============================] - 10s 15ms/step - loss: 0.3717 - binary_accuracy: 0.8730 - val_loss: 0.4061 - val_binary_accuracy: 0.8427\n",
            "Epoch 16/1000\n",
            "625/625 [==============================] - 10s 16ms/step - loss: 0.3362 - binary_accuracy: 0.8896 - val_loss: 0.3950 - val_binary_accuracy: 0.8468\n",
            "Epoch 17/1000\n",
            "625/625 [==============================] - 10s 16ms/step - loss: 0.3103 - binary_accuracy: 0.8979 - val_loss: 0.3963 - val_binary_accuracy: 0.8458\n",
            "Epoch 18/1000\n",
            "625/625 [==============================] - 10s 16ms/step - loss: 0.2863 - binary_accuracy: 0.9104 - val_loss: 0.3949 - val_binary_accuracy: 0.8502\n",
            "Epoch 19/1000\n",
            "625/625 [==============================] - 10s 16ms/step - loss: 0.2652 - binary_accuracy: 0.9190 - val_loss: 0.4058 - val_binary_accuracy: 0.8502\n",
            "Epoch 20/1000\n",
            "625/625 [==============================] - 9s 14ms/step - loss: 0.2486 - binary_accuracy: 0.9255 - val_loss: 0.4147 - val_binary_accuracy: 0.8480\n",
            "Epoch 21/1000\n",
            "625/625 [==============================] - 10s 16ms/step - loss: 0.2377 - binary_accuracy: 0.9303 - val_loss: 0.4095 - val_binary_accuracy: 0.8548\n",
            "Epoch 22/1000\n",
            "625/625 [==============================] - 10s 15ms/step - loss: 0.2266 - binary_accuracy: 0.9359 - val_loss: 0.4236 - val_binary_accuracy: 0.8446\n",
            "Epoch 23/1000\n",
            "625/625 [==============================] - 10s 16ms/step - loss: 0.2188 - binary_accuracy: 0.9395 - val_loss: 0.4422 - val_binary_accuracy: 0.8516\n",
            "Epoch 24/1000\n",
            "625/625 [==============================] - 8s 13ms/step - loss: 0.2114 - binary_accuracy: 0.9421 - val_loss: 0.4305 - val_binary_accuracy: 0.8556\n",
            "Epoch 25/1000\n",
            "625/625 [==============================] - 10s 16ms/step - loss: 0.2026 - binary_accuracy: 0.9457 - val_loss: 0.4233 - val_binary_accuracy: 0.8550\n",
            "Epoch 26/1000\n",
            "625/625 [==============================] - 10s 16ms/step - loss: 0.2063 - binary_accuracy: 0.9445 - val_loss: 0.4193 - val_binary_accuracy: 0.8556\n",
            "Epoch 27/1000\n",
            "625/625 [==============================] - 10s 15ms/step - loss: 0.1957 - binary_accuracy: 0.9485 - val_loss: 0.4122 - val_binary_accuracy: 0.8586\n",
            "Epoch 28/1000\n",
            "625/625 [==============================] - 11s 17ms/step - loss: 0.1950 - binary_accuracy: 0.9480 - val_loss: 0.4194 - val_binary_accuracy: 0.8582\n",
            "Epoch 29/1000\n",
            "625/625 [==============================] - 9s 14ms/step - loss: 0.1870 - binary_accuracy: 0.9528 - val_loss: 0.4412 - val_binary_accuracy: 0.8546\n",
            "Epoch 30/1000\n",
            "625/625 [==============================] - 10s 15ms/step - loss: 0.1894 - binary_accuracy: 0.9513 - val_loss: 0.4386 - val_binary_accuracy: 0.8546\n",
            "Epoch 31/1000\n",
            "625/625 [==============================] - 10s 16ms/step - loss: 0.1806 - binary_accuracy: 0.9551 - val_loss: 0.4202 - val_binary_accuracy: 0.8572\n",
            "Epoch 32/1000\n",
            "625/625 [==============================] - 10s 15ms/step - loss: 0.1759 - binary_accuracy: 0.9567 - val_loss: 0.4500 - val_binary_accuracy: 0.8552\n",
            "156/156 [==============================] - 1s 6ms/step - loss: 0.4122 - binary_accuracy: 0.8586\n",
            "625/625 [==============================] - 4s 7ms/step - loss: 0.1863 - binary_accuracy: 0.9541\n",
            "Epoch 1/1000\n",
            "625/625 [==============================] - 55s 85ms/step - loss: 0.6930 - binary_accuracy: 0.5124 - val_loss: 0.6930 - val_binary_accuracy: 0.5112\n",
            "Epoch 2/1000\n",
            "304/625 [=============>................] - ETA: 8s - loss: 0.6926 - binary_accuracy: 0.5248"
          ]
        },
        {
          "output_type": "error",
          "ename": "KeyboardInterrupt",
          "evalue": "ignored",
          "traceback": [
            "\u001b[0;31m---------------------------------------------------------------------------\u001b[0m",
            "\u001b[0;31mKeyboardInterrupt\u001b[0m                         Traceback (most recent call last)",
            "\u001b[0;32m<ipython-input-18-e52859b8d193>\u001b[0m in \u001b[0;36m<cell line: 1>\u001b[0;34m()\u001b[0m\n\u001b[0;32m----> 1\u001b[0;31m compileAndFit(train_ds,val_ds,lambda:Sequential([\n\u001b[0m\u001b[1;32m      2\u001b[0m      \u001b[0mlayers\u001b[0m\u001b[0;34m.\u001b[0m\u001b[0mEmbedding\u001b[0m\u001b[0;34m(\u001b[0m\u001b[0mvocablaryLength\u001b[0m\u001b[0;34m,\u001b[0m\u001b[0;36m8\u001b[0m \u001b[0;34m)\u001b[0m\u001b[0;34m,\u001b[0m\u001b[0;34m\u001b[0m\u001b[0;34m\u001b[0m\u001b[0m\n\u001b[1;32m      3\u001b[0m      \u001b[0mlayers\u001b[0m\u001b[0;34m.\u001b[0m\u001b[0mLSTM\u001b[0m\u001b[0;34m(\u001b[0m\u001b[0;36m8\u001b[0m\u001b[0;34m)\u001b[0m\u001b[0;34m,\u001b[0m\u001b[0;34m\u001b[0m\u001b[0;34m\u001b[0m\u001b[0m\n\u001b[1;32m      4\u001b[0m      \u001b[0mlayers\u001b[0m\u001b[0;34m.\u001b[0m\u001b[0mDense\u001b[0m\u001b[0;34m(\u001b[0m\u001b[0;36m1\u001b[0m\u001b[0;34m)\u001b[0m\u001b[0;34m\u001b[0m\u001b[0;34m\u001b[0m\u001b[0m\n\u001b[1;32m      5\u001b[0m ]),0.0001)\n",
            "\u001b[0;32m<ipython-input-14-1c6fc141b9f3>\u001b[0m in \u001b[0;36mcompileAndFit\u001b[0;34m(train_ds, val_ds, getModel, learning_rate)\u001b[0m\n\u001b[1;32m     13\u001b[0m         \u001b[0;31m#model.summary()\u001b[0m\u001b[0;34m\u001b[0m\u001b[0;34m\u001b[0m\u001b[0m\n\u001b[1;32m     14\u001b[0m \u001b[0;34m\u001b[0m\u001b[0m\n\u001b[0;32m---> 15\u001b[0;31m         history = model.fit(    train_ds,    validation_data=val_ds,    epochs=1000, verbose=1,\n\u001b[0m\u001b[1;32m     16\u001b[0m               callbacks=[tf.keras.callbacks.EarlyStopping(monitor='val_binary_accuracy', patience=5,mode='max',restore_best_weights=True)] )\n\u001b[1;32m     17\u001b[0m \u001b[0;34m\u001b[0m\u001b[0m\n",
            "\u001b[0;32m/usr/local/lib/python3.10/dist-packages/keras/utils/traceback_utils.py\u001b[0m in \u001b[0;36merror_handler\u001b[0;34m(*args, **kwargs)\u001b[0m\n\u001b[1;32m     63\u001b[0m         \u001b[0mfiltered_tb\u001b[0m \u001b[0;34m=\u001b[0m \u001b[0;32mNone\u001b[0m\u001b[0;34m\u001b[0m\u001b[0;34m\u001b[0m\u001b[0m\n\u001b[1;32m     64\u001b[0m         \u001b[0;32mtry\u001b[0m\u001b[0;34m:\u001b[0m\u001b[0;34m\u001b[0m\u001b[0;34m\u001b[0m\u001b[0m\n\u001b[0;32m---> 65\u001b[0;31m             \u001b[0;32mreturn\u001b[0m \u001b[0mfn\u001b[0m\u001b[0;34m(\u001b[0m\u001b[0;34m*\u001b[0m\u001b[0margs\u001b[0m\u001b[0;34m,\u001b[0m \u001b[0;34m**\u001b[0m\u001b[0mkwargs\u001b[0m\u001b[0;34m)\u001b[0m\u001b[0;34m\u001b[0m\u001b[0;34m\u001b[0m\u001b[0m\n\u001b[0m\u001b[1;32m     66\u001b[0m         \u001b[0;32mexcept\u001b[0m \u001b[0mException\u001b[0m \u001b[0;32mas\u001b[0m \u001b[0me\u001b[0m\u001b[0;34m:\u001b[0m\u001b[0;34m\u001b[0m\u001b[0;34m\u001b[0m\u001b[0m\n\u001b[1;32m     67\u001b[0m             \u001b[0mfiltered_tb\u001b[0m \u001b[0;34m=\u001b[0m \u001b[0m_process_traceback_frames\u001b[0m\u001b[0;34m(\u001b[0m\u001b[0me\u001b[0m\u001b[0;34m.\u001b[0m\u001b[0m__traceback__\u001b[0m\u001b[0;34m)\u001b[0m\u001b[0;34m\u001b[0m\u001b[0;34m\u001b[0m\u001b[0m\n",
            "\u001b[0;32m/usr/local/lib/python3.10/dist-packages/keras/engine/training.py\u001b[0m in \u001b[0;36mfit\u001b[0;34m(self, x, y, batch_size, epochs, verbose, callbacks, validation_split, validation_data, shuffle, class_weight, sample_weight, initial_epoch, steps_per_epoch, validation_steps, validation_batch_size, validation_freq, max_queue_size, workers, use_multiprocessing)\u001b[0m\n\u001b[1;32m   1683\u001b[0m                         ):\n\u001b[1;32m   1684\u001b[0m                             \u001b[0mcallbacks\u001b[0m\u001b[0;34m.\u001b[0m\u001b[0mon_train_batch_begin\u001b[0m\u001b[0;34m(\u001b[0m\u001b[0mstep\u001b[0m\u001b[0;34m)\u001b[0m\u001b[0;34m\u001b[0m\u001b[0;34m\u001b[0m\u001b[0m\n\u001b[0;32m-> 1685\u001b[0;31m                             \u001b[0mtmp_logs\u001b[0m \u001b[0;34m=\u001b[0m \u001b[0mself\u001b[0m\u001b[0;34m.\u001b[0m\u001b[0mtrain_function\u001b[0m\u001b[0;34m(\u001b[0m\u001b[0miterator\u001b[0m\u001b[0;34m)\u001b[0m\u001b[0;34m\u001b[0m\u001b[0;34m\u001b[0m\u001b[0m\n\u001b[0m\u001b[1;32m   1686\u001b[0m                             \u001b[0;32mif\u001b[0m \u001b[0mdata_handler\u001b[0m\u001b[0;34m.\u001b[0m\u001b[0mshould_sync\u001b[0m\u001b[0;34m:\u001b[0m\u001b[0;34m\u001b[0m\u001b[0;34m\u001b[0m\u001b[0m\n\u001b[1;32m   1687\u001b[0m                                 \u001b[0mcontext\u001b[0m\u001b[0;34m.\u001b[0m\u001b[0masync_wait\u001b[0m\u001b[0;34m(\u001b[0m\u001b[0;34m)\u001b[0m\u001b[0;34m\u001b[0m\u001b[0;34m\u001b[0m\u001b[0m\n",
            "\u001b[0;32m/usr/local/lib/python3.10/dist-packages/tensorflow/python/util/traceback_utils.py\u001b[0m in \u001b[0;36merror_handler\u001b[0;34m(*args, **kwargs)\u001b[0m\n\u001b[1;32m    148\u001b[0m     \u001b[0mfiltered_tb\u001b[0m \u001b[0;34m=\u001b[0m \u001b[0;32mNone\u001b[0m\u001b[0;34m\u001b[0m\u001b[0;34m\u001b[0m\u001b[0m\n\u001b[1;32m    149\u001b[0m     \u001b[0;32mtry\u001b[0m\u001b[0;34m:\u001b[0m\u001b[0;34m\u001b[0m\u001b[0;34m\u001b[0m\u001b[0m\n\u001b[0;32m--> 150\u001b[0;31m       \u001b[0;32mreturn\u001b[0m \u001b[0mfn\u001b[0m\u001b[0;34m(\u001b[0m\u001b[0;34m*\u001b[0m\u001b[0margs\u001b[0m\u001b[0;34m,\u001b[0m \u001b[0;34m**\u001b[0m\u001b[0mkwargs\u001b[0m\u001b[0;34m)\u001b[0m\u001b[0;34m\u001b[0m\u001b[0;34m\u001b[0m\u001b[0m\n\u001b[0m\u001b[1;32m    151\u001b[0m     \u001b[0;32mexcept\u001b[0m \u001b[0mException\u001b[0m \u001b[0;32mas\u001b[0m \u001b[0me\u001b[0m\u001b[0;34m:\u001b[0m\u001b[0;34m\u001b[0m\u001b[0;34m\u001b[0m\u001b[0m\n\u001b[1;32m    152\u001b[0m       \u001b[0mfiltered_tb\u001b[0m \u001b[0;34m=\u001b[0m \u001b[0m_process_traceback_frames\u001b[0m\u001b[0;34m(\u001b[0m\u001b[0me\u001b[0m\u001b[0;34m.\u001b[0m\u001b[0m__traceback__\u001b[0m\u001b[0;34m)\u001b[0m\u001b[0;34m\u001b[0m\u001b[0;34m\u001b[0m\u001b[0m\n",
            "\u001b[0;32m/usr/local/lib/python3.10/dist-packages/tensorflow/python/eager/polymorphic_function/polymorphic_function.py\u001b[0m in \u001b[0;36m__call__\u001b[0;34m(self, *args, **kwds)\u001b[0m\n\u001b[1;32m    892\u001b[0m \u001b[0;34m\u001b[0m\u001b[0m\n\u001b[1;32m    893\u001b[0m       \u001b[0;32mwith\u001b[0m \u001b[0mOptionalXlaContext\u001b[0m\u001b[0;34m(\u001b[0m\u001b[0mself\u001b[0m\u001b[0;34m.\u001b[0m\u001b[0m_jit_compile\u001b[0m\u001b[0;34m)\u001b[0m\u001b[0;34m:\u001b[0m\u001b[0;34m\u001b[0m\u001b[0;34m\u001b[0m\u001b[0m\n\u001b[0;32m--> 894\u001b[0;31m         \u001b[0mresult\u001b[0m \u001b[0;34m=\u001b[0m \u001b[0mself\u001b[0m\u001b[0;34m.\u001b[0m\u001b[0m_call\u001b[0m\u001b[0;34m(\u001b[0m\u001b[0;34m*\u001b[0m\u001b[0margs\u001b[0m\u001b[0;34m,\u001b[0m \u001b[0;34m**\u001b[0m\u001b[0mkwds\u001b[0m\u001b[0;34m)\u001b[0m\u001b[0;34m\u001b[0m\u001b[0;34m\u001b[0m\u001b[0m\n\u001b[0m\u001b[1;32m    895\u001b[0m \u001b[0;34m\u001b[0m\u001b[0m\n\u001b[1;32m    896\u001b[0m       \u001b[0mnew_tracing_count\u001b[0m \u001b[0;34m=\u001b[0m \u001b[0mself\u001b[0m\u001b[0;34m.\u001b[0m\u001b[0mexperimental_get_tracing_count\u001b[0m\u001b[0;34m(\u001b[0m\u001b[0;34m)\u001b[0m\u001b[0;34m\u001b[0m\u001b[0;34m\u001b[0m\u001b[0m\n",
            "\u001b[0;32m/usr/local/lib/python3.10/dist-packages/tensorflow/python/eager/polymorphic_function/polymorphic_function.py\u001b[0m in \u001b[0;36m_call\u001b[0;34m(self, *args, **kwds)\u001b[0m\n\u001b[1;32m    924\u001b[0m       \u001b[0;31m# In this case we have created variables on the first call, so we run the\u001b[0m\u001b[0;34m\u001b[0m\u001b[0;34m\u001b[0m\u001b[0m\n\u001b[1;32m    925\u001b[0m       \u001b[0;31m# defunned version which is guaranteed to never create variables.\u001b[0m\u001b[0;34m\u001b[0m\u001b[0;34m\u001b[0m\u001b[0m\n\u001b[0;32m--> 926\u001b[0;31m       \u001b[0;32mreturn\u001b[0m \u001b[0mself\u001b[0m\u001b[0;34m.\u001b[0m\u001b[0m_no_variable_creation_fn\u001b[0m\u001b[0;34m(\u001b[0m\u001b[0;34m*\u001b[0m\u001b[0margs\u001b[0m\u001b[0;34m,\u001b[0m \u001b[0;34m**\u001b[0m\u001b[0mkwds\u001b[0m\u001b[0;34m)\u001b[0m  \u001b[0;31m# pylint: disable=not-callable\u001b[0m\u001b[0;34m\u001b[0m\u001b[0;34m\u001b[0m\u001b[0m\n\u001b[0m\u001b[1;32m    927\u001b[0m     \u001b[0;32melif\u001b[0m \u001b[0mself\u001b[0m\u001b[0;34m.\u001b[0m\u001b[0m_variable_creation_fn\u001b[0m \u001b[0;32mis\u001b[0m \u001b[0;32mnot\u001b[0m \u001b[0;32mNone\u001b[0m\u001b[0;34m:\u001b[0m\u001b[0;34m\u001b[0m\u001b[0;34m\u001b[0m\u001b[0m\n\u001b[1;32m    928\u001b[0m       \u001b[0;31m# Release the lock early so that multiple threads can perform the call\u001b[0m\u001b[0;34m\u001b[0m\u001b[0;34m\u001b[0m\u001b[0m\n",
            "\u001b[0;32m/usr/local/lib/python3.10/dist-packages/tensorflow/python/eager/polymorphic_function/tracing_compiler.py\u001b[0m in \u001b[0;36m__call__\u001b[0;34m(self, *args, **kwargs)\u001b[0m\n\u001b[1;32m    141\u001b[0m       (concrete_function,\n\u001b[1;32m    142\u001b[0m        filtered_flat_args) = self._maybe_define_function(args, kwargs)\n\u001b[0;32m--> 143\u001b[0;31m     return concrete_function._call_flat(\n\u001b[0m\u001b[1;32m    144\u001b[0m         filtered_flat_args, captured_inputs=concrete_function.captured_inputs)  # pylint: disable=protected-access\n\u001b[1;32m    145\u001b[0m \u001b[0;34m\u001b[0m\u001b[0m\n",
            "\u001b[0;32m/usr/local/lib/python3.10/dist-packages/tensorflow/python/eager/polymorphic_function/monomorphic_function.py\u001b[0m in \u001b[0;36m_call_flat\u001b[0;34m(self, args, captured_inputs, cancellation_manager)\u001b[0m\n\u001b[1;32m   1755\u001b[0m         and executing_eagerly):\n\u001b[1;32m   1756\u001b[0m       \u001b[0;31m# No tape is watching; skip to running the function.\u001b[0m\u001b[0;34m\u001b[0m\u001b[0;34m\u001b[0m\u001b[0m\n\u001b[0;32m-> 1757\u001b[0;31m       return self._build_call_outputs(self._inference_function.call(\n\u001b[0m\u001b[1;32m   1758\u001b[0m           ctx, args, cancellation_manager=cancellation_manager))\n\u001b[1;32m   1759\u001b[0m     forward_backward = self._select_forward_and_backward_functions(\n",
            "\u001b[0;32m/usr/local/lib/python3.10/dist-packages/tensorflow/python/eager/polymorphic_function/monomorphic_function.py\u001b[0m in \u001b[0;36mcall\u001b[0;34m(self, ctx, args, cancellation_manager)\u001b[0m\n\u001b[1;32m    379\u001b[0m       \u001b[0;32mwith\u001b[0m \u001b[0m_InterpolateFunctionError\u001b[0m\u001b[0;34m(\u001b[0m\u001b[0mself\u001b[0m\u001b[0;34m)\u001b[0m\u001b[0;34m:\u001b[0m\u001b[0;34m\u001b[0m\u001b[0;34m\u001b[0m\u001b[0m\n\u001b[1;32m    380\u001b[0m         \u001b[0;32mif\u001b[0m \u001b[0mcancellation_manager\u001b[0m \u001b[0;32mis\u001b[0m \u001b[0;32mNone\u001b[0m\u001b[0;34m:\u001b[0m\u001b[0;34m\u001b[0m\u001b[0;34m\u001b[0m\u001b[0m\n\u001b[0;32m--> 381\u001b[0;31m           outputs = execute.execute(\n\u001b[0m\u001b[1;32m    382\u001b[0m               \u001b[0mstr\u001b[0m\u001b[0;34m(\u001b[0m\u001b[0mself\u001b[0m\u001b[0;34m.\u001b[0m\u001b[0msignature\u001b[0m\u001b[0;34m.\u001b[0m\u001b[0mname\u001b[0m\u001b[0;34m)\u001b[0m\u001b[0;34m,\u001b[0m\u001b[0;34m\u001b[0m\u001b[0;34m\u001b[0m\u001b[0m\n\u001b[1;32m    383\u001b[0m               \u001b[0mnum_outputs\u001b[0m\u001b[0;34m=\u001b[0m\u001b[0mself\u001b[0m\u001b[0;34m.\u001b[0m\u001b[0m_num_outputs\u001b[0m\u001b[0;34m,\u001b[0m\u001b[0;34m\u001b[0m\u001b[0;34m\u001b[0m\u001b[0m\n",
            "\u001b[0;32m/usr/local/lib/python3.10/dist-packages/tensorflow/python/eager/execute.py\u001b[0m in \u001b[0;36mquick_execute\u001b[0;34m(op_name, num_outputs, inputs, attrs, ctx, name)\u001b[0m\n\u001b[1;32m     50\u001b[0m   \u001b[0;32mtry\u001b[0m\u001b[0;34m:\u001b[0m\u001b[0;34m\u001b[0m\u001b[0;34m\u001b[0m\u001b[0m\n\u001b[1;32m     51\u001b[0m     \u001b[0mctx\u001b[0m\u001b[0;34m.\u001b[0m\u001b[0mensure_initialized\u001b[0m\u001b[0;34m(\u001b[0m\u001b[0;34m)\u001b[0m\u001b[0;34m\u001b[0m\u001b[0;34m\u001b[0m\u001b[0m\n\u001b[0;32m---> 52\u001b[0;31m     tensors = pywrap_tfe.TFE_Py_Execute(ctx._handle, device_name, op_name,\n\u001b[0m\u001b[1;32m     53\u001b[0m                                         inputs, attrs, num_outputs)\n\u001b[1;32m     54\u001b[0m   \u001b[0;32mexcept\u001b[0m \u001b[0mcore\u001b[0m\u001b[0;34m.\u001b[0m\u001b[0m_NotOkStatusException\u001b[0m \u001b[0;32mas\u001b[0m \u001b[0me\u001b[0m\u001b[0;34m:\u001b[0m\u001b[0;34m\u001b[0m\u001b[0;34m\u001b[0m\u001b[0m\n",
            "\u001b[0;31mKeyboardInterrupt\u001b[0m: "
          ]
        }
      ]
    },
    {
      "cell_type": "markdown",
      "source": [],
      "metadata": {
        "id": "45V66ru1Rkw4"
      },
      "id": "45V66ru1Rkw4"
    },
    {
      "cell_type": "markdown",
      "id": "324ac481-0c27-492e-82fd-d895d5f840a1",
      "metadata": {
        "id": "324ac481-0c27-492e-82fd-d895d5f840a1"
      },
      "source": [
        "# [Text classification with an RNN](https://www.tensorflow.org/text/tutorials/text_classification_rnn)"
      ]
    },
    {
      "cell_type": "code",
      "execution_count": null,
      "id": "79248fe3-806a-4018-ba47-802157b903a3",
      "metadata": {
        "id": "79248fe3-806a-4018-ba47-802157b903a3",
        "colab": {
          "base_uri": "https://localhost:8080/"
        },
        "outputId": "7a0f0e36-e1cc-412e-bf9e-0280a4b46623"
      },
      "outputs": [
        {
          "output_type": "stream",
          "name": "stdout",
          "text": [
            "Epoch 1/1000\n",
            "625/625 [==============================] - 102s 138ms/step - loss: 0.5763 - binary_accuracy: 0.6854 - val_loss: 0.4164 - val_binary_accuracy: 0.8265\n",
            "Epoch 2/1000\n",
            "625/625 [==============================] - 38s 61ms/step - loss: 0.3242 - binary_accuracy: 0.8742 - val_loss: 0.3650 - val_binary_accuracy: 0.8588\n",
            "Epoch 3/1000\n",
            "625/625 [==============================] - 31s 49ms/step - loss: 0.2424 - binary_accuracy: 0.9090 - val_loss: 0.3166 - val_binary_accuracy: 0.8734\n",
            "Epoch 4/1000\n",
            "625/625 [==============================] - 28s 45ms/step - loss: 0.1907 - binary_accuracy: 0.9323 - val_loss: 0.3766 - val_binary_accuracy: 0.8438\n",
            "Epoch 5/1000\n",
            "625/625 [==============================] - 24s 39ms/step - loss: 0.1584 - binary_accuracy: 0.9452 - val_loss: 0.3343 - val_binary_accuracy: 0.8712\n",
            "Epoch 6/1000\n",
            "625/625 [==============================] - 25s 40ms/step - loss: 0.1291 - binary_accuracy: 0.9581 - val_loss: 0.3811 - val_binary_accuracy: 0.8682\n",
            "Epoch 7/1000\n",
            "625/625 [==============================] - 27s 43ms/step - loss: 0.1106 - binary_accuracy: 0.9651 - val_loss: 0.4238 - val_binary_accuracy: 0.8670\n",
            "Epoch 8/1000\n",
            "625/625 [==============================] - 24s 39ms/step - loss: 0.0960 - binary_accuracy: 0.9695 - val_loss: 0.4358 - val_binary_accuracy: 0.8686\n",
            "156/156 [==============================] - 3s 20ms/step - loss: 0.3162 - binary_accuracy: 0.8736\n",
            "625/625 [==============================] - 9s 14ms/step - loss: 0.1822 - binary_accuracy: 0.9406\n",
            "Epoch 1/1000\n",
            "625/625 [==============================] - 79s 111ms/step - loss: 0.5718 - binary_accuracy: 0.6782 - val_loss: 0.3997 - val_binary_accuracy: 0.8343\n",
            "Epoch 2/1000\n",
            "625/625 [==============================] - 34s 55ms/step - loss: 0.3233 - binary_accuracy: 0.8697 - val_loss: 0.3387 - val_binary_accuracy: 0.8630\n",
            "Epoch 3/1000\n",
            "625/625 [==============================] - 28s 45ms/step - loss: 0.2436 - binary_accuracy: 0.9075 - val_loss: 0.3437 - val_binary_accuracy: 0.8680\n",
            "Epoch 4/1000\n",
            "625/625 [==============================] - 28s 45ms/step - loss: 0.1934 - binary_accuracy: 0.9301 - val_loss: 0.3477 - val_binary_accuracy: 0.8756\n",
            "Epoch 5/1000\n",
            "625/625 [==============================] - 25s 40ms/step - loss: 0.1597 - binary_accuracy: 0.9446 - val_loss: 0.3745 - val_binary_accuracy: 0.8614\n",
            "Epoch 6/1000\n",
            "625/625 [==============================] - 25s 40ms/step - loss: 0.1316 - binary_accuracy: 0.9542 - val_loss: 0.3765 - val_binary_accuracy: 0.8712\n",
            "Epoch 7/1000\n",
            "625/625 [==============================] - 24s 38ms/step - loss: 0.1125 - binary_accuracy: 0.9629 - val_loss: 0.3979 - val_binary_accuracy: 0.8680\n",
            "Epoch 8/1000\n",
            "625/625 [==============================] - 25s 39ms/step - loss: 0.0949 - binary_accuracy: 0.9704 - val_loss: 0.4292 - val_binary_accuracy: 0.8668\n",
            "Epoch 9/1000\n",
            "625/625 [==============================] - 23s 37ms/step - loss: 0.0830 - binary_accuracy: 0.9749 - val_loss: 0.4632 - val_binary_accuracy: 0.8630\n",
            "156/156 [==============================] - 2s 12ms/step - loss: 0.3481 - binary_accuracy: 0.8754\n",
            "625/625 [==============================] - 9s 14ms/step - loss: 0.1429 - binary_accuracy: 0.9540\n",
            "Epoch 1/1000\n",
            "625/625 [==============================] - 77s 109ms/step - loss: 0.5850 - binary_accuracy: 0.6801 - val_loss: 0.4063 - val_binary_accuracy: 0.8357\n",
            "Epoch 2/1000\n",
            "625/625 [==============================] - 32s 50ms/step - loss: 0.3323 - binary_accuracy: 0.8684 - val_loss: 0.3274 - val_binary_accuracy: 0.8658\n",
            "Epoch 3/1000\n",
            "625/625 [==============================] - 28s 45ms/step - loss: 0.2455 - binary_accuracy: 0.9100 - val_loss: 0.3063 - val_binary_accuracy: 0.8780\n",
            "Epoch 4/1000\n",
            "625/625 [==============================] - 25s 41ms/step - loss: 0.1936 - binary_accuracy: 0.9324 - val_loss: 0.3423 - val_binary_accuracy: 0.8710\n",
            "Epoch 5/1000\n",
            "625/625 [==============================] - 24s 38ms/step - loss: 0.1604 - binary_accuracy: 0.9462 - val_loss: 0.3457 - val_binary_accuracy: 0.8690\n",
            "Epoch 6/1000\n",
            "625/625 [==============================] - 25s 39ms/step - loss: 0.1313 - binary_accuracy: 0.9554 - val_loss: 0.3710 - val_binary_accuracy: 0.8680\n",
            "Epoch 7/1000\n",
            "625/625 [==============================] - 22s 35ms/step - loss: 0.1095 - binary_accuracy: 0.9642 - val_loss: 0.4308 - val_binary_accuracy: 0.8688\n",
            "Epoch 8/1000\n",
            "625/625 [==============================] - 24s 38ms/step - loss: 0.0951 - binary_accuracy: 0.9689 - val_loss: 0.4471 - val_binary_accuracy: 0.8674\n",
            "156/156 [==============================] - 2s 12ms/step - loss: 0.3061 - binary_accuracy: 0.8782\n",
            "625/625 [==============================] - 9s 14ms/step - loss: 0.1885 - binary_accuracy: 0.9387\n",
            "Time,s\tTraining accuracy\tValidation accuracy\tEpochs\n",
            "326\t0.941\t0.874\t8\n",
            "350\t0.954\t0.875\t9\n",
            "277\t0.939\t0.878\t8\n"
          ]
        }
      ],
      "source": [
        "#same as above but different lr\n",
        "compileAndFit(train_ds,val_ds,lambda:Sequential([\n",
        "     layers.Embedding(vocablaryLength, 64, mask_zero=True),\n",
        "     layers.Bidirectional( layers.LSTM(64)),\n",
        "     layers.Dense(64, activation='relu'),\n",
        "     layers.Dense(1)\n",
        "]),0.0001)"
      ]
    },
    {
      "cell_type": "markdown",
      "id": "5bcb87db-528d-4df7-8c81-287d684a357a",
      "metadata": {
        "id": "5bcb87db-528d-4df7-8c81-287d684a357a"
      },
      "source": [
        "# [Text classification with an RNN 2](https://www.tensorflow.org/text/tutorials/text_classification_rnn)"
      ]
    },
    {
      "cell_type": "code",
      "execution_count": null,
      "id": "6aea7faa-8d1d-434a-bdd8-925583908c1b",
      "metadata": {
        "id": "6aea7faa-8d1d-434a-bdd8-925583908c1b",
        "colab": {
          "base_uri": "https://localhost:8080/"
        },
        "outputId": "2d244f33-5b47-4625-b5dc-d900e0fcfb55"
      },
      "outputs": [
        {
          "output_type": "stream",
          "name": "stdout",
          "text": [
            "Epoch 1/1000\n",
            "625/625 [==============================] - 104s 139ms/step - loss: 0.5495 - binary_accuracy: 0.7029 - val_loss: 0.3438 - val_binary_accuracy: 0.8538\n",
            "Epoch 2/1000\n",
            "625/625 [==============================] - 48s 76ms/step - loss: 0.2881 - binary_accuracy: 0.8888 - val_loss: 0.3039 - val_binary_accuracy: 0.8704\n",
            "Epoch 3/1000\n",
            "625/625 [==============================] - 44s 71ms/step - loss: 0.2106 - binary_accuracy: 0.9255 - val_loss: 0.4117 - val_binary_accuracy: 0.8586\n",
            "Epoch 4/1000\n",
            "625/625 [==============================] - 43s 68ms/step - loss: 0.1668 - binary_accuracy: 0.9434 - val_loss: 0.3474 - val_binary_accuracy: 0.8726\n",
            "Epoch 5/1000\n",
            "625/625 [==============================] - 41s 66ms/step - loss: 0.1301 - binary_accuracy: 0.9586 - val_loss: 0.4318 - val_binary_accuracy: 0.8620\n",
            "Epoch 6/1000\n",
            "625/625 [==============================] - 41s 65ms/step - loss: 0.1039 - binary_accuracy: 0.9687 - val_loss: 0.4733 - val_binary_accuracy: 0.8654\n",
            "Epoch 7/1000\n",
            "625/625 [==============================] - 39s 63ms/step - loss: 0.0843 - binary_accuracy: 0.9758 - val_loss: 0.4785 - val_binary_accuracy: 0.8664\n",
            "Epoch 8/1000\n",
            "625/625 [==============================] - 41s 65ms/step - loss: 0.0684 - binary_accuracy: 0.9811 - val_loss: 0.5543 - val_binary_accuracy: 0.8598\n",
            "Epoch 9/1000\n",
            "625/625 [==============================] - 40s 64ms/step - loss: 0.0561 - binary_accuracy: 0.9847 - val_loss: 0.5639 - val_binary_accuracy: 0.8562\n",
            "156/156 [==============================] - 3s 21ms/step - loss: 0.3479 - binary_accuracy: 0.8722\n",
            "625/625 [==============================] - 14s 22ms/step - loss: 0.1071 - binary_accuracy: 0.9680\n",
            "Epoch 1/1000\n",
            "625/625 [==============================] - 105s 139ms/step - loss: 0.5949 - binary_accuracy: 0.6575 - val_loss: 0.3673 - val_binary_accuracy: 0.8482\n",
            "Epoch 2/1000\n",
            "625/625 [==============================] - 51s 81ms/step - loss: 0.3083 - binary_accuracy: 0.8788 - val_loss: 0.3089 - val_binary_accuracy: 0.8692\n",
            "Epoch 3/1000\n",
            "625/625 [==============================] - 44s 70ms/step - loss: 0.2250 - binary_accuracy: 0.9211 - val_loss: 0.3102 - val_binary_accuracy: 0.8752\n",
            "Epoch 4/1000\n",
            "625/625 [==============================] - 41s 66ms/step - loss: 0.1773 - binary_accuracy: 0.9423 - val_loss: 0.3305 - val_binary_accuracy: 0.8720\n",
            "Epoch 5/1000\n",
            "625/625 [==============================] - 40s 64ms/step - loss: 0.1437 - binary_accuracy: 0.9555 - val_loss: 0.3692 - val_binary_accuracy: 0.8702\n",
            "Epoch 6/1000\n",
            "625/625 [==============================] - 42s 67ms/step - loss: 0.1114 - binary_accuracy: 0.9681 - val_loss: 0.4298 - val_binary_accuracy: 0.8624\n",
            "Epoch 7/1000\n",
            "625/625 [==============================] - 40s 63ms/step - loss: 0.0939 - binary_accuracy: 0.9745 - val_loss: 0.5329 - val_binary_accuracy: 0.8600\n",
            "Epoch 8/1000\n",
            "625/625 [==============================] - 42s 67ms/step - loss: 0.0815 - binary_accuracy: 0.9779 - val_loss: 0.5130 - val_binary_accuracy: 0.8620\n",
            "156/156 [==============================] - 4s 27ms/step - loss: 0.3105 - binary_accuracy: 0.8750\n",
            "625/625 [==============================] - 14s 22ms/step - loss: 0.1635 - binary_accuracy: 0.9489\n",
            "Epoch 1/1000\n",
            "625/625 [==============================] - 106s 142ms/step - loss: 0.5537 - binary_accuracy: 0.6946 - val_loss: 0.3409 - val_binary_accuracy: 0.8564\n",
            "Epoch 2/1000\n",
            "625/625 [==============================] - 48s 76ms/step - loss: 0.2855 - binary_accuracy: 0.8898 - val_loss: 0.3079 - val_binary_accuracy: 0.8696\n",
            "Epoch 3/1000\n",
            "625/625 [==============================] - 44s 70ms/step - loss: 0.2066 - binary_accuracy: 0.9245 - val_loss: 0.3325 - val_binary_accuracy: 0.8652\n",
            "Epoch 4/1000\n",
            "625/625 [==============================] - 43s 68ms/step - loss: 0.1617 - binary_accuracy: 0.9442 - val_loss: 0.3647 - val_binary_accuracy: 0.8720\n",
            "Epoch 5/1000\n",
            "625/625 [==============================] - 39s 62ms/step - loss: 0.1261 - binary_accuracy: 0.9604 - val_loss: 0.3827 - val_binary_accuracy: 0.8702\n",
            "Epoch 6/1000\n",
            "625/625 [==============================] - 40s 64ms/step - loss: 0.1002 - binary_accuracy: 0.9707 - val_loss: 0.5401 - val_binary_accuracy: 0.8662\n",
            "Epoch 7/1000\n",
            "625/625 [==============================] - 42s 67ms/step - loss: 0.0870 - binary_accuracy: 0.9742 - val_loss: 0.5272 - val_binary_accuracy: 0.8696\n",
            "Epoch 8/1000\n",
            "625/625 [==============================] - 39s 63ms/step - loss: 0.0716 - binary_accuracy: 0.9796 - val_loss: 0.5486 - val_binary_accuracy: 0.8698\n",
            "Epoch 9/1000\n",
            "625/625 [==============================] - 42s 67ms/step - loss: 0.0633 - binary_accuracy: 0.9825 - val_loss: 0.5119 - val_binary_accuracy: 0.8488\n",
            "156/156 [==============================] - 4s 27ms/step - loss: 0.3651 - binary_accuracy: 0.8720\n",
            "625/625 [==============================] - 14s 22ms/step - loss: 0.1093 - binary_accuracy: 0.9657\n",
            "Time,s\tTraining accuracy\tValidation accuracy\tEpochs\n",
            "594\t0.968\t0.872\t9\n",
            "484\t0.949\t0.875\t8\n",
            "516\t0.966\t0.872\t9\n"
          ]
        }
      ],
      "source": [
        "compileAndFit(train_ds,val_ds,lambda:Sequential([\n",
        "         layers.Embedding( vocablaryLength, 64, mask_zero=True),\n",
        "         layers.Bidirectional(layers.LSTM(64,  return_sequences=True)),\n",
        "         layers.Bidirectional(layers.LSTM(32)),\n",
        "         layers.Dense(64, activation='relu'),\n",
        "         layers.Dropout(0.5),\n",
        "         layers.Dense(1)\n",
        "        ]),0.0001)"
      ]
    },
    {
      "cell_type": "markdown",
      "id": "599c1578-9120-40a2-9a89-838be5de2123",
      "metadata": {
        "id": "599c1578-9120-40a2-9a89-838be5de2123"
      },
      "source": [
        "# [Bidirectional LSTM on IMDB](https://keras.io/examples/nlp/bidirectional_lstm_imdb/)"
      ]
    },
    {
      "cell_type": "code",
      "source": [
        "compileAndFit( train_ds, val_ds,lambda:Sequential([\n",
        "    layers.Embedding(vocablaryLength, 128),\n",
        "    layers.Bidirectional(layers.LSTM(64, return_sequences=True)),\n",
        "    layers.Bidirectional(layers.LSTM(64)),\n",
        "    layers.Dense(1)\n",
        "    ]),0.001)"
      ],
      "metadata": {
        "colab": {
          "base_uri": "https://localhost:8080/"
        },
        "id": "nN9_NpDEmKKL",
        "outputId": "f935daa5-5b5d-4345-c425-5cbeb6efb642"
      },
      "id": "nN9_NpDEmKKL",
      "execution_count": null,
      "outputs": [
        {
          "output_type": "stream",
          "name": "stdout",
          "text": [
            "Epoch 1/1000\n",
            "625/625 [==============================] - 100s 143ms/step - loss: 0.5157 - binary_accuracy: 0.7441 - val_loss: 0.3968 - val_binary_accuracy: 0.8363\n",
            "Epoch 2/1000\n",
            "625/625 [==============================] - 45s 72ms/step - loss: 0.3348 - binary_accuracy: 0.8647 - val_loss: 0.3753 - val_binary_accuracy: 0.8454\n",
            "Epoch 3/1000\n",
            "625/625 [==============================] - 37s 60ms/step - loss: 0.2567 - binary_accuracy: 0.8992 - val_loss: 0.3622 - val_binary_accuracy: 0.8393\n",
            "Epoch 4/1000\n",
            "625/625 [==============================] - 33s 53ms/step - loss: 0.2030 - binary_accuracy: 0.9246 - val_loss: 0.3267 - val_binary_accuracy: 0.8640\n",
            "Epoch 5/1000\n",
            "625/625 [==============================] - 33s 52ms/step - loss: 0.1553 - binary_accuracy: 0.9450 - val_loss: 0.3848 - val_binary_accuracy: 0.8608\n",
            "Epoch 6/1000\n",
            "625/625 [==============================] - 32s 51ms/step - loss: 0.1526 - binary_accuracy: 0.9457 - val_loss: 0.3958 - val_binary_accuracy: 0.8650\n",
            "Epoch 7/1000\n",
            "625/625 [==============================] - 31s 50ms/step - loss: 0.0954 - binary_accuracy: 0.9670 - val_loss: 0.4615 - val_binary_accuracy: 0.8476\n",
            "Epoch 8/1000\n",
            "625/625 [==============================] - 32s 51ms/step - loss: 0.0784 - binary_accuracy: 0.9742 - val_loss: 0.4946 - val_binary_accuracy: 0.8502\n",
            "Epoch 9/1000\n",
            "625/625 [==============================] - 30s 48ms/step - loss: 0.0470 - binary_accuracy: 0.9859 - val_loss: 0.5604 - val_binary_accuracy: 0.8566\n",
            "Epoch 10/1000\n",
            "625/625 [==============================] - 30s 48ms/step - loss: 0.0462 - binary_accuracy: 0.9856 - val_loss: 0.6089 - val_binary_accuracy: 0.8508\n",
            "Epoch 11/1000\n",
            "625/625 [==============================] - 31s 49ms/step - loss: 0.0333 - binary_accuracy: 0.9901 - val_loss: 0.6255 - val_binary_accuracy: 0.8604\n",
            "156/156 [==============================] - 4s 22ms/step - loss: 0.3959 - binary_accuracy: 0.8650\n",
            "625/625 [==============================] - 13s 21ms/step - loss: 0.0955 - binary_accuracy: 0.9680\n",
            "Epoch 1/1000\n",
            "625/625 [==============================] - 91s 132ms/step - loss: 0.4576 - binary_accuracy: 0.7893 - val_loss: 0.3739 - val_binary_accuracy: 0.8391\n",
            "Epoch 2/1000\n",
            "625/625 [==============================] - 40s 63ms/step - loss: 0.4280 - binary_accuracy: 0.8100 - val_loss: 0.6603 - val_binary_accuracy: 0.6122\n",
            "Epoch 3/1000\n",
            "625/625 [==============================] - 36s 57ms/step - loss: 0.4805 - binary_accuracy: 0.7804 - val_loss: 0.4530 - val_binary_accuracy: 0.7973\n",
            "Epoch 4/1000\n",
            "625/625 [==============================] - 34s 54ms/step - loss: 0.2750 - binary_accuracy: 0.8909 - val_loss: 0.3317 - val_binary_accuracy: 0.8644\n",
            "Epoch 5/1000\n",
            "625/625 [==============================] - 32s 52ms/step - loss: 0.2084 - binary_accuracy: 0.9206 - val_loss: 0.3399 - val_binary_accuracy: 0.8636\n",
            "Epoch 6/1000\n",
            "625/625 [==============================] - 32s 52ms/step - loss: 0.1736 - binary_accuracy: 0.9372 - val_loss: 0.3459 - val_binary_accuracy: 0.8610\n",
            "Epoch 7/1000\n",
            "625/625 [==============================] - 32s 51ms/step - loss: 0.1286 - binary_accuracy: 0.9553 - val_loss: 0.3771 - val_binary_accuracy: 0.8670\n",
            "Epoch 8/1000\n",
            "625/625 [==============================] - 30s 48ms/step - loss: 0.0917 - binary_accuracy: 0.9707 - val_loss: 0.4276 - val_binary_accuracy: 0.8614\n",
            "Epoch 9/1000\n",
            "625/625 [==============================] - 32s 50ms/step - loss: 0.0658 - binary_accuracy: 0.9809 - val_loss: 0.5322 - val_binary_accuracy: 0.8552\n",
            "Epoch 10/1000\n",
            "625/625 [==============================] - 33s 52ms/step - loss: 0.0474 - binary_accuracy: 0.9867 - val_loss: 0.5075 - val_binary_accuracy: 0.8608\n",
            "Epoch 11/1000\n",
            "625/625 [==============================] - 31s 50ms/step - loss: 0.0420 - binary_accuracy: 0.9884 - val_loss: 0.5499 - val_binary_accuracy: 0.8656\n",
            "Epoch 12/1000\n",
            "625/625 [==============================] - 31s 50ms/step - loss: 0.0345 - binary_accuracy: 0.9901 - val_loss: 0.5920 - val_binary_accuracy: 0.8642\n",
            "156/156 [==============================] - 4s 25ms/step - loss: 0.3782 - binary_accuracy: 0.8666\n",
            "625/625 [==============================] - 13s 20ms/step - loss: 0.0747 - binary_accuracy: 0.9811\n",
            "Epoch 1/1000\n",
            "625/625 [==============================] - 87s 128ms/step - loss: 0.4379 - binary_accuracy: 0.7976 - val_loss: 0.4355 - val_binary_accuracy: 0.8343\n",
            "Epoch 2/1000\n",
            "625/625 [==============================] - 43s 69ms/step - loss: 0.2896 - binary_accuracy: 0.8906 - val_loss: 0.5843 - val_binary_accuracy: 0.7200\n",
            "Epoch 3/1000\n",
            "625/625 [==============================] - 36s 58ms/step - loss: 0.2587 - binary_accuracy: 0.8978 - val_loss: 0.4234 - val_binary_accuracy: 0.8283\n",
            "Epoch 4/1000\n",
            "625/625 [==============================] - 36s 57ms/step - loss: 0.1858 - binary_accuracy: 0.9304 - val_loss: 0.3904 - val_binary_accuracy: 0.8393\n",
            "Epoch 5/1000\n",
            "625/625 [==============================] - 35s 57ms/step - loss: 0.1996 - binary_accuracy: 0.9243 - val_loss: 0.4787 - val_binary_accuracy: 0.7867\n",
            "Epoch 6/1000\n",
            "625/625 [==============================] - 32s 51ms/step - loss: 0.1485 - binary_accuracy: 0.9469 - val_loss: 0.4386 - val_binary_accuracy: 0.8433\n",
            "Epoch 7/1000\n",
            "625/625 [==============================] - 33s 53ms/step - loss: 0.0930 - binary_accuracy: 0.9686 - val_loss: 0.4899 - val_binary_accuracy: 0.8419\n",
            "Epoch 8/1000\n",
            "625/625 [==============================] - 31s 50ms/step - loss: 0.0861 - binary_accuracy: 0.9705 - val_loss: 0.5133 - val_binary_accuracy: 0.8448\n",
            "Epoch 9/1000\n",
            "625/625 [==============================] - 32s 51ms/step - loss: 0.0593 - binary_accuracy: 0.9807 - val_loss: 0.5535 - val_binary_accuracy: 0.8446\n",
            "Epoch 10/1000\n",
            "625/625 [==============================] - 33s 52ms/step - loss: 0.0477 - binary_accuracy: 0.9849 - val_loss: 0.6108 - val_binary_accuracy: 0.8486\n",
            "Epoch 11/1000\n",
            "625/625 [==============================] - 30s 48ms/step - loss: 0.0385 - binary_accuracy: 0.9880 - val_loss: 0.6318 - val_binary_accuracy: 0.8452\n",
            "Epoch 12/1000\n",
            "625/625 [==============================] - 30s 48ms/step - loss: 0.0383 - binary_accuracy: 0.9872 - val_loss: 0.6883 - val_binary_accuracy: 0.8425\n",
            "Epoch 13/1000\n",
            "625/625 [==============================] - 31s 50ms/step - loss: 0.0427 - binary_accuracy: 0.9866 - val_loss: 0.6196 - val_binary_accuracy: 0.8470\n",
            "Epoch 14/1000\n",
            "625/625 [==============================] - 31s 50ms/step - loss: 0.0207 - binary_accuracy: 0.9934 - val_loss: 0.7635 - val_binary_accuracy: 0.8435\n",
            "Epoch 15/1000\n",
            "625/625 [==============================] - 30s 47ms/step - loss: 0.0126 - binary_accuracy: 0.9966 - val_loss: 0.8594 - val_binary_accuracy: 0.8478\n",
            "156/156 [==============================] - 3s 17ms/step - loss: 0.6145 - binary_accuracy: 0.8480\n",
            "625/625 [==============================] - 12s 19ms/step - loss: 0.0335 - binary_accuracy: 0.9902\n",
            "Time,s\tTraining accuracy\tValidation accuracy\tEpochs\n",
            "473\t0.968\t0.865\t11\n",
            "488\t0.981\t0.867\t12\n",
            "567\t0.99\t0.848\t15\n"
          ]
        }
      ]
    },
    {
      "cell_type": "markdown",
      "id": "fda14d25-3f2f-4390-9b1c-8bc29daba2c8",
      "metadata": {
        "id": "fda14d25-3f2f-4390-9b1c-8bc29daba2c8"
      },
      "source": [
        "# [Getting Started with KerasNLP](https://keras.io/guides/keras_nlp/getting_started/)"
      ]
    },
    {
      "cell_type": "code",
      "execution_count": null,
      "id": "4ec388f5-060a-45ec-a610-9ce38a965337",
      "metadata": {
        "id": "4ec388f5-060a-45ec-a610-9ce38a965337"
      },
      "outputs": [],
      "source": [
        "import GettingStartedwithKerasNLP"
      ]
    },
    {
      "cell_type": "code",
      "execution_count": null,
      "id": "bbcb7fdb-2f11-44f5-b056-e0876de328fa",
      "metadata": {
        "colab": {
          "base_uri": "https://localhost:8080/"
        },
        "id": "bbcb7fdb-2f11-44f5-b056-e0876de328fa",
        "outputId": "7599ea49-dabd-485c-8eb0-7d972f4507cf"
      },
      "outputs": [
        {
          "output_type": "stream",
          "name": "stdout",
          "text": [
            "Downloading data from https://storage.googleapis.com/keras-nlp/models/bert_base_en_uncased/v1/vocab.txt\n",
            "231508/231508 [==============================] - 0s 1us/step\n"
          ]
        }
      ],
      "source": [
        "bertModel=\"bert_base_en_uncased\"\n",
        "\n",
        "preprocessor = keras_nlp.models.BertPreprocessor.from_preset(bertModel, sequence_length=sequence_length)\n",
        "\n",
        "train_ds_bert =  raw_train_ds.map(preprocessor, tf.data.AUTOTUNE).cache().prefetch(tf.data.AUTOTUNE)\n",
        "val_ds_bert =   raw_val_ds.map(preprocessor, tf.data.AUTOTUNE).cache().prefetch(tf.data.AUTOTUNE)"
      ]
    },
    {
      "cell_type": "code",
      "execution_count": null,
      "id": "a819387a-26fd-411d-90d5-a998ab2ae45f",
      "metadata": {
        "colab": {
          "base_uri": "https://localhost:8080/"
        },
        "id": "a819387a-26fd-411d-90d5-a998ab2ae45f",
        "jupyter": {
          "outputs_hidden": true
        },
        "outputId": "50f6606d-7791-4e01-b7c1-6a979c9b37de"
      },
      "outputs": [
        {
          "metadata": {
            "tags": null
          },
          "name": "stdout",
          "output_type": "stream",
          "text": [
            "Epoch 1/1000\n"
          ]
        },
        {
          "metadata": {
            "tags": null
          },
          "name": "stderr",
          "output_type": "stream",
          "text": [
            "WARNING:tensorflow:Gradients do not exist for variables ['pooled_dense/kernel:0', 'pooled_dense/bias:0'] when minimizing the loss. If you're using `model.compile()`, did you forget to provide a `loss` argument?\n",
            "WARNING:tensorflow:Gradients do not exist for variables ['pooled_dense/kernel:0', 'pooled_dense/bias:0'] when minimizing the loss. If you're using `model.compile()`, did you forget to provide a `loss` argument?\n"
          ]
        },
        {
          "metadata": {
            "tags": null
          },
          "name": "stdout",
          "output_type": "stream",
          "text": [
            "625/625 [==============================] - 192s 252ms/step - loss: 0.2827 - binary_accuracy: 0.8806 - val_loss: 0.2393 - val_binary_accuracy: 0.9080\n",
            "Epoch 2/1000\n",
            "625/625 [==============================] - 105s 168ms/step - loss: 0.1388 - binary_accuracy: 0.9481 - val_loss: 0.2896 - val_binary_accuracy: 0.8926\n",
            "Epoch 3/1000\n",
            "625/625 [==============================] - 105s 168ms/step - loss: 0.0928 - binary_accuracy: 0.9665 - val_loss: 0.3556 - val_binary_accuracy: 0.9022\n",
            "Epoch 4/1000\n",
            "625/625 [==============================] - 105s 168ms/step - loss: 0.0542 - binary_accuracy: 0.9804 - val_loss: 0.4418 - val_binary_accuracy: 0.8950\n",
            "Epoch 5/1000\n",
            "625/625 [==============================] - 105s 169ms/step - loss: 0.0301 - binary_accuracy: 0.9896 - val_loss: 0.4317 - val_binary_accuracy: 0.9010\n",
            "Epoch 6/1000\n",
            "625/625 [==============================] - 105s 169ms/step - loss: 0.0231 - binary_accuracy: 0.9920 - val_loss: 0.5523 - val_binary_accuracy: 0.9026\n",
            "157/157 [==============================] - 9s 55ms/step - loss: 0.2393 - binary_accuracy: 0.9080\n",
            "625/625 [==============================] - 35s 55ms/step - loss: 0.1176 - binary_accuracy: 0.9607\n",
            "Epoch 1/1000\n"
          ]
        },
        {
          "metadata": {
            "tags": null
          },
          "name": "stderr",
          "output_type": "stream",
          "text": [
            "WARNING:tensorflow:Gradients do not exist for variables ['pooled_dense/kernel:0', 'pooled_dense/bias:0'] when minimizing the loss. If you're using `model.compile()`, did you forget to provide a `loss` argument?\n",
            "WARNING:tensorflow:Gradients do not exist for variables ['pooled_dense/kernel:0', 'pooled_dense/bias:0'] when minimizing the loss. If you're using `model.compile()`, did you forget to provide a `loss` argument?\n"
          ]
        },
        {
          "output_type": "stream",
          "name": "stdout",
          "text": [
            "625/625 [==============================] - 194s 252ms/step - loss: 0.2855 - binary_accuracy: 0.8763 - val_loss: 0.2650 - val_binary_accuracy: 0.9010\n",
            "Epoch 2/1000\n",
            "625/625 [==============================] - 106s 169ms/step - loss: 0.1396 - binary_accuracy: 0.9483 - val_loss: 0.2908 - val_binary_accuracy: 0.8916\n",
            "Epoch 3/1000\n",
            "625/625 [==============================] - 106s 169ms/step - loss: 0.0871 - binary_accuracy: 0.9693 - val_loss: 0.5411 - val_binary_accuracy: 0.8624\n",
            "Epoch 4/1000\n",
            "625/625 [==============================] - 106s 169ms/step - loss: 0.0587 - binary_accuracy: 0.9782 - val_loss: 0.4004 - val_binary_accuracy: 0.9032\n",
            "Epoch 5/1000\n",
            "625/625 [==============================] - 106s 170ms/step - loss: 0.0353 - binary_accuracy: 0.9879 - val_loss: 0.4029 - val_binary_accuracy: 0.9054\n",
            "Epoch 6/1000\n",
            "625/625 [==============================] - 106s 169ms/step - loss: 0.0343 - binary_accuracy: 0.9880 - val_loss: 0.4245 - val_binary_accuracy: 0.9092\n",
            "Epoch 7/1000\n",
            "625/625 [==============================] - 106s 169ms/step - loss: 0.0241 - binary_accuracy: 0.9919 - val_loss: 0.5751 - val_binary_accuracy: 0.9006\n",
            "Epoch 8/1000\n",
            "625/625 [==============================] - 106s 169ms/step - loss: 0.0212 - binary_accuracy: 0.9923 - val_loss: 0.4446 - val_binary_accuracy: 0.9094\n",
            "Epoch 9/1000\n",
            "625/625 [==============================] - 106s 169ms/step - loss: 0.0215 - binary_accuracy: 0.9926 - val_loss: 0.4133 - val_binary_accuracy: 0.9090\n",
            "Epoch 10/1000\n",
            "625/625 [==============================] - 106s 169ms/step - loss: 0.0195 - binary_accuracy: 0.9936 - val_loss: 0.4017 - val_binary_accuracy: 0.9052\n",
            "Epoch 11/1000\n",
            "625/625 [==============================] - 106s 169ms/step - loss: 0.0150 - binary_accuracy: 0.9956 - val_loss: 0.4024 - val_binary_accuracy: 0.9104\n",
            "Epoch 12/1000\n",
            "625/625 [==============================] - 106s 169ms/step - loss: 0.0137 - binary_accuracy: 0.9954 - val_loss: 0.5389 - val_binary_accuracy: 0.9014\n",
            "Epoch 13/1000\n",
            "625/625 [==============================] - 106s 169ms/step - loss: 0.0183 - binary_accuracy: 0.9938 - val_loss: 0.5815 - val_binary_accuracy: 0.8956\n",
            "Epoch 14/1000\n",
            "625/625 [==============================] - 106s 169ms/step - loss: 0.0114 - binary_accuracy: 0.9962 - val_loss: 0.5659 - val_binary_accuracy: 0.9080\n",
            "Epoch 15/1000\n",
            "625/625 [==============================] - 106s 170ms/step - loss: 0.0143 - binary_accuracy: 0.9951 - val_loss: 0.4907 - val_binary_accuracy: 0.9008\n",
            "Epoch 16/1000\n",
            "625/625 [==============================] - 107s 171ms/step - loss: 0.0128 - binary_accuracy: 0.9957 - val_loss: 0.5924 - val_binary_accuracy: 0.8992\n",
            "157/157 [==============================] - 9s 56ms/step - loss: 0.4024 - binary_accuracy: 0.9104\n",
            "625/625 [==============================] - 35s 57ms/step - loss: 0.0061 - binary_accuracy: 0.9981\n",
            "Epoch 1/1000\n"
          ]
        },
        {
          "output_type": "stream",
          "name": "stderr",
          "text": [
            "WARNING:tensorflow:Gradients do not exist for variables ['pooled_dense/kernel:0', 'pooled_dense/bias:0'] when minimizing the loss. If you're using `model.compile()`, did you forget to provide a `loss` argument?\n",
            "WARNING:tensorflow:Gradients do not exist for variables ['pooled_dense/kernel:0', 'pooled_dense/bias:0'] when minimizing the loss. If you're using `model.compile()`, did you forget to provide a `loss` argument?\n"
          ]
        },
        {
          "output_type": "stream",
          "name": "stdout",
          "text": [
            "625/625 [==============================] - 200s 255ms/step - loss: 0.2819 - binary_accuracy: 0.8810 - val_loss: 0.2275 - val_binary_accuracy: 0.9104\n",
            "Epoch 2/1000\n",
            "625/625 [==============================] - 108s 173ms/step - loss: 0.1446 - binary_accuracy: 0.9455 - val_loss: 0.2705 - val_binary_accuracy: 0.8994\n",
            "Epoch 3/1000\n",
            "625/625 [==============================] - 108s 173ms/step - loss: 0.0837 - binary_accuracy: 0.9705 - val_loss: 0.4245 - val_binary_accuracy: 0.8824\n",
            "Epoch 4/1000\n",
            "625/625 [==============================] - 108s 173ms/step - loss: 0.0560 - binary_accuracy: 0.9794 - val_loss: 0.3422 - val_binary_accuracy: 0.9062\n",
            "Epoch 5/1000\n",
            "625/625 [==============================] - 108s 172ms/step - loss: 0.0361 - binary_accuracy: 0.9872 - val_loss: 0.4297 - val_binary_accuracy: 0.8996\n",
            "Epoch 6/1000\n",
            "625/625 [==============================] - 108s 173ms/step - loss: 0.0283 - binary_accuracy: 0.9900 - val_loss: 0.4739 - val_binary_accuracy: 0.8964\n",
            "157/157 [==============================] - 9s 57ms/step - loss: 0.2275 - binary_accuracy: 0.9104\n",
            "625/625 [==============================] - 35s 56ms/step - loss: 0.1090 - binary_accuracy: 0.9663\n",
            "Time,s\tTraining accuracy\tValidation accuracy\tEpochs\n",
            "719\t0.961\t0.908\t6\n",
            "1781\t0.998\t0.91\t16\n",
            "740\t0.966\t0.91\t6\n"
          ]
        }
      ],
      "source": [
        "compileAndFit(train_ds_bert,val_ds_bert,lambda:GettingStartedwithKerasNLP.newModel(bertModel),5e-5)"
      ]
    },
    {
      "cell_type": "markdown",
      "source": [
        "**Section - Build and train your own transformer from scratch**"
      ],
      "metadata": {
        "id": "_BpMuaCaUbg2"
      },
      "id": "_BpMuaCaUbg2"
    },
    {
      "cell_type": "code",
      "source": [
        "def newTransformerFromScratch(vocablaryLength,sequence_length):\n",
        "    input = keras.Input(shape=(None,),dtype=\"int32\",name=\"token_ids\")\n",
        "    outputs = keras_nlp.layers.TokenAndPositionEmbedding(\n",
        "        vocabulary_size=vocablaryLength,    sequence_length= sequence_length,    embedding_dim=64)(input)\n",
        "    outputs = keras_nlp.layers.TransformerEncoder(num_heads=2,intermediate_dim=128,dropout=0.1)(outputs)\n",
        "    # Use \"[START]\" token to classify\n",
        "    x =  layers.Dropout(0.1)(outputs[:, 0, :])\n",
        "    outputs =  layers.Dense(1)(x)\n",
        "    return keras.Model(inputs=input,outputs=outputs)"
      ],
      "metadata": {
        "id": "hl0lBeM6UZUE"
      },
      "id": "hl0lBeM6UZUE",
      "execution_count": 25,
      "outputs": []
    },
    {
      "cell_type": "code",
      "source": [
        "compileAndFit(train_ds ,val_ds ,lambda:newTransformerFromScratch(vocablaryLength,sequence_length),5e-5)"
      ],
      "metadata": {
        "colab": {
          "base_uri": "https://localhost:8080/"
        },
        "id": "dOmlw23qUZpl",
        "outputId": "d2f06300-afaa-485e-ce3c-3b06cc162498"
      },
      "id": "dOmlw23qUZpl",
      "execution_count": 26,
      "outputs": [
        {
          "output_type": "stream",
          "name": "stdout",
          "text": [
            "Epoch 1/1000\n",
            "625/625 [==============================] - 78s 110ms/step - loss: 0.7151 - binary_accuracy: 0.5131 - val_loss: 0.6834 - val_binary_accuracy: 0.5789\n",
            "Epoch 2/1000\n",
            "625/625 [==============================] - 24s 38ms/step - loss: 0.6685 - binary_accuracy: 0.5865 - val_loss: 0.6175 - val_binary_accuracy: 0.6480\n",
            "Epoch 3/1000\n",
            "625/625 [==============================] - 14s 23ms/step - loss: 0.4552 - binary_accuracy: 0.7898 - val_loss: 0.3750 - val_binary_accuracy: 0.8363\n",
            "Epoch 4/1000\n",
            "625/625 [==============================] - 13s 21ms/step - loss: 0.3055 - binary_accuracy: 0.8702 - val_loss: 0.3788 - val_binary_accuracy: 0.8353\n",
            "Epoch 5/1000\n",
            "625/625 [==============================] - 10s 16ms/step - loss: 0.2570 - binary_accuracy: 0.8952 - val_loss: 0.3381 - val_binary_accuracy: 0.8590\n",
            "Epoch 6/1000\n",
            "625/625 [==============================] - 10s 17ms/step - loss: 0.2262 - binary_accuracy: 0.9105 - val_loss: 0.3436 - val_binary_accuracy: 0.8626\n",
            "Epoch 7/1000\n",
            "625/625 [==============================] - 11s 17ms/step - loss: 0.2040 - binary_accuracy: 0.9204 - val_loss: 0.3469 - val_binary_accuracy: 0.8638\n",
            "Epoch 8/1000\n",
            "625/625 [==============================] - 10s 16ms/step - loss: 0.1826 - binary_accuracy: 0.9295 - val_loss: 0.3507 - val_binary_accuracy: 0.8650\n",
            "Epoch 9/1000\n",
            "625/625 [==============================] - 9s 15ms/step - loss: 0.1662 - binary_accuracy: 0.9368 - val_loss: 0.3571 - val_binary_accuracy: 0.8656\n",
            "Epoch 10/1000\n",
            "625/625 [==============================] - 11s 18ms/step - loss: 0.1547 - binary_accuracy: 0.9406 - val_loss: 0.3772 - val_binary_accuracy: 0.8616\n",
            "Epoch 11/1000\n",
            "625/625 [==============================] - 11s 18ms/step - loss: 0.1400 - binary_accuracy: 0.9451 - val_loss: 0.3880 - val_binary_accuracy: 0.8596\n",
            "Epoch 12/1000\n",
            "625/625 [==============================] - 10s 16ms/step - loss: 0.1280 - binary_accuracy: 0.9542 - val_loss: 0.4123 - val_binary_accuracy: 0.8622\n",
            "Epoch 13/1000\n",
            "625/625 [==============================] - 8s 13ms/step - loss: 0.1202 - binary_accuracy: 0.9542 - val_loss: 0.4171 - val_binary_accuracy: 0.8644\n",
            "Epoch 14/1000\n",
            "625/625 [==============================] - 9s 14ms/step - loss: 0.1122 - binary_accuracy: 0.9599 - val_loss: 0.4494 - val_binary_accuracy: 0.8542\n",
            "156/156 [==============================] - 1s 6ms/step - loss: 0.3567 - binary_accuracy: 0.8658\n",
            "625/625 [==============================] - 5s 8ms/step - loss: 0.1174 - binary_accuracy: 0.9616\n",
            "Epoch 1/1000\n",
            "625/625 [==============================] - 58s 84ms/step - loss: 0.7258 - binary_accuracy: 0.5160 - val_loss: 0.6827 - val_binary_accuracy: 0.5717\n",
            "Epoch 2/1000\n",
            "625/625 [==============================] - 17s 27ms/step - loss: 0.6718 - binary_accuracy: 0.5806 - val_loss: 0.6018 - val_binary_accuracy: 0.7165\n",
            "Epoch 3/1000\n",
            "625/625 [==============================] - 13s 21ms/step - loss: 0.4460 - binary_accuracy: 0.7933 - val_loss: 0.3678 - val_binary_accuracy: 0.8435\n",
            "Epoch 4/1000\n",
            "625/625 [==============================] - 12s 20ms/step - loss: 0.3054 - binary_accuracy: 0.8717 - val_loss: 0.3370 - val_binary_accuracy: 0.8594\n",
            "Epoch 5/1000\n",
            "625/625 [==============================] - 12s 19ms/step - loss: 0.2610 - binary_accuracy: 0.8935 - val_loss: 0.3361 - val_binary_accuracy: 0.8616\n",
            "Epoch 6/1000\n",
            "625/625 [==============================] - 11s 18ms/step - loss: 0.2277 - binary_accuracy: 0.9091 - val_loss: 0.3406 - val_binary_accuracy: 0.8628\n",
            "Epoch 7/1000\n",
            "625/625 [==============================] - 10s 15ms/step - loss: 0.2035 - binary_accuracy: 0.9208 - val_loss: 0.3333 - val_binary_accuracy: 0.8668\n",
            "Epoch 8/1000\n",
            "625/625 [==============================] - 9s 15ms/step - loss: 0.1868 - binary_accuracy: 0.9280 - val_loss: 0.3402 - val_binary_accuracy: 0.8668\n",
            "Epoch 9/1000\n",
            "625/625 [==============================] - 11s 17ms/step - loss: 0.1710 - binary_accuracy: 0.9330 - val_loss: 0.3747 - val_binary_accuracy: 0.8582\n",
            "Epoch 10/1000\n",
            "625/625 [==============================] - 10s 16ms/step - loss: 0.1513 - binary_accuracy: 0.9432 - val_loss: 0.3666 - val_binary_accuracy: 0.8686\n",
            "Epoch 11/1000\n",
            "625/625 [==============================] - 9s 14ms/step - loss: 0.1397 - binary_accuracy: 0.9484 - val_loss: 0.3757 - val_binary_accuracy: 0.8688\n",
            "Epoch 12/1000\n",
            "625/625 [==============================] - 10s 15ms/step - loss: 0.1277 - binary_accuracy: 0.9523 - val_loss: 0.3931 - val_binary_accuracy: 0.8674\n",
            "Epoch 13/1000\n",
            "625/625 [==============================] - 9s 15ms/step - loss: 0.1181 - binary_accuracy: 0.9550 - val_loss: 0.4086 - val_binary_accuracy: 0.8660\n",
            "Epoch 14/1000\n",
            "625/625 [==============================] - 9s 15ms/step - loss: 0.1096 - binary_accuracy: 0.9590 - val_loss: 0.4374 - val_binary_accuracy: 0.8624\n",
            "Epoch 15/1000\n",
            "625/625 [==============================] - 9s 15ms/step - loss: 0.1019 - binary_accuracy: 0.9627 - val_loss: 0.4511 - val_binary_accuracy: 0.8672\n",
            "Epoch 16/1000\n",
            "625/625 [==============================] - 8s 12ms/step - loss: 0.0896 - binary_accuracy: 0.9686 - val_loss: 0.4715 - val_binary_accuracy: 0.8650\n",
            "156/156 [==============================] - 1s 6ms/step - loss: 0.3765 - binary_accuracy: 0.8686\n",
            "625/625 [==============================] - 5s 8ms/step - loss: 0.0934 - binary_accuracy: 0.9703\n",
            "Epoch 1/1000\n",
            "625/625 [==============================] - 57s 84ms/step - loss: 0.7435 - binary_accuracy: 0.5185 - val_loss: 0.6881 - val_binary_accuracy: 0.5445\n",
            "Epoch 2/1000\n",
            "625/625 [==============================] - 23s 36ms/step - loss: 0.6918 - binary_accuracy: 0.5553 - val_loss: 0.6526 - val_binary_accuracy: 0.6350\n",
            "Epoch 3/1000\n",
            "625/625 [==============================] - 16s 26ms/step - loss: 0.5355 - binary_accuracy: 0.7239 - val_loss: 0.4229 - val_binary_accuracy: 0.8165\n",
            "Epoch 4/1000\n",
            "625/625 [==============================] - 12s 19ms/step - loss: 0.3396 - binary_accuracy: 0.8522 - val_loss: 0.3556 - val_binary_accuracy: 0.8486\n",
            "Epoch 5/1000\n",
            "625/625 [==============================] - 12s 19ms/step - loss: 0.2824 - binary_accuracy: 0.8827 - val_loss: 0.3543 - val_binary_accuracy: 0.8538\n",
            "Epoch 6/1000\n",
            "625/625 [==============================] - 10s 16ms/step - loss: 0.2422 - binary_accuracy: 0.9019 - val_loss: 0.3686 - val_binary_accuracy: 0.8524\n",
            "Epoch 7/1000\n",
            "625/625 [==============================] - 11s 17ms/step - loss: 0.2123 - binary_accuracy: 0.9155 - val_loss: 0.3398 - val_binary_accuracy: 0.8646\n",
            "Epoch 8/1000\n",
            "625/625 [==============================] - 10s 15ms/step - loss: 0.1950 - binary_accuracy: 0.9236 - val_loss: 0.3445 - val_binary_accuracy: 0.8658\n",
            "Epoch 9/1000\n",
            "625/625 [==============================] - 10s 16ms/step - loss: 0.1768 - binary_accuracy: 0.9312 - val_loss: 0.3534 - val_binary_accuracy: 0.8660\n",
            "Epoch 10/1000\n",
            "625/625 [==============================] - 10s 16ms/step - loss: 0.1623 - binary_accuracy: 0.9379 - val_loss: 0.3664 - val_binary_accuracy: 0.8626\n",
            "Epoch 11/1000\n",
            "625/625 [==============================] - 10s 16ms/step - loss: 0.1485 - binary_accuracy: 0.9451 - val_loss: 0.3780 - val_binary_accuracy: 0.8638\n",
            "Epoch 12/1000\n",
            "625/625 [==============================] - 8s 13ms/step - loss: 0.1367 - binary_accuracy: 0.9482 - val_loss: 0.3881 - val_binary_accuracy: 0.8602\n",
            "Epoch 13/1000\n",
            "625/625 [==============================] - 11s 17ms/step - loss: 0.1238 - binary_accuracy: 0.9532 - val_loss: 0.4111 - val_binary_accuracy: 0.8642\n",
            "Epoch 14/1000\n",
            "625/625 [==============================] - 9s 15ms/step - loss: 0.1147 - binary_accuracy: 0.9574 - val_loss: 0.4301 - val_binary_accuracy: 0.8616\n",
            "156/156 [==============================] - 1s 6ms/step - loss: 0.3537 - binary_accuracy: 0.8660\n",
            "625/625 [==============================] - 4s 6ms/step - loss: 0.1249 - binary_accuracy: 0.9581\n",
            "Time,s\tTraining accuracy\tValidation accuracy\tEpochs\n",
            "271\t0.962\t0.866\t14\n",
            "258\t0.97\t0.869\t16\n",
            "247\t0.958\t0.866\t14\n"
          ]
        }
      ]
    },
    {
      "cell_type": "markdown",
      "id": "be37e0de-c7a5-4672-a6f6-fe7d48d64d98",
      "metadata": {
        "id": "be37e0de-c7a5-4672-a6f6-fe7d48d64d98"
      },
      "source": [
        "# [Text Classification using FNet](https://keras.io/examples/nlp/fnet_classification_with_keras_nlp/)"
      ]
    },
    {
      "cell_type": "code",
      "execution_count": 18,
      "id": "1996519d-d550-47bf-8f01-96ec0f6941b1",
      "metadata": {
        "id": "1996519d-d550-47bf-8f01-96ec0f6941b1"
      },
      "outputs": [],
      "source": [
        "import TextClassificationusingFNet"
      ]
    },
    {
      "cell_type": "code",
      "source": [
        "compileAndFit(train_ds,val_ds,lambda:TextClassificationusingFNet.newFnet(max_features,sequence_length),0.001)"
      ],
      "metadata": {
        "colab": {
          "base_uri": "https://localhost:8080/"
        },
        "id": "CBuOvJJyBqM2",
        "outputId": "13b5b3a6-f97d-47ab-c53c-d31b91ef8f1c"
      },
      "id": "CBuOvJJyBqM2",
      "execution_count": 19,
      "outputs": [
        {
          "output_type": "stream",
          "name": "stdout",
          "text": [
            "Epoch 1/1000\n"
          ]
        },
        {
          "output_type": "stream",
          "name": "stderr",
          "text": [
            "WARNING:tensorflow:You are casting an input of type complex64 to an incompatible dtype float32.  This will discard the imaginary part and may not be what you intended.\n",
            "WARNING:tensorflow:You are casting an input of type complex64 to an incompatible dtype float32.  This will discard the imaginary part and may not be what you intended.\n",
            "WARNING:tensorflow:You are casting an input of type complex64 to an incompatible dtype float32.  This will discard the imaginary part and may not be what you intended.\n",
            "WARNING:tensorflow:You are casting an input of type complex64 to an incompatible dtype float32.  This will discard the imaginary part and may not be what you intended.\n",
            "WARNING:tensorflow:You are casting an input of type complex64 to an incompatible dtype float32.  This will discard the imaginary part and may not be what you intended.\n",
            "WARNING:tensorflow:You are casting an input of type complex64 to an incompatible dtype float32.  This will discard the imaginary part and may not be what you intended.\n"
          ]
        },
        {
          "output_type": "stream",
          "name": "stdout",
          "text": [
            "625/625 [==============================] - 87s 123ms/step - loss: 0.5382 - binary_accuracy: 0.6959 - val_loss: 0.3735 - val_binary_accuracy: 0.8355\n",
            "Epoch 2/1000\n",
            "625/625 [==============================] - 34s 54ms/step - loss: 0.3033 - binary_accuracy: 0.8716 - val_loss: 0.3993 - val_binary_accuracy: 0.8411\n",
            "Epoch 3/1000\n",
            "625/625 [==============================] - 25s 39ms/step - loss: 0.1985 - binary_accuracy: 0.9219 - val_loss: 0.4089 - val_binary_accuracy: 0.8554\n",
            "Epoch 4/1000\n",
            "625/625 [==============================] - 19s 30ms/step - loss: 0.1247 - binary_accuracy: 0.9520 - val_loss: 0.5024 - val_binary_accuracy: 0.8383\n",
            "Epoch 5/1000\n",
            "625/625 [==============================] - 17s 27ms/step - loss: 0.0878 - binary_accuracy: 0.9693 - val_loss: 0.5258 - val_binary_accuracy: 0.8460\n",
            "Epoch 6/1000\n",
            "625/625 [==============================] - 16s 25ms/step - loss: 0.0654 - binary_accuracy: 0.9764 - val_loss: 0.5530 - val_binary_accuracy: 0.8488\n",
            "Epoch 7/1000\n",
            "625/625 [==============================] - 15s 24ms/step - loss: 0.0495 - binary_accuracy: 0.9823 - val_loss: 0.6897 - val_binary_accuracy: 0.8450\n",
            "Epoch 8/1000\n",
            "625/625 [==============================] - 14s 23ms/step - loss: 0.0435 - binary_accuracy: 0.9850 - val_loss: 0.6929 - val_binary_accuracy: 0.8530\n",
            "156/156 [==============================] - 1s 9ms/step - loss: 0.4087 - binary_accuracy: 0.8556\n",
            "625/625 [==============================] - 7s 11ms/step - loss: 0.1279 - binary_accuracy: 0.9542\n",
            "Epoch 1/1000\n"
          ]
        },
        {
          "output_type": "stream",
          "name": "stderr",
          "text": [
            "WARNING:tensorflow:You are casting an input of type complex64 to an incompatible dtype float32.  This will discard the imaginary part and may not be what you intended.\n",
            "WARNING:tensorflow:You are casting an input of type complex64 to an incompatible dtype float32.  This will discard the imaginary part and may not be what you intended.\n",
            "WARNING:tensorflow:You are casting an input of type complex64 to an incompatible dtype float32.  This will discard the imaginary part and may not be what you intended.\n",
            "WARNING:tensorflow:You are casting an input of type complex64 to an incompatible dtype float32.  This will discard the imaginary part and may not be what you intended.\n",
            "WARNING:tensorflow:You are casting an input of type complex64 to an incompatible dtype float32.  This will discard the imaginary part and may not be what you intended.\n",
            "WARNING:tensorflow:You are casting an input of type complex64 to an incompatible dtype float32.  This will discard the imaginary part and may not be what you intended.\n"
          ]
        },
        {
          "output_type": "stream",
          "name": "stdout",
          "text": [
            "625/625 [==============================] - 65s 94ms/step - loss: 0.5387 - binary_accuracy: 0.7012 - val_loss: 0.3675 - val_binary_accuracy: 0.8429\n",
            "Epoch 2/1000\n",
            "625/625 [==============================] - 25s 39ms/step - loss: 0.2970 - binary_accuracy: 0.8742 - val_loss: 0.3424 - val_binary_accuracy: 0.8576\n",
            "Epoch 3/1000\n",
            "625/625 [==============================] - 18s 29ms/step - loss: 0.1913 - binary_accuracy: 0.9241 - val_loss: 0.3754 - val_binary_accuracy: 0.8630\n",
            "Epoch 4/1000\n",
            "625/625 [==============================] - 19s 31ms/step - loss: 0.1241 - binary_accuracy: 0.9524 - val_loss: 0.4709 - val_binary_accuracy: 0.8524\n",
            "Epoch 5/1000\n",
            "625/625 [==============================] - 16s 25ms/step - loss: 0.0813 - binary_accuracy: 0.9701 - val_loss: 0.6437 - val_binary_accuracy: 0.8255\n",
            "Epoch 6/1000\n",
            "625/625 [==============================] - 17s 27ms/step - loss: 0.0609 - binary_accuracy: 0.9787 - val_loss: 0.5961 - val_binary_accuracy: 0.8448\n",
            "Epoch 7/1000\n",
            "625/625 [==============================] - 15s 24ms/step - loss: 0.0520 - binary_accuracy: 0.9816 - val_loss: 0.6464 - val_binary_accuracy: 0.8548\n",
            "Epoch 8/1000\n",
            "625/625 [==============================] - 15s 24ms/step - loss: 0.0406 - binary_accuracy: 0.9855 - val_loss: 0.7480 - val_binary_accuracy: 0.8403\n",
            "156/156 [==============================] - 1s 9ms/step - loss: 0.3760 - binary_accuracy: 0.8628\n",
            "625/625 [==============================] - 6s 10ms/step - loss: 0.1106 - binary_accuracy: 0.9617\n",
            "Epoch 1/1000\n"
          ]
        },
        {
          "output_type": "stream",
          "name": "stderr",
          "text": [
            "WARNING:tensorflow:You are casting an input of type complex64 to an incompatible dtype float32.  This will discard the imaginary part and may not be what you intended.\n",
            "WARNING:tensorflow:You are casting an input of type complex64 to an incompatible dtype float32.  This will discard the imaginary part and may not be what you intended.\n",
            "WARNING:tensorflow:You are casting an input of type complex64 to an incompatible dtype float32.  This will discard the imaginary part and may not be what you intended.\n",
            "WARNING:tensorflow:You are casting an input of type complex64 to an incompatible dtype float32.  This will discard the imaginary part and may not be what you intended.\n",
            "WARNING:tensorflow:You are casting an input of type complex64 to an incompatible dtype float32.  This will discard the imaginary part and may not be what you intended.\n",
            "WARNING:tensorflow:You are casting an input of type complex64 to an incompatible dtype float32.  This will discard the imaginary part and may not be what you intended.\n"
          ]
        },
        {
          "output_type": "stream",
          "name": "stdout",
          "text": [
            "625/625 [==============================] - 63s 90ms/step - loss: 0.5796 - binary_accuracy: 0.6565 - val_loss: 0.4191 - val_binary_accuracy: 0.8105\n",
            "Epoch 2/1000\n",
            "625/625 [==============================] - 25s 40ms/step - loss: 0.3093 - binary_accuracy: 0.8721 - val_loss: 0.3307 - val_binary_accuracy: 0.8676\n",
            "Epoch 3/1000\n",
            "625/625 [==============================] - 18s 28ms/step - loss: 0.2036 - binary_accuracy: 0.9223 - val_loss: 0.3897 - val_binary_accuracy: 0.8568\n",
            "Epoch 4/1000\n",
            "625/625 [==============================] - 19s 30ms/step - loss: 0.1426 - binary_accuracy: 0.9463 - val_loss: 0.3949 - val_binary_accuracy: 0.8682\n",
            "Epoch 5/1000\n",
            "625/625 [==============================] - 19s 30ms/step - loss: 0.0894 - binary_accuracy: 0.9663 - val_loss: 0.4883 - val_binary_accuracy: 0.8502\n",
            "Epoch 6/1000\n",
            "625/625 [==============================] - 16s 25ms/step - loss: 0.0624 - binary_accuracy: 0.9783 - val_loss: 0.6359 - val_binary_accuracy: 0.8273\n",
            "Epoch 7/1000\n",
            "625/625 [==============================] - 16s 25ms/step - loss: 0.0503 - binary_accuracy: 0.9822 - val_loss: 0.5775 - val_binary_accuracy: 0.8458\n",
            "Epoch 8/1000\n",
            "625/625 [==============================] - 15s 24ms/step - loss: 0.0409 - binary_accuracy: 0.9857 - val_loss: 0.6347 - val_binary_accuracy: 0.8656\n",
            "Epoch 9/1000\n",
            "625/625 [==============================] - 15s 25ms/step - loss: 0.0328 - binary_accuracy: 0.9891 - val_loss: 0.6486 - val_binary_accuracy: 0.8538\n",
            "156/156 [==============================] - 2s 13ms/step - loss: 0.3947 - binary_accuracy: 0.8682\n",
            "625/625 [==============================] - 6s 9ms/step - loss: 0.0739 - binary_accuracy: 0.9747\n",
            "Time,s\tTraining accuracy\tValidation accuracy\tEpochs\n",
            "248\t0.954\t0.856\t8\n",
            "201\t0.962\t0.863\t8\n",
            "223\t0.975\t0.868\t9\n"
          ]
        }
      ]
    },
    {
      "cell_type": "code",
      "source": [
        "compileAndFit(train_ds,val_ds,lambda:TextClassificationusingFNet.newTransformer(max_features,sequence_length),0.001)"
      ],
      "metadata": {
        "colab": {
          "base_uri": "https://localhost:8080/"
        },
        "id": "4X9_3OOyCZIx",
        "outputId": "98cc0638-d1dc-47b3-fa06-1d50f59de84f"
      },
      "id": "4X9_3OOyCZIx",
      "execution_count": 20,
      "outputs": [
        {
          "output_type": "stream",
          "name": "stdout",
          "text": [
            "Epoch 1/1000\n",
            "625/625 [==============================] - 73s 100ms/step - loss: 0.4342 - binary_accuracy: 0.7851 - val_loss: 0.3053 - val_binary_accuracy: 0.8754\n",
            "Epoch 2/1000\n",
            "625/625 [==============================] - 28s 44ms/step - loss: 0.2328 - binary_accuracy: 0.9078 - val_loss: 0.3075 - val_binary_accuracy: 0.8716\n",
            "Epoch 3/1000\n",
            "625/625 [==============================] - 22s 35ms/step - loss: 0.1676 - binary_accuracy: 0.9384 - val_loss: 0.5366 - val_binary_accuracy: 0.8125\n",
            "Epoch 4/1000\n",
            "625/625 [==============================] - 21s 33ms/step - loss: 0.3183 - binary_accuracy: 0.8328 - val_loss: 0.6098 - val_binary_accuracy: 0.6581\n",
            "Epoch 5/1000\n",
            "625/625 [==============================] - 17s 28ms/step - loss: 0.5186 - binary_accuracy: 0.7627 - val_loss: 0.5055 - val_binary_accuracy: 0.7598\n",
            "Epoch 6/1000\n",
            "625/625 [==============================] - 17s 28ms/step - loss: 0.3649 - binary_accuracy: 0.8434 - val_loss: 0.4264 - val_binary_accuracy: 0.8425\n",
            "156/156 [==============================] - 2s 11ms/step - loss: 0.3052 - binary_accuracy: 0.8754\n",
            "625/625 [==============================] - 8s 13ms/step - loss: 0.2270 - binary_accuracy: 0.9301\n",
            "Epoch 1/1000\n",
            "625/625 [==============================] - 74s 101ms/step - loss: 0.4203 - binary_accuracy: 0.7923 - val_loss: 0.2986 - val_binary_accuracy: 0.8732\n",
            "Epoch 2/1000\n",
            "625/625 [==============================] - 29s 46ms/step - loss: 0.2312 - binary_accuracy: 0.9106 - val_loss: 0.3068 - val_binary_accuracy: 0.8700\n",
            "Epoch 3/1000\n",
            "625/625 [==============================] - 23s 37ms/step - loss: 0.1687 - binary_accuracy: 0.9380 - val_loss: 0.3826 - val_binary_accuracy: 0.8666\n",
            "Epoch 4/1000\n",
            "625/625 [==============================] - 21s 34ms/step - loss: 0.1209 - binary_accuracy: 0.9589 - val_loss: 0.4575 - val_binary_accuracy: 0.8576\n",
            "Epoch 5/1000\n",
            "625/625 [==============================] - 19s 30ms/step - loss: 0.0992 - binary_accuracy: 0.9663 - val_loss: 0.4374 - val_binary_accuracy: 0.8528\n",
            "Epoch 6/1000\n",
            "625/625 [==============================] - 19s 30ms/step - loss: 0.3701 - binary_accuracy: 0.7691 - val_loss: 0.6931 - val_binary_accuracy: 0.5072\n",
            "156/156 [==============================] - 2s 15ms/step - loss: 0.2984 - binary_accuracy: 0.8734\n",
            "625/625 [==============================] - 7s 12ms/step - loss: 0.1936 - binary_accuracy: 0.9294\n",
            "Epoch 1/1000\n",
            "625/625 [==============================] - 73s 100ms/step - loss: 0.4148 - binary_accuracy: 0.8009 - val_loss: 0.3625 - val_binary_accuracy: 0.8504\n",
            "Epoch 2/1000\n",
            "625/625 [==============================] - 27s 44ms/step - loss: 0.2293 - binary_accuracy: 0.9090 - val_loss: 0.3611 - val_binary_accuracy: 0.8590\n",
            "Epoch 3/1000\n",
            "625/625 [==============================] - 21s 34ms/step - loss: 0.1529 - binary_accuracy: 0.9449 - val_loss: 0.4016 - val_binary_accuracy: 0.8678\n",
            "Epoch 4/1000\n",
            "625/625 [==============================] - 20s 31ms/step - loss: 0.0970 - binary_accuracy: 0.9671 - val_loss: 0.4728 - val_binary_accuracy: 0.8504\n",
            "Epoch 5/1000\n",
            "625/625 [==============================] - 19s 31ms/step - loss: 0.0861 - binary_accuracy: 0.9699 - val_loss: 0.3970 - val_binary_accuracy: 0.8446\n",
            "Epoch 6/1000\n",
            "625/625 [==============================] - 19s 30ms/step - loss: 0.4416 - binary_accuracy: 0.7868 - val_loss: 0.4597 - val_binary_accuracy: 0.7893\n",
            "Epoch 7/1000\n",
            "625/625 [==============================] - 18s 29ms/step - loss: 0.3906 - binary_accuracy: 0.8325 - val_loss: 0.5305 - val_binary_accuracy: 0.7636\n",
            "Epoch 8/1000\n",
            "625/625 [==============================] - 19s 30ms/step - loss: 0.4745 - binary_accuracy: 0.7779 - val_loss: 0.5495 - val_binary_accuracy: 0.7222\n",
            "156/156 [==============================] - 2s 11ms/step - loss: 0.4008 - binary_accuracy: 0.8680\n",
            "625/625 [==============================] - 8s 13ms/step - loss: 0.1313 - binary_accuracy: 0.9534\n",
            "Time,s\tTraining accuracy\tValidation accuracy\tEpochs\n",
            "213\t0.93\t0.875\t6\n",
            "198\t0.929\t0.873\t6\n",
            "231\t0.953\t0.868\t8\n"
          ]
        }
      ]
    },
    {
      "cell_type": "markdown",
      "id": "c61ad4bf-0c84-4c9c-9dc7-bed79517be72",
      "metadata": {
        "id": "c61ad4bf-0c84-4c9c-9dc7-bed79517be72"
      },
      "source": [
        "# [Text classification with Transformer](https://keras.io/examples/nlp/text_classification_with_transformer/)"
      ]
    },
    {
      "cell_type": "code",
      "execution_count": null,
      "id": "2aefae93-965a-4f31-805a-68bc783c255a",
      "metadata": {
        "id": "2aefae93-965a-4f31-805a-68bc783c255a"
      },
      "outputs": [],
      "source": [
        "import TextclassificationwithTransformer"
      ]
    },
    {
      "cell_type": "code",
      "execution_count": null,
      "id": "714ce6c7-f798-4f95-bfd3-685f62483985",
      "metadata": {
        "jupyter": {
          "outputs_hidden": true
        },
        "id": "714ce6c7-f798-4f95-bfd3-685f62483985",
        "outputId": "e50a184e-8efc-4107-ff82-f47c9d029f16",
        "colab": {
          "base_uri": "https://localhost:8080/"
        }
      },
      "outputs": [
        {
          "output_type": "stream",
          "name": "stdout",
          "text": [
            "Epoch 1/1000\n",
            "625/625 [==============================] - 78s 115ms/step - loss: 0.4197 - binary_accuracy: 0.7928 - val_loss: 0.2901 - val_binary_accuracy: 0.8800\n",
            "Epoch 2/1000\n",
            "625/625 [==============================] - 27s 44ms/step - loss: 0.2289 - binary_accuracy: 0.9107 - val_loss: 0.3045 - val_binary_accuracy: 0.8746\n",
            "Epoch 3/1000\n",
            "625/625 [==============================] - 19s 31ms/step - loss: 0.1661 - binary_accuracy: 0.9403 - val_loss: 0.3752 - val_binary_accuracy: 0.8572\n",
            "Epoch 4/1000\n",
            "625/625 [==============================] - 15s 24ms/step - loss: 0.1208 - binary_accuracy: 0.9586 - val_loss: 0.4431 - val_binary_accuracy: 0.8588\n",
            "Epoch 5/1000\n",
            "625/625 [==============================] - 15s 24ms/step - loss: 0.0890 - binary_accuracy: 0.9724 - val_loss: 0.5866 - val_binary_accuracy: 0.8456\n",
            "Epoch 6/1000\n",
            "625/625 [==============================] - 13s 21ms/step - loss: 0.0702 - binary_accuracy: 0.9783 - val_loss: 0.6105 - val_binary_accuracy: 0.8530\n",
            "157/157 [==============================] - 1s 7ms/step - loss: 0.2901 - binary_accuracy: 0.8800\n",
            "625/625 [==============================] - 4s 7ms/step - loss: 0.2173 - binary_accuracy: 0.9219\n",
            "Epoch 1/1000\n",
            "625/625 [==============================] - 63s 92ms/step - loss: 0.4533 - binary_accuracy: 0.7634 - val_loss: 0.2945 - val_binary_accuracy: 0.8778\n",
            "Epoch 2/1000\n",
            "625/625 [==============================] - 21s 34ms/step - loss: 0.2307 - binary_accuracy: 0.9100 - val_loss: 0.2984 - val_binary_accuracy: 0.8784\n",
            "Epoch 3/1000\n",
            "625/625 [==============================] - 15s 24ms/step - loss: 0.1665 - binary_accuracy: 0.9402 - val_loss: 0.3522 - val_binary_accuracy: 0.8670\n",
            "Epoch 4/1000\n",
            "625/625 [==============================] - 15s 25ms/step - loss: 0.1164 - binary_accuracy: 0.9607 - val_loss: 0.4798 - val_binary_accuracy: 0.8628\n",
            "Epoch 5/1000\n",
            "625/625 [==============================] - 13s 21ms/step - loss: 0.0883 - binary_accuracy: 0.9713 - val_loss: 0.5520 - val_binary_accuracy: 0.8558\n",
            "Epoch 6/1000\n",
            "625/625 [==============================] - 13s 21ms/step - loss: 0.0684 - binary_accuracy: 0.9779 - val_loss: 0.5876 - val_binary_accuracy: 0.8510\n",
            "Epoch 7/1000\n",
            "625/625 [==============================] - 14s 22ms/step - loss: 0.0571 - binary_accuracy: 0.9822 - val_loss: 0.5982 - val_binary_accuracy: 0.8496\n",
            "157/157 [==============================] - 1s 7ms/step - loss: 0.2984 - binary_accuracy: 0.8784\n",
            "625/625 [==============================] - 4s 7ms/step - loss: 0.1444 - binary_accuracy: 0.9548\n",
            "Epoch 1/1000\n",
            "625/625 [==============================] - 62s 91ms/step - loss: 0.4578 - binary_accuracy: 0.7573 - val_loss: 0.3137 - val_binary_accuracy: 0.8690\n",
            "Epoch 2/1000\n",
            "625/625 [==============================] - 25s 40ms/step - loss: 0.2442 - binary_accuracy: 0.9048 - val_loss: 0.2946 - val_binary_accuracy: 0.8788\n",
            "Epoch 3/1000\n",
            "625/625 [==============================] - 16s 26ms/step - loss: 0.1843 - binary_accuracy: 0.9318 - val_loss: 0.3258 - val_binary_accuracy: 0.8736\n",
            "Epoch 4/1000\n",
            "625/625 [==============================] - 14s 22ms/step - loss: 0.1294 - binary_accuracy: 0.9560 - val_loss: 0.4311 - val_binary_accuracy: 0.8628\n",
            "Epoch 5/1000\n",
            "625/625 [==============================] - 13s 22ms/step - loss: 0.0916 - binary_accuracy: 0.9696 - val_loss: 0.5190 - val_binary_accuracy: 0.8574\n",
            "Epoch 6/1000\n",
            "625/625 [==============================] - 13s 21ms/step - loss: 0.0707 - binary_accuracy: 0.9772 - val_loss: 0.5585 - val_binary_accuracy: 0.8532\n",
            "Epoch 7/1000\n",
            "625/625 [==============================] - 13s 21ms/step - loss: 0.0556 - binary_accuracy: 0.9837 - val_loss: 0.6470 - val_binary_accuracy: 0.8532\n",
            "157/157 [==============================] - 1s 7ms/step - loss: 0.2946 - binary_accuracy: 0.8788\n",
            "625/625 [==============================] - 7s 12ms/step - loss: 0.1518 - binary_accuracy: 0.9495\n",
            "Time,s\tTraining accuracy\tValidation accuracy\tEpochs\n",
            "168\t0.922\t0.88\t6\n",
            "221\t0.955\t0.878\t7\n",
            "156\t0.95\t0.879\t7\n"
          ]
        }
      ],
      "source": [
        "compileAndFit(train_ds ,val_ds ,lambda:TextclassificationwithTransformer.newTransformer(sequence_length,max_features),0.001)"
      ]
    },
    {
      "cell_type": "markdown",
      "id": "91b2546d-e2d3-4d0f-8e01-c5bc8c6d8b37",
      "metadata": {
        "id": "91b2546d-e2d3-4d0f-8e01-c5bc8c6d8b37"
      },
      "source": [
        "# [Review Classification using Active Learning](https://keras.io/examples/nlp/active_learning_review_classification/)"
      ]
    },
    {
      "cell_type": "code",
      "execution_count": null,
      "id": "97ae9a80-9dcb-43b3-a4dc-497e0cd4295c",
      "metadata": {
        "id": "97ae9a80-9dcb-43b3-a4dc-497e0cd4295c",
        "colab": {
          "base_uri": "https://localhost:8080/"
        },
        "outputId": "99e69418-834e-4751-e5a5-9af39131e3d3"
      },
      "outputs": [
        {
          "output_type": "stream",
          "name": "stdout",
          "text": [
            "Epoch 1/1000\n",
            "625/625 [==============================] - 82s 121ms/step - loss: 0.4403 - binary_accuracy: 0.7962 - val_loss: 0.3150 - val_binary_accuracy: 0.8694\n",
            "Epoch 2/1000\n",
            "625/625 [==============================] - 33s 52ms/step - loss: 0.2485 - binary_accuracy: 0.9115 - val_loss: 0.3279 - val_binary_accuracy: 0.8602\n",
            "Epoch 3/1000\n",
            "625/625 [==============================] - 25s 40ms/step - loss: 0.1728 - binary_accuracy: 0.9438 - val_loss: 0.3859 - val_binary_accuracy: 0.8626\n",
            "Epoch 4/1000\n",
            "625/625 [==============================] - 22s 35ms/step - loss: 0.1199 - binary_accuracy: 0.9628 - val_loss: 0.4513 - val_binary_accuracy: 0.8522\n",
            "Epoch 5/1000\n",
            "625/625 [==============================] - 19s 31ms/step - loss: 0.0898 - binary_accuracy: 0.9731 - val_loss: 0.5152 - val_binary_accuracy: 0.8546\n",
            "Epoch 6/1000\n",
            "625/625 [==============================] - 21s 33ms/step - loss: 0.0558 - binary_accuracy: 0.9836 - val_loss: 0.6031 - val_binary_accuracy: 0.8584\n",
            "157/157 [==============================] - 2s 11ms/step - loss: 0.3150 - binary_accuracy: 0.8694\n",
            "625/625 [==============================] - 10s 15ms/step - loss: 0.2436 - binary_accuracy: 0.9243\n",
            "Epoch 1/1000\n",
            "625/625 [==============================] - 67s 99ms/step - loss: 0.4615 - binary_accuracy: 0.7750 - val_loss: 0.3512 - val_binary_accuracy: 0.8424\n",
            "Epoch 2/1000\n",
            "625/625 [==============================] - 28s 45ms/step - loss: 0.2532 - binary_accuracy: 0.9090 - val_loss: 0.3046 - val_binary_accuracy: 0.8736\n",
            "Epoch 3/1000\n",
            "625/625 [==============================] - 23s 36ms/step - loss: 0.1714 - binary_accuracy: 0.9462 - val_loss: 0.3302 - val_binary_accuracy: 0.8732\n",
            "Epoch 4/1000\n",
            "625/625 [==============================] - 24s 38ms/step - loss: 0.1125 - binary_accuracy: 0.9685 - val_loss: 0.4290 - val_binary_accuracy: 0.8674\n",
            "Epoch 5/1000\n",
            "625/625 [==============================] - 19s 30ms/step - loss: 0.0801 - binary_accuracy: 0.9788 - val_loss: 0.5020 - val_binary_accuracy: 0.8688\n",
            "Epoch 6/1000\n",
            "625/625 [==============================] - 19s 31ms/step - loss: 0.0546 - binary_accuracy: 0.9853 - val_loss: 0.5764 - val_binary_accuracy: 0.8566\n",
            "Epoch 7/1000\n",
            "625/625 [==============================] - 21s 34ms/step - loss: 0.0455 - binary_accuracy: 0.9882 - val_loss: 0.6549 - val_binary_accuracy: 0.8650\n",
            "157/157 [==============================] - 2s 11ms/step - loss: 0.3046 - binary_accuracy: 0.8736\n",
            "625/625 [==============================] - 8s 13ms/step - loss: 0.1345 - binary_accuracy: 0.9549\n",
            "Epoch 1/1000\n",
            "625/625 [==============================] - 65s 97ms/step - loss: 0.4531 - binary_accuracy: 0.7807 - val_loss: 0.3229 - val_binary_accuracy: 0.8696\n",
            "Epoch 2/1000\n",
            "625/625 [==============================] - 32s 51ms/step - loss: 0.2595 - binary_accuracy: 0.9051 - val_loss: 0.2994 - val_binary_accuracy: 0.8754\n",
            "Epoch 3/1000\n",
            "625/625 [==============================] - 22s 35ms/step - loss: 0.1797 - binary_accuracy: 0.9408 - val_loss: 0.3236 - val_binary_accuracy: 0.8660\n",
            "Epoch 4/1000\n",
            "625/625 [==============================] - 20s 32ms/step - loss: 0.1247 - binary_accuracy: 0.9607 - val_loss: 0.4329 - val_binary_accuracy: 0.8580\n",
            "Epoch 5/1000\n",
            "625/625 [==============================] - 21s 34ms/step - loss: 0.0934 - binary_accuracy: 0.9694 - val_loss: 0.5683 - val_binary_accuracy: 0.8378\n",
            "Epoch 6/1000\n",
            "625/625 [==============================] - 19s 31ms/step - loss: 0.0643 - binary_accuracy: 0.9794 - val_loss: 0.6098 - val_binary_accuracy: 0.8612\n",
            "Epoch 7/1000\n",
            "625/625 [==============================] - 21s 33ms/step - loss: 0.0409 - binary_accuracy: 0.9869 - val_loss: 0.6553 - val_binary_accuracy: 0.8600\n",
            "157/157 [==============================] - 3s 17ms/step - loss: 0.2994 - binary_accuracy: 0.8754\n",
            "625/625 [==============================] - 9s 14ms/step - loss: 0.1350 - binary_accuracy: 0.9574\n",
            "Time,s\tTraining accuracy\tValidation accuracy\tEpochs\n",
            "205\t0.924\t0.869\t6\n",
            "239\t0.955\t0.874\t7\n",
            "200\t0.957\t0.875\t7\n"
          ]
        }
      ],
      "source": [
        "compileAndFit(train_ds,val_ds,lambda:Sequential([\n",
        "            layers.Embedding(vocablaryLength, output_dim=128),\n",
        "            layers.Bidirectional(layers.LSTM(32, return_sequences=True)),\n",
        "            layers.GlobalMaxPool1D(),\n",
        "            layers.Dense(20, activation=\"relu\"),\n",
        "            layers.Dropout(0.5),\n",
        "            layers.Dense(1 )\n",
        "  ]),0.001)"
      ]
    },
    {
      "cell_type": "markdown",
      "id": "ca58757d-df23-40fe-87ed-23641ba59e26",
      "metadata": {
        "id": "ca58757d-df23-40fe-87ed-23641ba59e26"
      },
      "source": [
        "# [Load text](https://www.tensorflow.org/tutorials/load_data/text)"
      ]
    },
    {
      "cell_type": "code",
      "execution_count": null,
      "id": "62c2d0dd-39c3-48f7-9732-8ba6e93c6b05",
      "metadata": {
        "id": "62c2d0dd-39c3-48f7-9732-8ba6e93c6b05",
        "colab": {
          "base_uri": "https://localhost:8080/"
        },
        "outputId": "a6532c0a-b169-457f-e00e-e0ba750a3b29"
      },
      "outputs": [
        {
          "output_type": "stream",
          "name": "stdout",
          "text": [
            "Epoch 1/1000\n",
            "625/625 [==============================] - 57s 82ms/step - loss: 0.4913 - binary_accuracy: 0.7508 - val_loss: 0.3605 - val_binary_accuracy: 0.8407\n",
            "Epoch 2/1000\n",
            "625/625 [==============================] - 14s 23ms/step - loss: 0.2627 - binary_accuracy: 0.8915 - val_loss: 0.3088 - val_binary_accuracy: 0.8722\n",
            "Epoch 3/1000\n",
            "625/625 [==============================] - 10s 16ms/step - loss: 0.1442 - binary_accuracy: 0.9499 - val_loss: 0.3310 - val_binary_accuracy: 0.8710\n",
            "Epoch 4/1000\n",
            "625/625 [==============================] - 9s 14ms/step - loss: 0.0591 - binary_accuracy: 0.9858 - val_loss: 0.3801 - val_binary_accuracy: 0.8678\n",
            "Epoch 5/1000\n",
            "625/625 [==============================] - 7s 11ms/step - loss: 0.0180 - binary_accuracy: 0.9983 - val_loss: 0.4330 - val_binary_accuracy: 0.8678\n",
            "Epoch 6/1000\n",
            "625/625 [==============================] - 9s 14ms/step - loss: 0.0052 - binary_accuracy: 0.9998 - val_loss: 0.4788 - val_binary_accuracy: 0.8666\n",
            "Epoch 7/1000\n",
            "625/625 [==============================] - 6s 10ms/step - loss: 0.0021 - binary_accuracy: 0.9999 - val_loss: 0.5212 - val_binary_accuracy: 0.8636\n",
            "156/156 [==============================] - 1s 7ms/step - loss: 0.3089 - binary_accuracy: 0.8724\n",
            "625/625 [==============================] - 3s 5ms/step - loss: 0.1401 - binary_accuracy: 0.9593\n",
            "Epoch 1/1000\n",
            "625/625 [==============================] - 49s 77ms/step - loss: 0.4879 - binary_accuracy: 0.7569 - val_loss: 0.3504 - val_binary_accuracy: 0.8452\n",
            "Epoch 2/1000\n",
            "625/625 [==============================] - 16s 26ms/step - loss: 0.2627 - binary_accuracy: 0.8921 - val_loss: 0.3156 - val_binary_accuracy: 0.8688\n",
            "Epoch 3/1000\n",
            "625/625 [==============================] - 10s 15ms/step - loss: 0.1450 - binary_accuracy: 0.9508 - val_loss: 0.3340 - val_binary_accuracy: 0.8672\n",
            "Epoch 4/1000\n",
            "625/625 [==============================] - 9s 14ms/step - loss: 0.0614 - binary_accuracy: 0.9850 - val_loss: 0.3821 - val_binary_accuracy: 0.8650\n",
            "Epoch 5/1000\n",
            "625/625 [==============================] - 6s 10ms/step - loss: 0.0186 - binary_accuracy: 0.9975 - val_loss: 0.4409 - val_binary_accuracy: 0.8654\n",
            "Epoch 6/1000\n",
            "625/625 [==============================] - 7s 11ms/step - loss: 0.0050 - binary_accuracy: 0.9998 - val_loss: 0.4912 - val_binary_accuracy: 0.8648\n",
            "Epoch 7/1000\n",
            "625/625 [==============================] - 7s 12ms/step - loss: 0.0019 - binary_accuracy: 1.0000 - val_loss: 0.5340 - val_binary_accuracy: 0.8648\n",
            "156/156 [==============================] - 1s 4ms/step - loss: 0.3147 - binary_accuracy: 0.8696\n",
            "625/625 [==============================] - 4s 6ms/step - loss: 0.1412 - binary_accuracy: 0.9577\n",
            "Epoch 1/1000\n",
            "625/625 [==============================] - 47s 73ms/step - loss: 0.4829 - binary_accuracy: 0.7478 - val_loss: 0.3409 - val_binary_accuracy: 0.8504\n",
            "Epoch 2/1000\n",
            "625/625 [==============================] - 21s 33ms/step - loss: 0.2595 - binary_accuracy: 0.8941 - val_loss: 0.3090 - val_binary_accuracy: 0.8690\n",
            "Epoch 3/1000\n",
            "625/625 [==============================] - 11s 18ms/step - loss: 0.1401 - binary_accuracy: 0.9526 - val_loss: 0.3297 - val_binary_accuracy: 0.8686\n",
            "Epoch 4/1000\n",
            "625/625 [==============================] - 9s 14ms/step - loss: 0.0586 - binary_accuracy: 0.9863 - val_loss: 0.3763 - val_binary_accuracy: 0.8652\n",
            "Epoch 5/1000\n",
            "625/625 [==============================] - 8s 13ms/step - loss: 0.0179 - binary_accuracy: 0.9980 - val_loss: 0.4253 - val_binary_accuracy: 0.8708\n",
            "Epoch 6/1000\n",
            "625/625 [==============================] - 5s 8ms/step - loss: 0.0052 - binary_accuracy: 0.9998 - val_loss: 0.4724 - val_binary_accuracy: 0.8676\n",
            "Epoch 7/1000\n",
            "625/625 [==============================] - 6s 9ms/step - loss: 0.0020 - binary_accuracy: 1.0000 - val_loss: 0.5082 - val_binary_accuracy: 0.8672\n",
            "Epoch 8/1000\n",
            "625/625 [==============================] - 7s 11ms/step - loss: 0.0011 - binary_accuracy: 1.0000 - val_loss: 0.5430 - val_binary_accuracy: 0.8652\n",
            "Epoch 9/1000\n",
            "625/625 [==============================] - 6s 9ms/step - loss: 6.4993e-04 - binary_accuracy: 1.0000 - val_loss: 0.5716 - val_binary_accuracy: 0.8648\n",
            "Epoch 10/1000\n",
            "625/625 [==============================] - 7s 11ms/step - loss: 4.0981e-04 - binary_accuracy: 1.0000 - val_loss: 0.5995 - val_binary_accuracy: 0.8652\n",
            "156/156 [==============================] - 1s 4ms/step - loss: 0.4263 - binary_accuracy: 0.8706\n",
            "625/625 [==============================] - 3s 4ms/step - loss: 0.0060 - binary_accuracy: 0.9998\n",
            "Time,s\tTraining accuracy\tValidation accuracy\tEpochs\n",
            "116\t0.959\t0.872\t7\n",
            "144\t0.958\t0.87\t7\n",
            "178\t1.0\t0.871\t10\n"
          ]
        }
      ],
      "source": [
        "compileAndFit(train_ds,val_ds,lambda:Sequential([\n",
        "      layers.Embedding(vocablaryLength, 64),\n",
        "      layers.Conv1D(64, 5, padding=\"valid\", activation=\"relu\", strides=2),\n",
        "      layers.GlobalMaxPooling1D(),\n",
        "      layers.Dense(1)\n",
        "  ]),0.001)"
      ]
    },
    {
      "cell_type": "markdown",
      "id": "8c796ba1-3e6f-430d-b13b-c73d5dec6917",
      "metadata": {
        "id": "8c796ba1-3e6f-430d-b13b-c73d5dec6917"
      },
      "source": [
        "# [Text classification from scratch](https://keras.io/examples/nlp/text_classification_from_scratch/)"
      ]
    },
    {
      "cell_type": "code",
      "execution_count": null,
      "id": "83bf0ac7-eed8-4283-bb99-c682fff66167",
      "metadata": {
        "id": "83bf0ac7-eed8-4283-bb99-c682fff66167",
        "colab": {
          "base_uri": "https://localhost:8080/"
        },
        "outputId": "1516c28f-77ac-423d-f1b6-ab2c39165202"
      },
      "outputs": [
        {
          "output_type": "stream",
          "name": "stdout",
          "text": [
            "Epoch 1/1000\n",
            "625/625 [==============================] - 58s 82ms/step - loss: 0.5136 - binary_accuracy: 0.7039 - val_loss: 0.3277 - val_binary_accuracy: 0.8544\n",
            "Epoch 2/1000\n",
            "625/625 [==============================] - 20s 32ms/step - loss: 0.2567 - binary_accuracy: 0.8961 - val_loss: 0.3355 - val_binary_accuracy: 0.8638\n",
            "Epoch 3/1000\n",
            "625/625 [==============================] - 12s 19ms/step - loss: 0.1542 - binary_accuracy: 0.9420 - val_loss: 0.4502 - val_binary_accuracy: 0.8560\n",
            "Epoch 4/1000\n",
            "625/625 [==============================] - 11s 18ms/step - loss: 0.0846 - binary_accuracy: 0.9693 - val_loss: 0.5606 - val_binary_accuracy: 0.8570\n",
            "Epoch 5/1000\n",
            "625/625 [==============================] - 8s 12ms/step - loss: 0.0558 - binary_accuracy: 0.9806 - val_loss: 0.6114 - val_binary_accuracy: 0.8518\n",
            "Epoch 6/1000\n",
            "625/625 [==============================] - 8s 13ms/step - loss: 0.0394 - binary_accuracy: 0.9862 - val_loss: 0.7370 - val_binary_accuracy: 0.8550\n",
            "Epoch 7/1000\n",
            "625/625 [==============================] - 9s 14ms/step - loss: 0.0338 - binary_accuracy: 0.9880 - val_loss: 0.7488 - val_binary_accuracy: 0.8588\n",
            "157/157 [==============================] - 1s 5ms/step - loss: 0.3355 - binary_accuracy: 0.8638\n",
            "625/625 [==============================] - 3s 5ms/step - loss: 0.1096 - binary_accuracy: 0.9651\n",
            "Epoch 1/1000\n",
            "625/625 [==============================] - 54s 83ms/step - loss: 0.5165 - binary_accuracy: 0.7042 - val_loss: 0.3308 - val_binary_accuracy: 0.8580\n",
            "Epoch 2/1000\n",
            "625/625 [==============================] - 17s 27ms/step - loss: 0.2616 - binary_accuracy: 0.8931 - val_loss: 0.3302 - val_binary_accuracy: 0.8662\n",
            "Epoch 3/1000\n",
            "625/625 [==============================] - 13s 20ms/step - loss: 0.1508 - binary_accuracy: 0.9434 - val_loss: 0.4106 - val_binary_accuracy: 0.8602\n",
            "Epoch 4/1000\n",
            "625/625 [==============================] - 10s 16ms/step - loss: 0.0836 - binary_accuracy: 0.9696 - val_loss: 0.4904 - val_binary_accuracy: 0.8606\n",
            "Epoch 5/1000\n",
            "625/625 [==============================] - 9s 15ms/step - loss: 0.0539 - binary_accuracy: 0.9806 - val_loss: 0.5268 - val_binary_accuracy: 0.8634\n",
            "Epoch 6/1000\n",
            "625/625 [==============================] - 8s 13ms/step - loss: 0.0336 - binary_accuracy: 0.9881 - val_loss: 0.7061 - val_binary_accuracy: 0.8606\n",
            "Epoch 7/1000\n",
            "625/625 [==============================] - 11s 17ms/step - loss: 0.0285 - binary_accuracy: 0.9891 - val_loss: 0.7529 - val_binary_accuracy: 0.8480\n",
            "157/157 [==============================] - 1s 5ms/step - loss: 0.3302 - binary_accuracy: 0.8662\n",
            "625/625 [==============================] - 3s 5ms/step - loss: 0.1093 - binary_accuracy: 0.9639\n",
            "Epoch 1/1000\n",
            "625/625 [==============================] - 54s 83ms/step - loss: 0.5331 - binary_accuracy: 0.6880 - val_loss: 0.3440 - val_binary_accuracy: 0.8474\n",
            "Epoch 2/1000\n",
            "625/625 [==============================] - 16s 25ms/step - loss: 0.2632 - binary_accuracy: 0.8933 - val_loss: 0.3289 - val_binary_accuracy: 0.8620\n",
            "Epoch 3/1000\n",
            "625/625 [==============================] - 14s 22ms/step - loss: 0.1567 - binary_accuracy: 0.9423 - val_loss: 0.4050 - val_binary_accuracy: 0.8558\n",
            "Epoch 4/1000\n",
            "625/625 [==============================] - 11s 18ms/step - loss: 0.0890 - binary_accuracy: 0.9682 - val_loss: 0.5401 - val_binary_accuracy: 0.8574\n",
            "Epoch 5/1000\n",
            "625/625 [==============================] - 9s 14ms/step - loss: 0.0544 - binary_accuracy: 0.9802 - val_loss: 0.6022 - val_binary_accuracy: 0.8520\n",
            "Epoch 6/1000\n",
            "625/625 [==============================] - 8s 13ms/step - loss: 0.0390 - binary_accuracy: 0.9858 - val_loss: 0.6483 - val_binary_accuracy: 0.8578\n",
            "Epoch 7/1000\n",
            "625/625 [==============================] - 8s 13ms/step - loss: 0.0299 - binary_accuracy: 0.9902 - val_loss: 0.7959 - val_binary_accuracy: 0.8570\n",
            "157/157 [==============================] - 1s 5ms/step - loss: 0.3289 - binary_accuracy: 0.8620\n",
            "625/625 [==============================] - 3s 5ms/step - loss: 0.1246 - binary_accuracy: 0.9611\n",
            "Time,s\tTraining accuracy\tValidation accuracy\tEpochs\n",
            "162\t0.965\t0.864\t7\n",
            "122\t0.964\t0.866\t7\n",
            "131\t0.961\t0.862\t7\n"
          ]
        }
      ],
      "source": [
        "compileAndFit(train_ds,val_ds,lambda:Sequential(\n",
        "    [\n",
        "        layers.Embedding(vocablaryLength, 128),\n",
        "        layers.Dropout(0.5),\n",
        "        layers.Conv1D(128, 7, padding=\"valid\", activation=\"relu\", strides=3),\n",
        "        layers.Conv1D(128, 7, padding=\"valid\", activation=\"relu\", strides=3),\n",
        "        layers.GlobalMaxPooling1D(),\n",
        "        layers.Dense(128, activation=\"relu\"),\n",
        "        layers.Dropout(0.5),\n",
        "        layers.Dense(1, name=\"predictions\"),\n",
        "    ]),0.001)"
      ]
    },
    {
      "cell_type": "markdown",
      "id": "16d2462c-16f6-42de-9ec1-ded232410953",
      "metadata": {
        "id": "16d2462c-16f6-42de-9ec1-ded232410953"
      },
      "source": [
        "# [Text classification with Switch Transformer](https://keras.io/examples/nlp/text_classification_with_switch_transformer/)"
      ]
    },
    {
      "cell_type": "code",
      "execution_count": null,
      "id": "12bfa7e9-329d-445f-bad7-467793b4c7ed",
      "metadata": {
        "id": "12bfa7e9-329d-445f-bad7-467793b4c7ed"
      },
      "outputs": [],
      "source": [
        "import TextclassificationwithSwitchTransformer\n"
      ]
    },
    {
      "cell_type": "code",
      "source": [
        "tmp=TextclassificationwithSwitchTransformer.newClassifier(batch_size,sequence_length,max_features)"
      ],
      "metadata": {
        "id": "7njgSecO4tva"
      },
      "id": "7njgSecO4tva",
      "execution_count": null,
      "outputs": []
    },
    {
      "cell_type": "code",
      "source": [
        "tmp.compile(loss=losses.BinaryCrossentropy(from_logits=True),\n",
        "              optimizer=tf.keras.optimizers.Adam(),\n",
        "              metrics=tf.metrics.BinaryAccuracy(threshold=0.0))"
      ],
      "metadata": {
        "id": "LaLg6MxT4y3g"
      },
      "id": "LaLg6MxT4y3g",
      "execution_count": null,
      "outputs": []
    },
    {
      "cell_type": "code",
      "execution_count": null,
      "id": "0dd7d85c-ddfe-452d-af5b-d02374fc4b2f",
      "metadata": {
        "colab": {
          "base_uri": "https://localhost:8080/"
        },
        "id": "0dd7d85c-ddfe-452d-af5b-d02374fc4b2f",
        "jupyter": {
          "outputs_hidden": true
        },
        "outputId": "57df4e4a-177e-4647-8974-c1808d53c49c",
        "scrolled": true,
        "tags": []
      },
      "outputs": [
        {
          "output_type": "stream",
          "name": "stdout",
          "text": [
            "Epoch 1/1000\n",
            "625/625 [==============================] - 87s 120ms/step - loss: 1.4191 - binary_accuracy: 0.8015 - val_loss: 1.2911 - val_binary_accuracy: 0.8786\n",
            "Epoch 2/1000\n",
            "625/625 [==============================] - 30s 47ms/step - loss: 1.2434 - binary_accuracy: 0.9053 - val_loss: 1.2954 - val_binary_accuracy: 0.8752\n",
            "Epoch 3/1000\n",
            "625/625 [==============================] - 24s 38ms/step - loss: 1.1937 - binary_accuracy: 0.9279 - val_loss: 1.3336 - val_binary_accuracy: 0.8742\n",
            "Epoch 4/1000\n",
            "625/625 [==============================] - 21s 33ms/step - loss: 1.1352 - binary_accuracy: 0.9528 - val_loss: 1.4442 - val_binary_accuracy: 0.8602\n",
            "Epoch 5/1000\n",
            "625/625 [==============================] - 19s 29ms/step - loss: 1.1044 - binary_accuracy: 0.9664 - val_loss: 1.5095 - val_binary_accuracy: 0.8552\n",
            "Epoch 6/1000\n",
            "625/625 [==============================] - 19s 31ms/step - loss: 1.0798 - binary_accuracy: 0.9748 - val_loss: 1.5672 - val_binary_accuracy: 0.8534\n",
            "156/156 [==============================] - 2s 11ms/step - loss: 1.2909 - binary_accuracy: 0.8788\n",
            "625/625 [==============================] - 8s 13ms/step - loss: 1.2146 - binary_accuracy: 0.9276\n",
            "Epoch 1/1000\n",
            "625/625 [==============================] - 72s 98ms/step - loss: 1.4454 - binary_accuracy: 0.7846 - val_loss: 1.3294 - val_binary_accuracy: 0.8600\n",
            "Epoch 2/1000\n",
            "625/625 [==============================] - 26s 42ms/step - loss: 1.2455 - binary_accuracy: 0.9042 - val_loss: 1.3025 - val_binary_accuracy: 0.8766\n",
            "Epoch 3/1000\n",
            "625/625 [==============================] - 23s 37ms/step - loss: 1.1788 - binary_accuracy: 0.9348 - val_loss: 1.3483 - val_binary_accuracy: 0.8644\n",
            "Epoch 4/1000\n",
            "625/625 [==============================] - 20s 32ms/step - loss: 1.1302 - binary_accuracy: 0.9564 - val_loss: 1.4238 - val_binary_accuracy: 0.8626\n",
            "Epoch 5/1000\n",
            "625/625 [==============================] - 19s 30ms/step - loss: 1.1012 - binary_accuracy: 0.9661 - val_loss: 1.5368 - val_binary_accuracy: 0.8574\n",
            "Epoch 6/1000\n",
            "625/625 [==============================] - 18s 29ms/step - loss: 1.0738 - binary_accuracy: 0.9766 - val_loss: 1.5536 - val_binary_accuracy: 0.8534\n",
            "Epoch 7/1000\n",
            "625/625 [==============================] - 20s 31ms/step - loss: 1.0559 - binary_accuracy: 0.9839 - val_loss: 1.7240 - val_binary_accuracy: 0.8482\n",
            "156/156 [==============================] - 2s 12ms/step - loss: 1.3035 - binary_accuracy: 0.8766\n",
            "625/625 [==============================] - 8s 13ms/step - loss: 1.1609 - binary_accuracy: 0.9455\n",
            "Epoch 1/1000\n",
            "625/625 [==============================] - 71s 95ms/step - loss: 1.4481 - binary_accuracy: 0.7782 - val_loss: 1.3062 - val_binary_accuracy: 0.8692\n",
            "Epoch 2/1000\n",
            "625/625 [==============================] - 27s 43ms/step - loss: 1.2453 - binary_accuracy: 0.9058 - val_loss: 1.3004 - val_binary_accuracy: 0.8748\n",
            "Epoch 3/1000\n",
            "625/625 [==============================] - 20s 32ms/step - loss: 1.1820 - binary_accuracy: 0.9350 - val_loss: 1.3302 - val_binary_accuracy: 0.8786\n",
            "Epoch 4/1000\n",
            "625/625 [==============================] - 21s 34ms/step - loss: 1.1387 - binary_accuracy: 0.9517 - val_loss: 1.4305 - val_binary_accuracy: 0.8618\n",
            "Epoch 5/1000\n",
            "625/625 [==============================] - 19s 30ms/step - loss: 1.1155 - binary_accuracy: 0.9615 - val_loss: 1.4567 - val_binary_accuracy: 0.8586\n",
            "Epoch 6/1000\n",
            "625/625 [==============================] - 18s 29ms/step - loss: 1.0806 - binary_accuracy: 0.9750 - val_loss: 1.5885 - val_binary_accuracy: 0.8612\n",
            "Epoch 7/1000\n",
            "625/625 [==============================] - 19s 31ms/step - loss: 1.0614 - binary_accuracy: 0.9811 - val_loss: 1.6612 - val_binary_accuracy: 0.8516\n",
            "Epoch 8/1000\n",
            "625/625 [==============================] - 17s 27ms/step - loss: 1.0610 - binary_accuracy: 0.9811 - val_loss: 1.6357 - val_binary_accuracy: 0.8544\n",
            "156/156 [==============================] - 2s 12ms/step - loss: 1.3303 - binary_accuracy: 0.8788\n",
            "625/625 [==============================] - 8s 12ms/step - loss: 1.1023 - binary_accuracy: 0.9707\n",
            "Time,s\tTraining accuracy\tValidation accuracy\tEpochs\n",
            "233\t0.928\t0.879\t6\n",
            "220\t0.946\t0.877\t7\n",
            "248\t0.971\t0.879\t8\n"
          ]
        }
      ],
      "source": [
        "#https://keras.io/examples/nlp/text_classification_with_switch_transformer/\n",
        "compileAndFit(train_ds,val_ds,lambda:TextclassificationwithSwitchTransformer.newClassifier(batch_size,sequence_length,max_features),0.001)\n"
      ]
    },
    {
      "cell_type": "markdown",
      "id": "1dfa6559-3991-40f4-b504-b035f3bb8962",
      "metadata": {
        "id": "1dfa6559-3991-40f4-b504-b035f3bb8962"
      },
      "source": [
        "# [End-to-end Masked Language Modeling with BERT](https://keras.io/examples/nlp/masked_language_modeling/)"
      ]
    },
    {
      "cell_type": "code",
      "execution_count": null,
      "id": "ca7d9008-5cd1-4961-b6ff-4672af3b0cdb",
      "metadata": {
        "id": "ca7d9008-5cd1-4961-b6ff-4672af3b0cdb"
      },
      "outputs": [],
      "source": [
        "import EndtoendMaskedLanguageModelingwithBERT"
      ]
    },
    {
      "cell_type": "code",
      "execution_count": null,
      "id": "e378cdde-6328-4de6-919e-78cb16511c24",
      "metadata": {
        "id": "e378cdde-6328-4de6-919e-78cb16511c24",
        "jupyter": {
          "source_hidden": true
        },
        "colab": {
          "base_uri": "https://localhost:8080/"
        },
        "outputId": "dd7a75ca-9b54-4c10-c374-fc0694e23943"
      },
      "outputs": [
        {
          "output_type": "stream",
          "name": "stdout",
          "text": [
            "Epoch 1/1000\n",
            "625/625 [==============================] - 76s 113ms/step - loss: 0.7019 - binary_accuracy: 0.5044 - val_loss: 0.6929 - val_binary_accuracy: 0.5074\n",
            "Epoch 2/1000\n",
            "625/625 [==============================] - 25s 40ms/step - loss: 0.6955 - binary_accuracy: 0.5066 - val_loss: 0.7222 - val_binary_accuracy: 0.4924\n",
            "Epoch 3/1000\n",
            "625/625 [==============================] - 18s 28ms/step - loss: 0.6162 - binary_accuracy: 0.6240 - val_loss: 0.4274 - val_binary_accuracy: 0.8172\n",
            "Epoch 4/1000\n",
            "625/625 [==============================] - 14s 23ms/step - loss: 0.3316 - binary_accuracy: 0.8623 - val_loss: 0.3163 - val_binary_accuracy: 0.8720\n",
            "Epoch 5/1000\n",
            "625/625 [==============================] - 15s 24ms/step - loss: 0.1986 - binary_accuracy: 0.9262 - val_loss: 0.3893 - val_binary_accuracy: 0.8578\n",
            "Epoch 6/1000\n",
            "625/625 [==============================] - 12s 20ms/step - loss: 0.1256 - binary_accuracy: 0.9560 - val_loss: 0.4669 - val_binary_accuracy: 0.8580\n",
            "Epoch 7/1000\n",
            "625/625 [==============================] - 14s 22ms/step - loss: 0.0742 - binary_accuracy: 0.9752 - val_loss: 0.6524 - val_binary_accuracy: 0.8486\n",
            "Epoch 8/1000\n",
            "625/625 [==============================] - 12s 20ms/step - loss: 0.0518 - binary_accuracy: 0.9845 - val_loss: 0.6058 - val_binary_accuracy: 0.8506\n",
            "Epoch 9/1000\n",
            "625/625 [==============================] - 12s 18ms/step - loss: 0.0345 - binary_accuracy: 0.9901 - val_loss: 0.7914 - val_binary_accuracy: 0.8356\n",
            "157/157 [==============================] - 1s 7ms/step - loss: 0.3163 - binary_accuracy: 0.8720\n",
            "625/625 [==============================] - 6s 9ms/step - loss: 0.1950 - binary_accuracy: 0.9349\n",
            "Epoch 1/1000\n",
            "625/625 [==============================] - 63s 94ms/step - loss: 0.7024 - binary_accuracy: 0.5028 - val_loss: 0.7415 - val_binary_accuracy: 0.4924\n",
            "Epoch 2/1000\n",
            "625/625 [==============================] - 20s 33ms/step - loss: 0.6836 - binary_accuracy: 0.5335 - val_loss: 0.6258 - val_binary_accuracy: 0.6526\n",
            "Epoch 3/1000\n",
            "625/625 [==============================] - 16s 25ms/step - loss: 0.4187 - binary_accuracy: 0.8105 - val_loss: 0.3988 - val_binary_accuracy: 0.8222\n",
            "Epoch 4/1000\n",
            "625/625 [==============================] - 14s 22ms/step - loss: 0.2369 - binary_accuracy: 0.9075 - val_loss: 0.3649 - val_binary_accuracy: 0.8496\n",
            "Epoch 5/1000\n",
            "625/625 [==============================] - 13s 21ms/step - loss: 0.1392 - binary_accuracy: 0.9513 - val_loss: 0.4747 - val_binary_accuracy: 0.8274\n",
            "Epoch 6/1000\n",
            "625/625 [==============================] - 12s 20ms/step - loss: 0.0812 - binary_accuracy: 0.9736 - val_loss: 0.5012 - val_binary_accuracy: 0.8386\n",
            "Epoch 7/1000\n",
            "625/625 [==============================] - 12s 19ms/step - loss: 0.0468 - binary_accuracy: 0.9858 - val_loss: 0.6515 - val_binary_accuracy: 0.8368\n",
            "Epoch 8/1000\n",
            "625/625 [==============================] - 13s 20ms/step - loss: 0.0334 - binary_accuracy: 0.9908 - val_loss: 0.7001 - val_binary_accuracy: 0.8454\n",
            "Epoch 9/1000\n",
            "625/625 [==============================] - 13s 20ms/step - loss: 0.0341 - binary_accuracy: 0.9896 - val_loss: 0.6663 - val_binary_accuracy: 0.8382\n",
            "157/157 [==============================] - 1s 7ms/step - loss: 0.3649 - binary_accuracy: 0.8496\n",
            "625/625 [==============================] - 4s 7ms/step - loss: 0.1464 - binary_accuracy: 0.9515\n",
            "Epoch 1/1000\n",
            "625/625 [==============================] - 60s 88ms/step - loss: 0.6998 - binary_accuracy: 0.5009 - val_loss: 0.7305 - val_binary_accuracy: 0.5076\n",
            "Epoch 2/1000\n",
            "625/625 [==============================] - 20s 31ms/step - loss: 0.6953 - binary_accuracy: 0.5029 - val_loss: 0.7309 - val_binary_accuracy: 0.5076\n",
            "Epoch 3/1000\n",
            "625/625 [==============================] - 17s 26ms/step - loss: 0.6942 - binary_accuracy: 0.5004 - val_loss: 0.7331 - val_binary_accuracy: 0.5076\n",
            "Epoch 4/1000\n",
            "625/625 [==============================] - 13s 21ms/step - loss: 0.4686 - binary_accuracy: 0.7775 - val_loss: 0.3532 - val_binary_accuracy: 0.8498\n",
            "Epoch 5/1000\n",
            "625/625 [==============================] - 14s 22ms/step - loss: 0.2491 - binary_accuracy: 0.9005 - val_loss: 0.3375 - val_binary_accuracy: 0.8648\n",
            "Epoch 6/1000\n",
            "625/625 [==============================] - 13s 21ms/step - loss: 0.1582 - binary_accuracy: 0.9445 - val_loss: 0.4056 - val_binary_accuracy: 0.8618\n",
            "Epoch 7/1000\n",
            "625/625 [==============================] - 11s 18ms/step - loss: 0.1031 - binary_accuracy: 0.9650 - val_loss: 0.4837 - val_binary_accuracy: 0.8634\n",
            "Epoch 8/1000\n",
            "625/625 [==============================] - 12s 19ms/step - loss: 0.0639 - binary_accuracy: 0.9797 - val_loss: 0.5665 - val_binary_accuracy: 0.8506\n",
            "Epoch 9/1000\n",
            "625/625 [==============================] - 12s 19ms/step - loss: 0.0392 - binary_accuracy: 0.9882 - val_loss: 0.5786 - val_binary_accuracy: 0.8494\n",
            "Epoch 10/1000\n",
            "625/625 [==============================] - 13s 22ms/step - loss: 0.0323 - binary_accuracy: 0.9904 - val_loss: 0.6295 - val_binary_accuracy: 0.8574\n",
            "157/157 [==============================] - 1s 7ms/step - loss: 0.3375 - binary_accuracy: 0.8648\n",
            "625/625 [==============================] - 5s 8ms/step - loss: 0.1415 - binary_accuracy: 0.9511\n",
            "Time,s\tTraining accuracy\tValidation accuracy\tEpochs\n",
            "224\t0.935\t0.872\t9\n",
            "197\t0.951\t0.85\t9\n",
            "196\t0.951\t0.865\t10\n"
          ]
        }
      ],
      "source": [
        "compileAndFit(train_ds,val_ds,lambda:EndtoendMaskedLanguageModelingwithBERT.newBert(sequence_length,vocablaryLength),0.001)"
      ]
    },
    {
      "cell_type": "markdown",
      "id": "5bd5eb97-b07e-4fa2-98cc-9c40db4b682f",
      "metadata": {
        "id": "5bd5eb97-b07e-4fa2-98cc-9c40db4b682f"
      },
      "source": [
        "# [Text classification with TensorFlow Hub: Movie reviews](https://www.tensorflow.org/tutorials/keras/text_classification_with_hub)\n",
        "# [Text Classification with Movie Reviews](https://www.tensorflow.org/hub/tutorials/tf2_text_classification)"
      ]
    },
    {
      "cell_type": "code",
      "execution_count": null,
      "id": "525677d8-01ab-4c32-beb1-a656161a71d4",
      "metadata": {
        "id": "525677d8-01ab-4c32-beb1-a656161a71d4",
        "colab": {
          "base_uri": "https://localhost:8080/"
        },
        "outputId": "2b892f3e-794e-4ba1-f124-907cfc0c5208"
      },
      "outputs": [
        {
          "output_type": "stream",
          "name": "stdout",
          "text": [
            "Epoch 1/1000\n",
            "625/625 [==============================] - 116s 175ms/step - loss: 0.3719 - binary_accuracy: 0.8360 - val_loss: 0.2625 - val_binary_accuracy: 0.8914\n",
            "Epoch 2/1000\n",
            "625/625 [==============================] - 58s 92ms/step - loss: 0.1596 - binary_accuracy: 0.9412 - val_loss: 0.2713 - val_binary_accuracy: 0.8934\n",
            "Epoch 3/1000\n",
            "625/625 [==============================] - 38s 62ms/step - loss: 0.0806 - binary_accuracy: 0.9764 - val_loss: 0.3133 - val_binary_accuracy: 0.8866\n",
            "Epoch 4/1000\n",
            "625/625 [==============================] - 26s 41ms/step - loss: 0.0340 - binary_accuracy: 0.9920 - val_loss: 0.3778 - val_binary_accuracy: 0.8820\n",
            "Epoch 5/1000\n",
            "625/625 [==============================] - 19s 31ms/step - loss: 0.0118 - binary_accuracy: 0.9984 - val_loss: 0.4397 - val_binary_accuracy: 0.8820\n",
            "Epoch 6/1000\n",
            "625/625 [==============================] - 19s 30ms/step - loss: 0.0038 - binary_accuracy: 0.9998 - val_loss: 0.4928 - val_binary_accuracy: 0.8826\n",
            "Epoch 7/1000\n",
            "625/625 [==============================] - 17s 27ms/step - loss: 0.0015 - binary_accuracy: 0.9999 - val_loss: 0.5310 - val_binary_accuracy: 0.8832\n",
            "156/156 [==============================] - 1s 5ms/step - loss: 0.2720 - binary_accuracy: 0.8930\n",
            "625/625 [==============================] - 3s 5ms/step - loss: 0.0788 - binary_accuracy: 0.9787\n",
            "Epoch 1/1000\n",
            "625/625 [==============================] - 83s 130ms/step - loss: 0.3711 - binary_accuracy: 0.8417 - val_loss: 0.2662 - val_binary_accuracy: 0.8904\n",
            "Epoch 2/1000\n",
            "625/625 [==============================] - 47s 74ms/step - loss: 0.1621 - binary_accuracy: 0.9406 - val_loss: 0.2681 - val_binary_accuracy: 0.8904\n",
            "Epoch 3/1000\n",
            "625/625 [==============================] - 35s 55ms/step - loss: 0.0791 - binary_accuracy: 0.9771 - val_loss: 0.3118 - val_binary_accuracy: 0.8914\n",
            "Epoch 4/1000\n",
            "625/625 [==============================] - 22s 35ms/step - loss: 0.0343 - binary_accuracy: 0.9917 - val_loss: 0.3908 - val_binary_accuracy: 0.8836\n",
            "Epoch 5/1000\n",
            "625/625 [==============================] - 17s 27ms/step - loss: 0.0113 - binary_accuracy: 0.9984 - val_loss: 0.4457 - val_binary_accuracy: 0.8820\n",
            "Epoch 6/1000\n",
            "625/625 [==============================] - 16s 25ms/step - loss: 0.0031 - binary_accuracy: 0.9999 - val_loss: 0.4988 - val_binary_accuracy: 0.8800\n",
            "Epoch 7/1000\n",
            "625/625 [==============================] - 14s 22ms/step - loss: 0.0012 - binary_accuracy: 1.0000 - val_loss: 0.5375 - val_binary_accuracy: 0.8798\n",
            "Epoch 8/1000\n",
            "625/625 [==============================] - 13s 20ms/step - loss: 6.1175e-04 - binary_accuracy: 1.0000 - val_loss: 0.5700 - val_binary_accuracy: 0.8808\n",
            "156/156 [==============================] - 1s 7ms/step - loss: 0.3118 - binary_accuracy: 0.8914\n",
            "625/625 [==============================] - 4s 7ms/step - loss: 0.0307 - binary_accuracy: 0.9940\n",
            "Epoch 1/1000\n",
            "625/625 [==============================] - 86s 136ms/step - loss: 0.3834 - binary_accuracy: 0.8345 - val_loss: 0.2719 - val_binary_accuracy: 0.8888\n",
            "Epoch 2/1000\n",
            "625/625 [==============================] - 49s 78ms/step - loss: 0.1629 - binary_accuracy: 0.9413 - val_loss: 0.2651 - val_binary_accuracy: 0.8920\n",
            "Epoch 3/1000\n",
            "625/625 [==============================] - 34s 54ms/step - loss: 0.0813 - binary_accuracy: 0.9760 - val_loss: 0.3114 - val_binary_accuracy: 0.8886\n",
            "Epoch 4/1000\n",
            "625/625 [==============================] - 22s 35ms/step - loss: 0.0355 - binary_accuracy: 0.9921 - val_loss: 0.3711 - val_binary_accuracy: 0.8830\n",
            "Epoch 5/1000\n",
            "625/625 [==============================] - 19s 30ms/step - loss: 0.0133 - binary_accuracy: 0.9980 - val_loss: 0.4385 - val_binary_accuracy: 0.8834\n",
            "Epoch 6/1000\n",
            "625/625 [==============================] - 16s 25ms/step - loss: 0.0043 - binary_accuracy: 0.9995 - val_loss: 0.4943 - val_binary_accuracy: 0.8810\n",
            "Epoch 7/1000\n",
            "625/625 [==============================] - 12s 19ms/step - loss: 0.0013 - binary_accuracy: 1.0000 - val_loss: 0.5383 - val_binary_accuracy: 0.8814\n",
            "156/156 [==============================] - 1s 5ms/step - loss: 0.2646 - binary_accuracy: 0.8924\n",
            "625/625 [==============================] - 4s 6ms/step - loss: 0.0800 - binary_accuracy: 0.9789\n",
            "Time,s\tTraining accuracy\tValidation accuracy\tEpochs\n",
            "320\t0.979\t0.893\t7\n",
            "284\t0.994\t0.891\t8\n",
            "244\t0.979\t0.892\t7\n"
          ]
        }
      ],
      "source": [
        "compileAndFit(raw_train_ds,raw_val_ds,lambda:Sequential([\n",
        "         hub.KerasLayer(\"https://tfhub.dev/google/nnlm-en-dim50/2\", input_shape=[],dtype=tf.string, trainable=True),\n",
        "         layers.Dense(16, activation='relu'),\n",
        "         layers.Dense(1)\n",
        "        ]),0.001)"
      ]
    },
    {
      "cell_type": "markdown",
      "source": [
        "Just to test if the dense layer makes sense, it does not in the averaging model"
      ],
      "metadata": {
        "id": "5xV4CN3ADuO-"
      },
      "id": "5xV4CN3ADuO-"
    },
    {
      "cell_type": "code",
      "source": [
        "compileAndFit(raw_train_ds,raw_val_ds,lambda:Sequential([\n",
        "         hub.KerasLayer(\"https://tfhub.dev/google/nnlm-en-dim50/2\", input_shape=[],dtype=tf.string, trainable=True),\n",
        "         layers.Dense(1)\n",
        "        ]),0.001)"
      ],
      "metadata": {
        "colab": {
          "base_uri": "https://localhost:8080/"
        },
        "id": "zlnYYsxCD3ia",
        "outputId": "942d172e-fe5c-42e4-9d77-5a4cbf1d442a"
      },
      "id": "zlnYYsxCD3ia",
      "execution_count": 17,
      "outputs": [
        {
          "output_type": "stream",
          "name": "stdout",
          "text": [
            "Epoch 1/1000\n",
            "625/625 [==============================] - 120s 182ms/step - loss: 0.4178 - binary_accuracy: 0.8361 - val_loss: 0.2894 - val_binary_accuracy: 0.8872\n",
            "Epoch 2/1000\n",
            "625/625 [==============================] - 58s 93ms/step - loss: 0.2057 - binary_accuracy: 0.9254 - val_loss: 0.2610 - val_binary_accuracy: 0.8952\n",
            "Epoch 3/1000\n",
            "625/625 [==============================] - 38s 61ms/step - loss: 0.1310 - binary_accuracy: 0.9585 - val_loss: 0.2542 - val_binary_accuracy: 0.8952\n",
            "Epoch 4/1000\n",
            "625/625 [==============================] - 26s 41ms/step - loss: 0.0819 - binary_accuracy: 0.9790 - val_loss: 0.2888 - val_binary_accuracy: 0.8884\n",
            "Epoch 5/1000\n",
            "625/625 [==============================] - 20s 32ms/step - loss: 0.0507 - binary_accuracy: 0.9893 - val_loss: 0.2923 - val_binary_accuracy: 0.8934\n",
            "Epoch 6/1000\n",
            "625/625 [==============================] - 19s 30ms/step - loss: 0.0300 - binary_accuracy: 0.9954 - val_loss: 0.3211 - val_binary_accuracy: 0.8880\n",
            "Epoch 7/1000\n",
            "625/625 [==============================] - 18s 28ms/step - loss: 0.0173 - binary_accuracy: 0.9983 - val_loss: 0.3495 - val_binary_accuracy: 0.8870\n",
            "156/156 [==============================] - 1s 5ms/step - loss: 0.2616 - binary_accuracy: 0.8950\n",
            "625/625 [==============================] - 4s 7ms/step - loss: 0.1390 - binary_accuracy: 0.9581\n",
            "Epoch 1/1000\n",
            "625/625 [==============================] - 83s 131ms/step - loss: 0.4225 - binary_accuracy: 0.8268 - val_loss: 0.2971 - val_binary_accuracy: 0.8818\n",
            "Epoch 2/1000\n",
            "625/625 [==============================] - 45s 72ms/step - loss: 0.2083 - binary_accuracy: 0.9233 - val_loss: 0.2553 - val_binary_accuracy: 0.8936\n",
            "Epoch 3/1000\n",
            "625/625 [==============================] - 34s 55ms/step - loss: 0.1303 - binary_accuracy: 0.9596 - val_loss: 0.2559 - val_binary_accuracy: 0.8966\n",
            "Epoch 4/1000\n",
            "625/625 [==============================] - 23s 37ms/step - loss: 0.0826 - binary_accuracy: 0.9787 - val_loss: 0.2697 - val_binary_accuracy: 0.8942\n",
            "Epoch 5/1000\n",
            "625/625 [==============================] - 16s 26ms/step - loss: 0.0499 - binary_accuracy: 0.9904 - val_loss: 0.2927 - val_binary_accuracy: 0.8944\n",
            "Epoch 6/1000\n",
            "625/625 [==============================] - 16s 25ms/step - loss: 0.0299 - binary_accuracy: 0.9957 - val_loss: 0.3305 - val_binary_accuracy: 0.8868\n",
            "Epoch 7/1000\n",
            "625/625 [==============================] - 13s 21ms/step - loss: 0.0174 - binary_accuracy: 0.9985 - val_loss: 0.3493 - val_binary_accuracy: 0.8884\n",
            "Epoch 8/1000\n",
            "625/625 [==============================] - 12s 20ms/step - loss: 0.0101 - binary_accuracy: 0.9995 - val_loss: 0.3770 - val_binary_accuracy: 0.8866\n",
            "156/156 [==============================] - 1s 6ms/step - loss: 0.2559 - binary_accuracy: 0.8966\n",
            "625/625 [==============================] - 3s 5ms/step - loss: 0.0828 - binary_accuracy: 0.9819\n",
            "Epoch 1/1000\n",
            "625/625 [==============================] - 83s 132ms/step - loss: 0.4188 - binary_accuracy: 0.8294 - val_loss: 0.2929 - val_binary_accuracy: 0.8830\n",
            "Epoch 2/1000\n",
            "625/625 [==============================] - 45s 72ms/step - loss: 0.2061 - binary_accuracy: 0.9264 - val_loss: 0.2554 - val_binary_accuracy: 0.8952\n",
            "Epoch 3/1000\n",
            "625/625 [==============================] - 33s 53ms/step - loss: 0.1302 - binary_accuracy: 0.9592 - val_loss: 0.2563 - val_binary_accuracy: 0.8960\n",
            "Epoch 4/1000\n",
            "625/625 [==============================] - 20s 32ms/step - loss: 0.0816 - binary_accuracy: 0.9794 - val_loss: 0.2693 - val_binary_accuracy: 0.8950\n",
            "Epoch 5/1000\n",
            "625/625 [==============================] - 16s 26ms/step - loss: 0.0505 - binary_accuracy: 0.9890 - val_loss: 0.2948 - val_binary_accuracy: 0.8924\n",
            "Epoch 6/1000\n",
            "625/625 [==============================] - 14s 22ms/step - loss: 0.0300 - binary_accuracy: 0.9952 - val_loss: 0.3216 - val_binary_accuracy: 0.8888\n",
            "Epoch 7/1000\n",
            "625/625 [==============================] - 11s 18ms/step - loss: 0.0172 - binary_accuracy: 0.9983 - val_loss: 0.3520 - val_binary_accuracy: 0.8872\n",
            "Epoch 8/1000\n",
            "625/625 [==============================] - 13s 20ms/step - loss: 0.0100 - binary_accuracy: 0.9994 - val_loss: 0.3830 - val_binary_accuracy: 0.8852\n",
            "156/156 [==============================] - 1s 5ms/step - loss: 0.2561 - binary_accuracy: 0.8962\n",
            "625/625 [==============================] - 4s 7ms/step - loss: 0.0809 - binary_accuracy: 0.9808\n",
            "Time,s\tTraining accuracy\tValidation accuracy\tEpochs\n",
            "324\t0.958\t0.895\t7\n",
            "307\t0.982\t0.897\t8\n",
            "240\t0.981\t0.896\t8\n"
          ]
        }
      ]
    },
    {
      "cell_type": "markdown",
      "id": "1b0369d2-2d6a-41b3-a690-0ac0e1abf1d8",
      "metadata": {
        "id": "1b0369d2-2d6a-41b3-a690-0ac0e1abf1d8"
      },
      "source": [
        "# [Classify text with BERT](https://www.tensorflow.org/text/tutorials/classify_text_with_bert)"
      ]
    },
    {
      "cell_type": "code",
      "execution_count": 33,
      "id": "717747c1-f5c9-45cb-a3c2-4a25caf607d9",
      "metadata": {
        "id": "717747c1-f5c9-45cb-a3c2-4a25caf607d9"
      },
      "outputs": [],
      "source": [
        "tfhub_handle_encoder = 'https://tfhub.dev/google/electra_base/2'\n",
        "tfhub_handle_preprocess = 'https://tfhub.dev/tensorflow/bert_en_uncased_preprocess/3'"
      ]
    },
    {
      "cell_type": "code",
      "execution_count": 34,
      "id": "4b52687e-83dd-4c19-a004-b1b621fd7e19",
      "metadata": {
        "id": "4b52687e-83dd-4c19-a004-b1b621fd7e19"
      },
      "outputs": [],
      "source": [
        "def build_classifier_model():\n",
        "  text_input = tf.keras.layers.Input(shape=(), dtype=tf.string, name='text')\n",
        "  preprocessing_layer = hub.KerasLayer(tfhub_handle_preprocess, name='preprocessing')\n",
        "  encoder_inputs = preprocessing_layer(text_input)\n",
        "  encoder = hub.KerasLayer(tfhub_handle_encoder, trainable=True, name='BERT_encoder')\n",
        "  outputs = encoder(encoder_inputs)\n",
        "  net = outputs['pooled_output']\n",
        "  net = tf.keras.layers.Dropout(0.1)(net)\n",
        "  net = tf.keras.layers.Dense(1, activation=None, name='classifier')(net)\n",
        "  return tf.keras.Model(text_input, net)\n"
      ]
    },
    {
      "cell_type": "code",
      "execution_count": 38,
      "id": "fe7a0935-6131-4219-99c8-79be6ef681c1",
      "metadata": {
        "colab": {
          "base_uri": "https://localhost:8080/"
        },
        "id": "fe7a0935-6131-4219-99c8-79be6ef681c1",
        "outputId": "f6aae25c-40df-47e2-e278-04e931fb1be0"
      },
      "outputs": [
        {
          "output_type": "stream",
          "name": "stdout",
          "text": [
            "Epoch 1/1000\n",
            "625/625 [==============================] - 347s 467ms/step - loss: 0.2844 - binary_accuracy: 0.8784 - val_loss: 0.2583 - val_binary_accuracy: 0.8920\n",
            "Epoch 2/1000\n",
            "625/625 [==============================] - 276s 442ms/step - loss: 0.1658 - binary_accuracy: 0.9376 - val_loss: 0.2681 - val_binary_accuracy: 0.9091\n",
            "Epoch 3/1000\n",
            "625/625 [==============================] - 272s 436ms/step - loss: 0.0933 - binary_accuracy: 0.9683 - val_loss: 0.3673 - val_binary_accuracy: 0.9054\n",
            "Epoch 4/1000\n",
            "625/625 [==============================] - 271s 433ms/step - loss: 0.0589 - binary_accuracy: 0.9796 - val_loss: 0.4661 - val_binary_accuracy: 0.9014\n",
            "Epoch 5/1000\n",
            "625/625 [==============================] - 253s 405ms/step - loss: 0.0381 - binary_accuracy: 0.9876 - val_loss: 0.4658 - val_binary_accuracy: 0.9087\n",
            "Epoch 6/1000\n",
            "625/625 [==============================] - 251s 401ms/step - loss: 0.0272 - binary_accuracy: 0.9913 - val_loss: 0.5224 - val_binary_accuracy: 0.9058\n",
            "Epoch 7/1000\n",
            "625/625 [==============================] - 265s 423ms/step - loss: 0.0302 - binary_accuracy: 0.9909 - val_loss: 0.4695 - val_binary_accuracy: 0.9026\n",
            "156/156 [==============================] - 26s 166ms/step - loss: 0.2695 - binary_accuracy: 0.9085\n",
            "625/625 [==============================] - 106s 169ms/step - loss: 0.0697 - binary_accuracy: 0.9765\n",
            "Epoch 1/1000\n",
            "625/625 [==============================] - 327s 451ms/step - loss: 0.2841 - binary_accuracy: 0.8762 - val_loss: 0.2599 - val_binary_accuracy: 0.8872\n",
            "Epoch 2/1000\n",
            "625/625 [==============================] - 268s 429ms/step - loss: 0.1584 - binary_accuracy: 0.9405 - val_loss: 0.2707 - val_binary_accuracy: 0.9069\n",
            "Epoch 3/1000\n",
            "625/625 [==============================] - 266s 426ms/step - loss: 0.0908 - binary_accuracy: 0.9682 - val_loss: 0.4035 - val_binary_accuracy: 0.9004\n",
            "Epoch 4/1000\n",
            "625/625 [==============================] - 267s 427ms/step - loss: 0.0578 - binary_accuracy: 0.9811 - val_loss: 0.4454 - val_binary_accuracy: 0.8984\n",
            "Epoch 5/1000\n",
            "625/625 [==============================] - 266s 425ms/step - loss: 0.0378 - binary_accuracy: 0.9871 - val_loss: 0.4426 - val_binary_accuracy: 0.9052\n",
            "Epoch 6/1000\n",
            "625/625 [==============================] - 248s 397ms/step - loss: 0.0280 - binary_accuracy: 0.9907 - val_loss: 0.5714 - val_binary_accuracy: 0.8986\n",
            "Epoch 7/1000\n",
            "625/625 [==============================] - 250s 399ms/step - loss: 0.0229 - binary_accuracy: 0.9928 - val_loss: 0.4727 - val_binary_accuracy: 0.9071\n",
            "Epoch 8/1000\n",
            "625/625 [==============================] - 265s 425ms/step - loss: 0.0205 - binary_accuracy: 0.9941 - val_loss: 0.3922 - val_binary_accuracy: 0.9036\n",
            "Epoch 9/1000\n",
            "625/625 [==============================] - 249s 398ms/step - loss: 0.0178 - binary_accuracy: 0.9942 - val_loss: 0.5702 - val_binary_accuracy: 0.8976\n",
            "Epoch 10/1000\n",
            "625/625 [==============================] - 265s 424ms/step - loss: 0.0186 - binary_accuracy: 0.9939 - val_loss: 0.5078 - val_binary_accuracy: 0.9091\n",
            "Epoch 11/1000\n",
            "625/625 [==============================] - 249s 398ms/step - loss: 0.0157 - binary_accuracy: 0.9952 - val_loss: 0.5141 - val_binary_accuracy: 0.9079\n",
            "Epoch 12/1000\n",
            "625/625 [==============================] - 263s 421ms/step - loss: 0.0168 - binary_accuracy: 0.9947 - val_loss: 0.3944 - val_binary_accuracy: 0.9069\n",
            "Epoch 13/1000\n",
            "625/625 [==============================] - 265s 424ms/step - loss: 0.0127 - binary_accuracy: 0.9958 - val_loss: 0.5403 - val_binary_accuracy: 0.9081\n",
            "Epoch 14/1000\n",
            "625/625 [==============================] - 266s 426ms/step - loss: 0.0106 - binary_accuracy: 0.9965 - val_loss: 0.5080 - val_binary_accuracy: 0.9077\n",
            "Epoch 15/1000\n",
            "625/625 [==============================] - 264s 422ms/step - loss: 0.0113 - binary_accuracy: 0.9962 - val_loss: 0.6854 - val_binary_accuracy: 0.9044\n",
            "156/156 [==============================] - 26s 169ms/step - loss: 0.5082 - binary_accuracy: 0.9089\n",
            "625/625 [==============================] - 106s 170ms/step - loss: 0.0032 - binary_accuracy: 0.9988\n",
            "Epoch 1/1000\n",
            "625/625 [==============================] - 310s 426ms/step - loss: 0.2834 - binary_accuracy: 0.8805 - val_loss: 0.2286 - val_binary_accuracy: 0.9105\n",
            "Epoch 2/1000\n",
            "625/625 [==============================] - 266s 426ms/step - loss: 0.1595 - binary_accuracy: 0.9391 - val_loss: 0.2840 - val_binary_accuracy: 0.9069\n",
            "Epoch 3/1000\n",
            "625/625 [==============================] - 250s 400ms/step - loss: 0.0887 - binary_accuracy: 0.9682 - val_loss: 0.3191 - val_binary_accuracy: 0.8982\n",
            "Epoch 4/1000\n",
            "625/625 [==============================] - 251s 401ms/step - loss: 0.0533 - binary_accuracy: 0.9820 - val_loss: 0.4247 - val_binary_accuracy: 0.8954\n",
            "Epoch 5/1000\n",
            "625/625 [==============================] - 264s 423ms/step - loss: 0.0388 - binary_accuracy: 0.9869 - val_loss: 0.3723 - val_binary_accuracy: 0.9071\n",
            "Epoch 6/1000\n",
            "625/625 [==============================] - 265s 424ms/step - loss: 0.0268 - binary_accuracy: 0.9913 - val_loss: 0.4937 - val_binary_accuracy: 0.9034\n",
            "156/156 [==============================] - 27s 170ms/step - loss: 0.2292 - binary_accuracy: 0.9099\n",
            "625/625 [==============================] - 107s 171ms/step - loss: 0.1302 - binary_accuracy: 0.9546\n",
            "Time,s\tTraining accuracy\tValidation accuracy\tEpochs\n",
            "1987\t0.976\t0.908\t7\n",
            "4172\t0.999\t0.909\t15\n",
            "1618\t0.955\t0.91\t6\n"
          ]
        }
      ],
      "source": [
        "compileAndFit(raw_train_ds,raw_val_ds,build_classifier_model,0.00003)"
      ]
    }
  ],
  "metadata": {
    "accelerator": "GPU",
    "colab": {
      "gpuType": "V100",
      "provenance": [],
      "collapsed_sections": [
        "64cad533-a232-4fea-8366-ab19d9927c7a",
        "7c702e39-6025-4455-813f-b5623f3952c2",
        "41aa2dbf-03fc-43bd-b8e6-28b03ff95bdc",
        "QVJBS5OQRv-x",
        "d2EyICcBSJH3",
        "Vh-HcnLtSfgk",
        "324ac481-0c27-492e-82fd-d895d5f840a1",
        "5bcb87db-528d-4df7-8c81-287d684a357a",
        "599c1578-9120-40a2-9a89-838be5de2123",
        "be37e0de-c7a5-4672-a6f6-fe7d48d64d98",
        "c61ad4bf-0c84-4c9c-9dc7-bed79517be72",
        "91b2546d-e2d3-4d0f-8e01-c5bc8c6d8b37",
        "ca58757d-df23-40fe-87ed-23641ba59e26",
        "8c796ba1-3e6f-430d-b13b-c73d5dec6917",
        "16d2462c-16f6-42de-9ec1-ded232410953",
        "1dfa6559-3991-40f4-b504-b035f3bb8962",
        "5bd5eb97-b07e-4fa2-98cc-9c40db4b682f"
      ]
    },
    "kernelspec": {
      "display_name": "Python 3",
      "name": "python3"
    },
    "language_info": {
      "codemirror_mode": {
        "name": "ipython",
        "version": 3
      },
      "file_extension": ".py",
      "mimetype": "text/x-python",
      "name": "python",
      "nbconvert_exporter": "python",
      "pygments_lexer": "ipython3",
      "version": "3.10.11"
    }
  },
  "nbformat": 4,
  "nbformat_minor": 5
}